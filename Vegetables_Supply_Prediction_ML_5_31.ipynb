{
  "cells": [
    {
      "cell_type": "code",
      "execution_count": null,
      "metadata": {
        "id": "Qh13Sry9Gelz",
        "colab": {
          "base_uri": "https://localhost:8080/"
        },
        "outputId": "f628ccbd-d963-47f7-aa27-57fbb85b0c31"
      },
      "outputs": [
        {
          "output_type": "stream",
          "name": "stdout",
          "text": [
            "Looking in indexes: https://pypi.org/simple, https://us-python.pkg.dev/colab-wheels/public/simple/\n",
            "Requirement already satisfied: geemap in /usr/local/lib/python3.7/dist-packages (0.13.7)\n",
            "Requirement already satisfied: folium>=0.11.0 in /usr/local/lib/python3.7/dist-packages (from geemap) (0.12.1.post1)\n",
            "Requirement already satisfied: geocoder in /usr/local/lib/python3.7/dist-packages (from geemap) (1.38.1)\n",
            "Requirement already satisfied: pycrs in /usr/local/lib/python3.7/dist-packages (from geemap) (1.0.2)\n",
            "Requirement already satisfied: matplotlib in /usr/local/lib/python3.7/dist-packages (from geemap) (3.2.2)\n",
            "Requirement already satisfied: ipytree in /usr/local/lib/python3.7/dist-packages (from geemap) (0.2.1)\n",
            "Requirement already satisfied: sankee in /usr/local/lib/python3.7/dist-packages (from geemap) (0.0.7)\n",
            "Requirement already satisfied: geeadd>=0.5.1 in /usr/local/lib/python3.7/dist-packages (from geemap) (0.5.5)\n",
            "Requirement already satisfied: geojson in /usr/local/lib/python3.7/dist-packages (from geemap) (2.5.0)\n",
            "Requirement already satisfied: whiteboxgui>=0.6.0 in /usr/local/lib/python3.7/dist-packages (from geemap) (0.7.0)\n",
            "Requirement already satisfied: earthengine-api>=0.1.304 in /usr/local/lib/python3.7/dist-packages (from geemap) (0.1.310)\n",
            "Requirement already satisfied: python-box in /usr/local/lib/python3.7/dist-packages (from geemap) (6.0.2)\n",
            "Requirement already satisfied: mapclassify>=2.4.0 in /usr/local/lib/python3.7/dist-packages (from geemap) (2.4.3)\n",
            "Requirement already satisfied: jupyterlab>=3 in /usr/local/lib/python3.7/dist-packages (from geemap) (3.4.2)\n",
            "Requirement already satisfied: pillow in /usr/local/lib/python3.7/dist-packages (from geemap) (7.1.2)\n",
            "Requirement already satisfied: bqplot in /usr/local/lib/python3.7/dist-packages (from geemap) (0.12.33)\n",
            "Requirement already satisfied: pyshp>=2.1.3 in /usr/local/lib/python3.7/dist-packages (from geemap) (2.3.0)\n",
            "Requirement already satisfied: ipyevents in /usr/local/lib/python3.7/dist-packages (from geemap) (2.0.1)\n",
            "Requirement already satisfied: ffmpeg-python in /usr/local/lib/python3.7/dist-packages (from geemap) (0.2.0)\n",
            "Requirement already satisfied: numpy in /usr/local/lib/python3.7/dist-packages (from geemap) (1.21.6)\n",
            "Requirement already satisfied: gdown in /usr/local/lib/python3.7/dist-packages (from geemap) (4.4.0)\n",
            "Requirement already satisfied: colour in /usr/local/lib/python3.7/dist-packages (from geemap) (0.1.5)\n",
            "Requirement already satisfied: ipyfilechooser>=0.6.0 in /usr/local/lib/python3.7/dist-packages (from geemap) (0.6.0)\n",
            "Requirement already satisfied: ipyleaflet>=0.14.0 in /usr/local/lib/python3.7/dist-packages (from geemap) (0.16.0)\n",
            "Requirement already satisfied: xyzservices in /usr/local/lib/python3.7/dist-packages (from geemap) (2022.4.0)\n",
            "Requirement already satisfied: ee-extra>=0.0.10 in /usr/local/lib/python3.7/dist-packages (from geemap) (0.0.13)\n",
            "Requirement already satisfied: pandas in /usr/local/lib/python3.7/dist-packages (from geemap) (1.3.5)\n",
            "Requirement already satisfied: google-cloud-storage in /usr/local/lib/python3.7/dist-packages (from earthengine-api>=0.1.304->geemap) (1.18.1)\n",
            "Requirement already satisfied: future in /usr/local/lib/python3.7/dist-packages (from earthengine-api>=0.1.304->geemap) (0.16.0)\n",
            "Requirement already satisfied: google-api-python-client<2,>=1.12.1 in /usr/local/lib/python3.7/dist-packages (from earthengine-api>=0.1.304->geemap) (1.12.11)\n",
            "Requirement already satisfied: httplib2shim in /usr/local/lib/python3.7/dist-packages (from earthengine-api>=0.1.304->geemap) (0.0.3)\n",
            "Requirement already satisfied: google-auth-httplib2>=0.0.3 in /usr/local/lib/python3.7/dist-packages (from earthengine-api>=0.1.304->geemap) (0.0.4)\n",
            "Requirement already satisfied: six in /usr/local/lib/python3.7/dist-packages (from earthengine-api>=0.1.304->geemap) (1.15.0)\n",
            "Requirement already satisfied: google-auth>=1.4.1 in /usr/local/lib/python3.7/dist-packages (from earthengine-api>=0.1.304->geemap) (1.35.0)\n",
            "Requirement already satisfied: httplib2<1dev,>=0.9.2 in /usr/local/lib/python3.7/dist-packages (from earthengine-api>=0.1.304->geemap) (0.17.4)\n",
            "Requirement already satisfied: branca>=0.3.0 in /usr/local/lib/python3.7/dist-packages (from folium>=0.11.0->geemap) (0.5.0)\n",
            "Requirement already satisfied: requests in /usr/local/lib/python3.7/dist-packages (from folium>=0.11.0->geemap) (2.23.0)\n",
            "Requirement already satisfied: jinja2>=2.9 in /usr/local/lib/python3.7/dist-packages (from folium>=0.11.0->geemap) (3.1.2)\n",
            "Requirement already satisfied: beautifulsoup4>=4.9.0 in /usr/local/lib/python3.7/dist-packages (from geeadd>=0.5.1->geemap) (4.11.1)\n",
            "Requirement already satisfied: logzero>=1.5.0 in /usr/local/lib/python3.7/dist-packages (from geeadd>=0.5.1->geemap) (1.7.0)\n",
            "Requirement already satisfied: soupsieve>1.2 in /usr/local/lib/python3.7/dist-packages (from beautifulsoup4>=4.9.0->geeadd>=0.5.1->geemap) (2.3.2.post1)\n",
            "Requirement already satisfied: google-api-core<3dev,>=1.21.0 in /usr/local/lib/python3.7/dist-packages (from google-api-python-client<2,>=1.12.1->earthengine-api>=0.1.304->geemap) (1.31.5)\n",
            "Requirement already satisfied: uritemplate<4dev,>=3.0.0 in /usr/local/lib/python3.7/dist-packages (from google-api-python-client<2,>=1.12.1->earthengine-api>=0.1.304->geemap) (3.0.1)\n",
            "Requirement already satisfied: pytz in /usr/local/lib/python3.7/dist-packages (from google-api-core<3dev,>=1.21.0->google-api-python-client<2,>=1.12.1->earthengine-api>=0.1.304->geemap) (2022.1)\n",
            "Requirement already satisfied: packaging>=14.3 in /usr/local/lib/python3.7/dist-packages (from google-api-core<3dev,>=1.21.0->google-api-python-client<2,>=1.12.1->earthengine-api>=0.1.304->geemap) (21.3)\n",
            "Requirement already satisfied: googleapis-common-protos<2.0dev,>=1.6.0 in /usr/local/lib/python3.7/dist-packages (from google-api-core<3dev,>=1.21.0->google-api-python-client<2,>=1.12.1->earthengine-api>=0.1.304->geemap) (1.56.1)\n",
            "Requirement already satisfied: setuptools>=40.3.0 in /usr/local/lib/python3.7/dist-packages (from google-api-core<3dev,>=1.21.0->google-api-python-client<2,>=1.12.1->earthengine-api>=0.1.304->geemap) (57.4.0)\n",
            "Requirement already satisfied: protobuf>=3.12.0 in /usr/local/lib/python3.7/dist-packages (from google-api-core<3dev,>=1.21.0->google-api-python-client<2,>=1.12.1->earthengine-api>=0.1.304->geemap) (3.17.3)\n",
            "Requirement already satisfied: rsa<5,>=3.1.4 in /usr/local/lib/python3.7/dist-packages (from google-auth>=1.4.1->earthengine-api>=0.1.304->geemap) (4.8)\n",
            "Requirement already satisfied: pyasn1-modules>=0.2.1 in /usr/local/lib/python3.7/dist-packages (from google-auth>=1.4.1->earthengine-api>=0.1.304->geemap) (0.2.8)\n",
            "Requirement already satisfied: cachetools<5.0,>=2.0.0 in /usr/local/lib/python3.7/dist-packages (from google-auth>=1.4.1->earthengine-api>=0.1.304->geemap) (4.2.4)\n",
            "Requirement already satisfied: ipywidgets in /usr/local/lib/python3.7/dist-packages (from ipyfilechooser>=0.6.0->geemap) (7.7.0)\n",
            "Requirement already satisfied: traittypes<3,>=0.2.1 in /usr/local/lib/python3.7/dist-packages (from ipyleaflet>=0.14.0->geemap) (0.2.1)\n",
            "Requirement already satisfied: widgetsnbextension~=3.6.0 in /usr/local/lib/python3.7/dist-packages (from ipywidgets->ipyfilechooser>=0.6.0->geemap) (3.6.0)\n",
            "Requirement already satisfied: traitlets>=4.3.1 in /usr/local/lib/python3.7/dist-packages (from ipywidgets->ipyfilechooser>=0.6.0->geemap) (5.1.1)\n",
            "Requirement already satisfied: ipykernel>=4.5.1 in /usr/local/lib/python3.7/dist-packages (from ipywidgets->ipyfilechooser>=0.6.0->geemap) (4.10.1)\n",
            "Requirement already satisfied: jupyterlab-widgets>=1.0.0 in /usr/local/lib/python3.7/dist-packages (from ipywidgets->ipyfilechooser>=0.6.0->geemap) (1.1.0)\n",
            "Requirement already satisfied: ipython>=4.0.0 in /usr/local/lib/python3.7/dist-packages (from ipywidgets->ipyfilechooser>=0.6.0->geemap) (5.5.0)\n",
            "Requirement already satisfied: ipython-genutils~=0.2.0 in /usr/local/lib/python3.7/dist-packages (from ipywidgets->ipyfilechooser>=0.6.0->geemap) (0.2.0)\n",
            "Requirement already satisfied: nbformat>=4.2.0 in /usr/local/lib/python3.7/dist-packages (from ipywidgets->ipyfilechooser>=0.6.0->geemap) (5.4.0)\n",
            "Requirement already satisfied: tornado>=4.0 in /usr/local/lib/python3.7/dist-packages (from ipykernel>=4.5.1->ipywidgets->ipyfilechooser>=0.6.0->geemap) (6.1)\n",
            "Requirement already satisfied: jupyter-client in /usr/local/lib/python3.7/dist-packages (from ipykernel>=4.5.1->ipywidgets->ipyfilechooser>=0.6.0->geemap) (7.3.1)\n",
            "Requirement already satisfied: pygments in /usr/local/lib/python3.7/dist-packages (from ipython>=4.0.0->ipywidgets->ipyfilechooser>=0.6.0->geemap) (2.6.1)\n",
            "Requirement already satisfied: simplegeneric>0.8 in /usr/local/lib/python3.7/dist-packages (from ipython>=4.0.0->ipywidgets->ipyfilechooser>=0.6.0->geemap) (0.8.1)\n",
            "Requirement already satisfied: prompt-toolkit<2.0.0,>=1.0.4 in /usr/local/lib/python3.7/dist-packages (from ipython>=4.0.0->ipywidgets->ipyfilechooser>=0.6.0->geemap) (1.0.18)\n",
            "Requirement already satisfied: decorator in /usr/local/lib/python3.7/dist-packages (from ipython>=4.0.0->ipywidgets->ipyfilechooser>=0.6.0->geemap) (4.4.2)\n",
            "Requirement already satisfied: pexpect in /usr/local/lib/python3.7/dist-packages (from ipython>=4.0.0->ipywidgets->ipyfilechooser>=0.6.0->geemap) (4.8.0)\n",
            "Requirement already satisfied: pickleshare in /usr/local/lib/python3.7/dist-packages (from ipython>=4.0.0->ipywidgets->ipyfilechooser>=0.6.0->geemap) (0.7.5)\n",
            "Requirement already satisfied: MarkupSafe>=2.0 in /usr/local/lib/python3.7/dist-packages (from jinja2>=2.9->folium>=0.11.0->geemap) (2.0.1)\n",
            "Requirement already satisfied: jupyterlab-server~=2.10 in /usr/local/lib/python3.7/dist-packages (from jupyterlab>=3->geemap) (2.14.0)\n",
            "Requirement already satisfied: jupyter-server~=1.16 in /usr/local/lib/python3.7/dist-packages (from jupyterlab>=3->geemap) (1.17.0)\n",
            "Requirement already satisfied: nbclassic~=0.2 in /usr/local/lib/python3.7/dist-packages (from jupyterlab>=3->geemap) (0.3.7)\n",
            "Requirement already satisfied: jupyter-core in /usr/local/lib/python3.7/dist-packages (from jupyterlab>=3->geemap) (4.10.0)\n",
            "Requirement already satisfied: websocket-client in /usr/local/lib/python3.7/dist-packages (from jupyter-server~=1.16->jupyterlab>=3->geemap) (1.3.2)\n",
            "Requirement already satisfied: argon2-cffi in /usr/local/lib/python3.7/dist-packages (from jupyter-server~=1.16->jupyterlab>=3->geemap) (21.3.0)\n",
            "Requirement already satisfied: pyzmq>=17 in /usr/local/lib/python3.7/dist-packages (from jupyter-server~=1.16->jupyterlab>=3->geemap) (23.0.0)\n",
            "Requirement already satisfied: prometheus-client in /usr/local/lib/python3.7/dist-packages (from jupyter-server~=1.16->jupyterlab>=3->geemap) (0.14.1)\n",
            "Requirement already satisfied: Send2Trash in /usr/local/lib/python3.7/dist-packages (from jupyter-server~=1.16->jupyterlab>=3->geemap) (1.8.0)\n",
            "Requirement already satisfied: anyio<4,>=3.1.0 in /usr/local/lib/python3.7/dist-packages (from jupyter-server~=1.16->jupyterlab>=3->geemap) (3.6.1)\n",
            "Requirement already satisfied: nbconvert>=6.4.4 in /usr/local/lib/python3.7/dist-packages (from jupyter-server~=1.16->jupyterlab>=3->geemap) (6.5.0)\n",
            "Requirement already satisfied: terminado>=0.8.3 in /usr/local/lib/python3.7/dist-packages (from jupyter-server~=1.16->jupyterlab>=3->geemap) (0.13.3)\n",
            "Requirement already satisfied: typing-extensions in /usr/local/lib/python3.7/dist-packages (from anyio<4,>=3.1.0->jupyter-server~=1.16->jupyterlab>=3->geemap) (4.2.0)\n",
            "Requirement already satisfied: sniffio>=1.1 in /usr/local/lib/python3.7/dist-packages (from anyio<4,>=3.1.0->jupyter-server~=1.16->jupyterlab>=3->geemap) (1.2.0)\n",
            "Requirement already satisfied: idna>=2.8 in /usr/local/lib/python3.7/dist-packages (from anyio<4,>=3.1.0->jupyter-server~=1.16->jupyterlab>=3->geemap) (2.10)\n",
            "Requirement already satisfied: entrypoints in /usr/local/lib/python3.7/dist-packages (from jupyter-client->ipykernel>=4.5.1->ipywidgets->ipyfilechooser>=0.6.0->geemap) (0.4)\n",
            "Requirement already satisfied: python-dateutil>=2.8.2 in /usr/local/lib/python3.7/dist-packages (from jupyter-client->ipykernel>=4.5.1->ipywidgets->ipyfilechooser>=0.6.0->geemap) (2.8.2)\n",
            "Requirement already satisfied: nest-asyncio>=1.5.4 in /usr/local/lib/python3.7/dist-packages (from jupyter-client->ipykernel>=4.5.1->ipywidgets->ipyfilechooser>=0.6.0->geemap) (1.5.5)\n",
            "Requirement already satisfied: json5 in /usr/local/lib/python3.7/dist-packages (from jupyterlab-server~=2.10->jupyterlab>=3->geemap) (0.9.8)\n",
            "Requirement already satisfied: importlib-metadata>=3.6 in /usr/local/lib/python3.7/dist-packages (from jupyterlab-server~=2.10->jupyterlab>=3->geemap) (4.11.3)\n",
            "Requirement already satisfied: jsonschema>=3.0.1 in /usr/local/lib/python3.7/dist-packages (from jupyterlab-server~=2.10->jupyterlab>=3->geemap) (4.3.3)\n",
            "Requirement already satisfied: babel in /usr/local/lib/python3.7/dist-packages (from jupyterlab-server~=2.10->jupyterlab>=3->geemap) (2.10.1)\n",
            "Requirement already satisfied: zipp>=0.5 in /usr/local/lib/python3.7/dist-packages (from importlib-metadata>=3.6->jupyterlab-server~=2.10->jupyterlab>=3->geemap) (3.8.0)\n",
            "Requirement already satisfied: pyrsistent!=0.17.0,!=0.17.1,!=0.17.2,>=0.14.0 in /usr/local/lib/python3.7/dist-packages (from jsonschema>=3.0.1->jupyterlab-server~=2.10->jupyterlab>=3->geemap) (0.18.1)\n",
            "Requirement already satisfied: attrs>=17.4.0 in /usr/local/lib/python3.7/dist-packages (from jsonschema>=3.0.1->jupyterlab-server~=2.10->jupyterlab>=3->geemap) (21.4.0)\n",
            "Requirement already satisfied: importlib-resources>=1.4.0 in /usr/local/lib/python3.7/dist-packages (from jsonschema>=3.0.1->jupyterlab-server~=2.10->jupyterlab>=3->geemap) (5.7.1)\n",
            "Requirement already satisfied: networkx in /usr/local/lib/python3.7/dist-packages (from mapclassify>=2.4.0->geemap) (2.6.3)\n",
            "Requirement already satisfied: scikit-learn in /usr/local/lib/python3.7/dist-packages (from mapclassify>=2.4.0->geemap) (1.0.2)\n",
            "Requirement already satisfied: scipy>=1.0 in /usr/local/lib/python3.7/dist-packages (from mapclassify>=2.4.0->geemap) (1.4.1)\n",
            "Requirement already satisfied: notebook<7 in /usr/local/lib/python3.7/dist-packages (from nbclassic~=0.2->jupyterlab>=3->geemap) (5.3.1)\n",
            "Requirement already satisfied: notebook-shim>=0.1.0 in /usr/local/lib/python3.7/dist-packages (from nbclassic~=0.2->jupyterlab>=3->geemap) (0.1.0)\n",
            "Requirement already satisfied: jupyterlab-pygments in /usr/local/lib/python3.7/dist-packages (from nbconvert>=6.4.4->jupyter-server~=1.16->jupyterlab>=3->geemap) (0.2.2)\n",
            "Requirement already satisfied: tinycss2 in /usr/local/lib/python3.7/dist-packages (from nbconvert>=6.4.4->jupyter-server~=1.16->jupyterlab>=3->geemap) (1.1.1)\n",
            "Requirement already satisfied: bleach in /usr/local/lib/python3.7/dist-packages (from nbconvert>=6.4.4->jupyter-server~=1.16->jupyterlab>=3->geemap) (5.0.0)\n",
            "Requirement already satisfied: pandocfilters>=1.4.1 in /usr/local/lib/python3.7/dist-packages (from nbconvert>=6.4.4->jupyter-server~=1.16->jupyterlab>=3->geemap) (1.5.0)\n",
            "Requirement already satisfied: nbclient>=0.5.0 in /usr/local/lib/python3.7/dist-packages (from nbconvert>=6.4.4->jupyter-server~=1.16->jupyterlab>=3->geemap) (0.6.3)\n",
            "Requirement already satisfied: mistune<2,>=0.8.1 in /usr/local/lib/python3.7/dist-packages (from nbconvert>=6.4.4->jupyter-server~=1.16->jupyterlab>=3->geemap) (0.8.4)\n",
            "Requirement already satisfied: defusedxml in /usr/local/lib/python3.7/dist-packages (from nbconvert>=6.4.4->jupyter-server~=1.16->jupyterlab>=3->geemap) (0.7.1)\n",
            "Requirement already satisfied: fastjsonschema in /usr/local/lib/python3.7/dist-packages (from nbformat>=4.2.0->ipywidgets->ipyfilechooser>=0.6.0->geemap) (2.15.3)\n",
            "Requirement already satisfied: pyparsing!=3.0.5,>=2.0.2 in /usr/local/lib/python3.7/dist-packages (from packaging>=14.3->google-api-core<3dev,>=1.21.0->google-api-python-client<2,>=1.12.1->earthengine-api>=0.1.304->geemap) (3.0.9)\n",
            "Requirement already satisfied: wcwidth in /usr/local/lib/python3.7/dist-packages (from prompt-toolkit<2.0.0,>=1.0.4->ipython>=4.0.0->ipywidgets->ipyfilechooser>=0.6.0->geemap) (0.2.5)\n",
            "Requirement already satisfied: pyasn1<0.5.0,>=0.4.6 in /usr/local/lib/python3.7/dist-packages (from pyasn1-modules>=0.2.1->google-auth>=1.4.1->earthengine-api>=0.1.304->geemap) (0.4.8)\n",
            "Requirement already satisfied: chardet<4,>=3.0.2 in /usr/local/lib/python3.7/dist-packages (from requests->folium>=0.11.0->geemap) (3.0.4)\n",
            "Requirement already satisfied: certifi>=2017.4.17 in /usr/local/lib/python3.7/dist-packages (from requests->folium>=0.11.0->geemap) (2022.5.18.1)\n",
            "Requirement already satisfied: urllib3!=1.25.0,!=1.25.1,<1.26,>=1.21.1 in /usr/local/lib/python3.7/dist-packages (from requests->folium>=0.11.0->geemap) (1.24.3)\n",
            "Requirement already satisfied: ptyprocess in /usr/local/lib/python3.7/dist-packages (from terminado>=0.8.3->jupyter-server~=1.16->jupyterlab>=3->geemap) (0.7.0)\n",
            "Requirement already satisfied: whitebox in /usr/local/lib/python3.7/dist-packages (from whiteboxgui>=0.6.0->geemap) (2.1.2)\n",
            "Requirement already satisfied: argon2-cffi-bindings in /usr/local/lib/python3.7/dist-packages (from argon2-cffi->jupyter-server~=1.16->jupyterlab>=3->geemap) (21.2.0)\n",
            "Requirement already satisfied: cffi>=1.0.1 in /usr/local/lib/python3.7/dist-packages (from argon2-cffi-bindings->argon2-cffi->jupyter-server~=1.16->jupyterlab>=3->geemap) (1.15.0)\n",
            "Requirement already satisfied: pycparser in /usr/local/lib/python3.7/dist-packages (from cffi>=1.0.1->argon2-cffi-bindings->argon2-cffi->jupyter-server~=1.16->jupyterlab>=3->geemap) (2.21)\n",
            "Requirement already satisfied: webencodings in /usr/local/lib/python3.7/dist-packages (from bleach->nbconvert>=6.4.4->jupyter-server~=1.16->jupyterlab>=3->geemap) (0.5.1)\n",
            "Requirement already satisfied: filelock in /usr/local/lib/python3.7/dist-packages (from gdown->geemap) (3.7.0)\n",
            "Requirement already satisfied: tqdm in /usr/local/lib/python3.7/dist-packages (from gdown->geemap) (4.64.0)\n",
            "Requirement already satisfied: click in /usr/local/lib/python3.7/dist-packages (from geocoder->geemap) (7.1.2)\n",
            "Requirement already satisfied: ratelim in /usr/local/lib/python3.7/dist-packages (from geocoder->geemap) (0.1.6)\n",
            "Requirement already satisfied: google-cloud-core<2.0dev,>=1.0.0 in /usr/local/lib/python3.7/dist-packages (from google-cloud-storage->earthengine-api>=0.1.304->geemap) (1.0.3)\n",
            "Requirement already satisfied: google-resumable-media<0.5.0dev,>=0.3.1 in /usr/local/lib/python3.7/dist-packages (from google-cloud-storage->earthengine-api>=0.1.304->geemap) (0.4.1)\n",
            "Requirement already satisfied: kiwisolver>=1.0.1 in /usr/local/lib/python3.7/dist-packages (from matplotlib->geemap) (1.4.2)\n",
            "Requirement already satisfied: cycler>=0.10 in /usr/local/lib/python3.7/dist-packages (from matplotlib->geemap) (0.11.0)\n",
            "Requirement already satisfied: PySocks!=1.5.7,>=1.5.6 in /usr/local/lib/python3.7/dist-packages (from requests->folium>=0.11.0->geemap) (1.7.1)\n",
            "Requirement already satisfied: plotly>=5.2.2 in /usr/local/lib/python3.7/dist-packages (from sankee->geemap) (5.5.0)\n",
            "Requirement already satisfied: tenacity>=6.2.0 in /usr/local/lib/python3.7/dist-packages (from plotly>=5.2.2->sankee->geemap) (8.0.1)\n",
            "Requirement already satisfied: joblib>=0.11 in /usr/local/lib/python3.7/dist-packages (from scikit-learn->mapclassify>=2.4.0->geemap) (1.1.0)\n",
            "Requirement already satisfied: threadpoolctl>=2.0.0 in /usr/local/lib/python3.7/dist-packages (from scikit-learn->mapclassify>=2.4.0->geemap) (3.1.0)\n"
          ]
        }
      ],
      "source": [
        "!pip install geemap"
      ]
    },
    {
      "cell_type": "code",
      "execution_count": null,
      "metadata": {
        "id": "kBk9QGluGel3"
      },
      "outputs": [],
      "source": [
        "import ee\n",
        "import geemap\n",
        "\n",
        "# ee.Authenticate()\n",
        "# ee.Initialize()"
      ]
    },
    {
      "cell_type": "markdown",
      "metadata": {
        "id": "BAtOT4CyGel4"
      },
      "source": [
        "### Create an interactive map"
      ]
    },
    {
      "cell_type": "code",
      "execution_count": null,
      "metadata": {
        "id": "swRYLvQVGel4",
        "colab": {
          "base_uri": "https://localhost:8080/",
          "height": 621,
          "referenced_widgets": [
            "484f4e020e2347bebc7cb2ccb5bf878f",
            "a29f7a6f8b8c4d509173b32545fff6e2",
            "bf56d03030474fb182700be078217ba5",
            "12eeddc0e3c44f7b9af2f25188d2616c",
            "518d1f19067b4a898286a4df129418cc",
            "83eb07cd7a674fdd9e67d601a1c58a3c",
            "42759f58ab734f87b693432b4b158f55",
            "291b9cb2e6df466c95774e24f6005a31",
            "489a29194aba4c80889275a44e28b1b0",
            "19c848845c4c4295b1804da1e2144992",
            "6d6af6ca8975437ca437b0f603fa3dab",
            "83e2e11e3e824661b8aecb907b2dbfe7",
            "fbb5c20007dc48e19b1b71f11fa29285",
            "0983a44f44374c049d8b96c5b41d56a6",
            "373dfc2aa5fe48eb834d49c67bed61a8",
            "0b9ce28daa064bebb1af11243c346304",
            "8e0214f8174e4141a2465788ce3fd2da",
            "f9d04d4192b240718aaeed66a8b0dd4d",
            "c32cd2598ff8482682bf9641cda53d78",
            "2fbc2aca3f204beab76c5a2ceacdafe1",
            "536fa008f05f42d8b1e3afaa4e682cb9",
            "18e016b212504703920dd165502803df",
            "781f7a611e0446918de4ad775dc91883",
            "40af9cfd40fb4f71b04e5ee36c526ab4",
            "392c1ebee8e844209cf0ce8e09eb6d13",
            "e0fb91defc0645fca67c6c35b61c9579",
            "f81c669c1e1c4ee9b17774ccb523ac05",
            "c04aa354e96f4d79968bf5675c5d4cf0",
            "8da4ac2c6bf740f3a15d9d7aad1eb62c",
            "d89c386ea31f428c9fa33deee347d33e",
            "7b01c3099599447ca4a97074055b05ed"
          ]
        },
        "outputId": "b2dc8345-4795-4f13-d4ce-82cd3ade569b"
      },
      "outputs": [
        {
          "output_type": "display_data",
          "data": {
            "text/plain": [
              "Map(center=[20, 0], controls=(WidgetControl(options=['position', 'transparent_bg'], widget=HBox(children=(Togg…"
            ],
            "application/vnd.jupyter.widget-view+json": {
              "version_major": 2,
              "version_minor": 0,
              "model_id": "484f4e020e2347bebc7cb2ccb5bf878f"
            }
          },
          "metadata": {
            "application/vnd.jupyter.widget-view+json": {
              "colab": {
                "custom_widget_manager": {
                  "url": "https://ssl.gstatic.com/colaboratory-static/widgets/colab-cdn-widget-manager/a8874ba6619b6106/manager.min.js"
                }
              }
            }
          }
        }
      ],
      "source": [
        "Map = geemap.Map()\n",
        "Map"
      ]
    },
    {
      "cell_type": "markdown",
      "metadata": {
        "id": "7ga3HcZOGel5"
      },
      "source": [
        "### Add data to the map"
      ]
    },
    {
      "cell_type": "code",
      "execution_count": null,
      "metadata": {
        "id": "fyHwX3FyGel5"
      },
      "outputs": [],
      "source": [
        "point = ee.Geometry.Point([-80.55, 43])\n",
        "# point = ee.Geometry.Point([-87.7719, 41.8799])\n",
        "\n",
        "image = (\n",
        "    ee.ImageCollection('LANDSAT/LC08/C01/T1_SR')\n",
        "    .filterBounds(point)\n",
        "    .filterDate('2020-01-01', '2020-12-31')\n",
        "    .sort('CLOUD_COVER')\n",
        "    .first()\n",
        "    .select('B[1-7]')\n",
        ")\n",
        "\n",
        "vis_params = {'min': 0, 'max': 3000, 'bands': ['B5', 'B4', 'B3']}\n",
        "\n",
        "Map.centerObject(point, 8)\n",
        "Map.addLayer(image, vis_params, \"Landsat-8\")"
      ]
    },
    {
      "cell_type": "markdown",
      "metadata": {
        "id": "NacVlKWkGel6"
      },
      "source": [
        "### Check image properties"
      ]
    },
    {
      "cell_type": "code",
      "execution_count": null,
      "metadata": {
        "id": "ZhYRRlJ3Gel6",
        "colab": {
          "base_uri": "https://localhost:8080/",
          "height": 35
        },
        "outputId": "281beef0-768e-4468-bd42-31d4d2b6294c"
      },
      "outputs": [
        {
          "output_type": "execute_result",
          "data": {
            "text/plain": [
              "'2020-06-16'"
            ],
            "application/vnd.google.colaboratory.intrinsic+json": {
              "type": "string"
            }
          },
          "metadata": {},
          "execution_count": 528
        }
      ],
      "source": [
        "ee.Date(image.get('system:time_start')).format('YYYY-MM-dd').getInfo()"
      ]
    },
    {
      "cell_type": "code",
      "execution_count": null,
      "metadata": {
        "id": "Rov9FqzgGel7",
        "colab": {
          "base_uri": "https://localhost:8080/"
        },
        "outputId": "1be73b28-88cf-441f-f5e4-8a0b7a347206"
      },
      "outputs": [
        {
          "output_type": "execute_result",
          "data": {
            "text/plain": [
              "0.47"
            ]
          },
          "metadata": {},
          "execution_count": 529
        }
      ],
      "source": [
        "image.get('CLOUD_COVER').getInfo()"
      ]
    },
    {
      "cell_type": "markdown",
      "metadata": {
        "id": "2b26PF2bGel7"
      },
      "source": [
        "### import AAFC label dataset\n",
        "\n"
      ]
    },
    {
      "cell_type": "code",
      "execution_count": null,
      "metadata": {
        "id": "G4MiJBOzGel7"
      },
      "outputs": [],
      "source": [
        "# region = Map.user_roi\n",
        "# region = ee.Geometry.Rectangle([-122.6003, 37.4831, -121.8036, 37.8288])\n",
        "# region = ee.Geometry.Point([-122.4439, 37.7538]).buffer(10000)"
      ]
    },
    {
      "cell_type": "markdown",
      "metadata": {
        "id": "V2fzs72FGel8"
      },
      "source": [
        "use the [Canada AAFC Annual Crop Inventory](https://developers.google.com/earth-engine/datasets/catalog/AAFC_ACI#bands) to create label dataset for training\n",
        "\n",
        "\n",
        "![](https://www.researchgate.net/profile/Meisam-Amani/publication/345082789/figure/fig1/AS:952723008651265@1604158274050/Annual-Space-based-Crop-Inventory-ACI-produced-by-Agriculture-and-Agri-Food-Canada.png)\n"
      ]
    },
    {
      "cell_type": "code",
      "execution_count": null,
      "metadata": {
        "id": "VLay3V6CGel8",
        "colab": {
          "base_uri": "https://localhost:8080/",
          "height": 621,
          "referenced_widgets": [
            "484f4e020e2347bebc7cb2ccb5bf878f",
            "a29f7a6f8b8c4d509173b32545fff6e2",
            "bf56d03030474fb182700be078217ba5",
            "12eeddc0e3c44f7b9af2f25188d2616c",
            "518d1f19067b4a898286a4df129418cc",
            "83eb07cd7a674fdd9e67d601a1c58a3c",
            "42759f58ab734f87b693432b4b158f55",
            "291b9cb2e6df466c95774e24f6005a31",
            "489a29194aba4c80889275a44e28b1b0",
            "19c848845c4c4295b1804da1e2144992",
            "6d6af6ca8975437ca437b0f603fa3dab",
            "83e2e11e3e824661b8aecb907b2dbfe7",
            "fbb5c20007dc48e19b1b71f11fa29285",
            "0983a44f44374c049d8b96c5b41d56a6",
            "f81c669c1e1c4ee9b17774ccb523ac05",
            "373dfc2aa5fe48eb834d49c67bed61a8",
            "0b9ce28daa064bebb1af11243c346304",
            "8e0214f8174e4141a2465788ce3fd2da",
            "f9d04d4192b240718aaeed66a8b0dd4d",
            "c32cd2598ff8482682bf9641cda53d78",
            "2fbc2aca3f204beab76c5a2ceacdafe1",
            "536fa008f05f42d8b1e3afaa4e682cb9",
            "18e016b212504703920dd165502803df",
            "781f7a611e0446918de4ad775dc91883",
            "40af9cfd40fb4f71b04e5ee36c526ab4",
            "392c1ebee8e844209cf0ce8e09eb6d13",
            "e0fb91defc0645fca67c6c35b61c9579",
            "c04aa354e96f4d79968bf5675c5d4cf0",
            "8da4ac2c6bf740f3a15d9d7aad1eb62c",
            "d89c386ea31f428c9fa33deee347d33e",
            "7b01c3099599447ca4a97074055b05ed"
          ]
        },
        "outputId": "9efb6930-0135-4ba8-cc22-b45ec17b728a"
      },
      "outputs": [
        {
          "output_type": "display_data",
          "data": {
            "text/plain": [
              "Map(center=[43, -80.55], controls=(WidgetControl(options=['position', 'transparent_bg'], widget=HBox(children=…"
            ],
            "application/vnd.jupyter.widget-view+json": {
              "version_major": 2,
              "version_minor": 0,
              "model_id": "484f4e020e2347bebc7cb2ccb5bf878f"
            }
          },
          "metadata": {
            "application/vnd.jupyter.widget-view+json": {
              "colab": {
                "custom_widget_manager": {
                  "url": "https://ssl.gstatic.com/colaboratory-static/widgets/colab-cdn-widget-manager/a8874ba6619b6106/manager.min.js"
                }
              }
            }
          }
        }
      ],
      "source": [
        "# nlcd = ee.Image('USGS/NLCD/NLCD2016').select('landcover').clip(image.geometry())\n",
        "\n",
        "affc = ee.ImageCollection('AAFC/ACI').filter(ee.Filter.date('2020-01-01', '2020-12-31')).first().clip(image.geometry())\n",
        "\n",
        "Map.addLayer(affc, {}, 'AAFC')\n",
        "Map"
      ]
    },
    {
      "cell_type": "markdown",
      "source": [
        "## Prepare for consecutive class labels"
      ],
      "metadata": {
        "id": "u1bFgzQV6WTR"
      }
    },
    {
      "cell_type": "code",
      "execution_count": null,
      "metadata": {
        "id": "tuP81EFoGemA",
        "colab": {
          "base_uri": "https://localhost:8080/"
        },
        "outputId": "c5fdbe18-a7a9-4faa-b64f-21b5070b2525"
      },
      "outputs": [
        {
          "output_type": "execute_result",
          "data": {
            "text/plain": [
              "[10,\n",
              " 20,\n",
              " 30,\n",
              " 34,\n",
              " 35,\n",
              " 50,\n",
              " 80,\n",
              " 85,\n",
              " 110,\n",
              " 120,\n",
              " 122,\n",
              " 130,\n",
              " 131,\n",
              " 132,\n",
              " 133,\n",
              " 134,\n",
              " 135,\n",
              " 136,\n",
              " 137,\n",
              " 138,\n",
              " 139,\n",
              " 140,\n",
              " 141,\n",
              " 142,\n",
              " 143,\n",
              " 145,\n",
              " 146,\n",
              " 147,\n",
              " 148,\n",
              " 149,\n",
              " 150,\n",
              " 151,\n",
              " 152,\n",
              " 153,\n",
              " 154,\n",
              " 155,\n",
              " 156,\n",
              " 157,\n",
              " 158,\n",
              " 160,\n",
              " 161,\n",
              " 162,\n",
              " 163,\n",
              " 167,\n",
              " 168,\n",
              " 174,\n",
              " 175,\n",
              " 176,\n",
              " 177,\n",
              " 178,\n",
              " 179,\n",
              " 180,\n",
              " 181,\n",
              " 182,\n",
              " 183,\n",
              " 185,\n",
              " 188,\n",
              " 189,\n",
              " 190,\n",
              " 191,\n",
              " 192,\n",
              " 193,\n",
              " 194,\n",
              " 195,\n",
              " 196,\n",
              " 197,\n",
              " 198,\n",
              " 199,\n",
              " 200,\n",
              " 210,\n",
              " 220,\n",
              " 230]"
            ]
          },
          "metadata": {},
          "execution_count": 532
        }
      ],
      "source": [
        "raw_class_values = affc.get('landcover_class_values').getInfo()\n",
        "\n",
        "class_palette = affc.get('landcover_class_palette').getInfo()\n",
        "\n",
        "value_palette_dictionary = dict(zip(raw_class_values, class_palette))\n",
        "\n",
        "raw_class_values"
      ]
    },
    {
      "cell_type": "code",
      "source": [
        "class_palette\n"
      ],
      "metadata": {
        "id": "id7qwMrkxzXu",
        "colab": {
          "base_uri": "https://localhost:8080/"
        },
        "outputId": "0c6fce80-08ba-4b5f-82a1-58615eb334ef"
      },
      "execution_count": null,
      "outputs": [
        {
          "output_type": "execute_result",
          "data": {
            "text/plain": [
              "['000000',\n",
              " '3333ff',\n",
              " '996666',\n",
              " 'cc6699',\n",
              " 'e1e1e1',\n",
              " 'ffff00',\n",
              " '993399',\n",
              " '501b50',\n",
              " 'cccc00',\n",
              " 'cc6600',\n",
              " 'ffcc33',\n",
              " '7899f6',\n",
              " 'ff9900',\n",
              " '660000',\n",
              " 'dae31d',\n",
              " 'd6cc00',\n",
              " 'd2db25',\n",
              " 'd1d52b',\n",
              " 'cace32',\n",
              " 'c3c63a',\n",
              " 'b9bc44',\n",
              " 'a7b34d',\n",
              " 'b9c64e',\n",
              " '999900',\n",
              " 'e9e2b1',\n",
              " '92a55b',\n",
              " '809769',\n",
              " 'ffff99',\n",
              " '98887c',\n",
              " '799b93',\n",
              " '5ea263',\n",
              " '52ae77',\n",
              " '41bf7a',\n",
              " 'd6ff70',\n",
              " '8c8cff',\n",
              " 'd6cc00',\n",
              " 'ff7f00',\n",
              " '315491',\n",
              " 'cc9933',\n",
              " '896e43',\n",
              " '996633',\n",
              " '8f6c3d',\n",
              " 'b6a472',\n",
              " '82654a',\n",
              " 'a39069',\n",
              " 'b85900',\n",
              " 'b74b15',\n",
              " 'ff8a8a',\n",
              " 'ffcccc',\n",
              " '6f55ca',\n",
              " 'ffccff',\n",
              " 'dc5424',\n",
              " 'd05a30',\n",
              " 'd20000',\n",
              " 'cc0000',\n",
              " 'dc3200',\n",
              " 'ff6666',\n",
              " 'c5453b',\n",
              " '7442bd',\n",
              " 'ffcccc',\n",
              " 'b5fb05',\n",
              " 'ccff05',\n",
              " '07f98c',\n",
              " '00ffcc',\n",
              " 'cc33cc',\n",
              " '8e7672',\n",
              " 'b1954f',\n",
              " '749a66',\n",
              " '009900',\n",
              " '006600',\n",
              " '00cc00',\n",
              " 'cc9900']"
            ]
          },
          "metadata": {},
          "execution_count": 533
        }
      ]
    },
    {
      "cell_type": "code",
      "source": [
        "initial_train_accuracy = [[0],\n",
        " [0.8996450467892869],\n",
        " [0.00819672131147541],\n",
        " [0.17928902627511592],\n",
        " [0],\n",
        " [0.1495766698024459],\n",
        " [0.1269968051118211],\n",
        " [0],\n",
        " [0],\n",
        " [0],\n",
        " [0.6437947494033412],\n",
        " [0],\n",
        " [0],\n",
        " [0],\n",
        " [0],\n",
        " [0],\n",
        " [0],\n",
        " [0],\n",
        " [0],\n",
        " [0],\n",
        " [0],\n",
        " [0],\n",
        " [0],\n",
        " [0],\n",
        " [0],\n",
        " [0.055793991416309016],\n",
        " [0],\n",
        " [0.13953488372093023],\n",
        " [0],\n",
        " [0],\n",
        " [0],\n",
        " [0],\n",
        " [0],\n",
        " [0],\n",
        " [0],\n",
        " [0],\n",
        " [0],\n",
        " [0],\n",
        " [0.13537117903930132],\n",
        " [0],\n",
        " [0],\n",
        " [0],\n",
        " [0],\n",
        " [0],\n",
        " [0],\n",
        " [0],\n",
        " [0],\n",
        " [0],\n",
        " [0],\n",
        " [0],\n",
        " [0],\n",
        " [0],\n",
        " [0],\n",
        " [0],\n",
        " [0],\n",
        " [0],\n",
        " [0],\n",
        " [0],\n",
        " [0],\n",
        " [0],\n",
        " [0],\n",
        " [0],\n",
        " [0],\n",
        " [0],\n",
        " [0],\n",
        " [0],\n",
        " [0],\n",
        " [0],\n",
        " [0],\n",
        " [0.2768595041322314],\n",
        " [0.6237767306995288],\n",
        " [0.7143840330350998]]"
      ],
      "metadata": {
        "id": "EC35EeCPyX7s"
      },
      "execution_count": null,
      "outputs": []
    },
    {
      "cell_type": "code",
      "source": [
        "reduced_class_values = raw_class_values\n",
        "\n",
        "for i in range(len(class_palette)):\n",
        "  if initial_train_accuracy[i][0] == 0:\n",
        "    reduced_class_values[i] = 0\n",
        "\n",
        "reduced_class_values = [i for i in reduced_class_values if i != 0]\n"
      ],
      "metadata": {
        "id": "bZIoFYXayhvE"
      },
      "execution_count": null,
      "outputs": []
    },
    {
      "cell_type": "code",
      "source": [
        ""
      ],
      "metadata": {
        "id": "MaUHrJAc-vWe"
      },
      "execution_count": null,
      "outputs": []
    },
    {
      "cell_type": "code",
      "source": [
        "veg_classes = [145, 147, 158, 210, 220, 230]\n",
        "veg_palette = []\n",
        "\n",
        "for x in veg_classes:\n",
        "  veg_palette.append(value_palette_dictionary[x])\n",
        "new_palette = ['3333ff'] +  veg_palette\n",
        "new_palette"
      ],
      "metadata": {
        "colab": {
          "base_uri": "https://localhost:8080/"
        },
        "id": "uivvMePB3AmE",
        "outputId": "a97f5a7a-73c9-4409-98c1-08e96d487034"
      },
      "execution_count": null,
      "outputs": [
        {
          "output_type": "execute_result",
          "data": {
            "text/plain": [
              "['3333ff', '92a55b', 'ffff99', 'cc9933', '006600', '00cc00', 'cc9900']"
            ]
          },
          "metadata": {},
          "execution_count": 536
        }
      ]
    },
    {
      "cell_type": "code",
      "source": [
        "reduced_class_values"
      ],
      "metadata": {
        "colab": {
          "base_uri": "https://localhost:8080/"
        },
        "id": "Bi4_qalI7NYb",
        "outputId": "61fbdc02-789f-4df1-a432-f696e9701c05"
      },
      "execution_count": null,
      "outputs": [
        {
          "output_type": "execute_result",
          "data": {
            "text/plain": [
              "[20, 30, 34, 50, 80, 122, 145, 147, 158, 210, 220, 230]"
            ]
          },
          "metadata": {},
          "execution_count": 537
        }
      ]
    },
    {
      "cell_type": "code",
      "source": [
        "to_group_reduced_class_values = reduced_class_values\n",
        "for i in range(len(reduced_class_values)):\n",
        "  if not to_group_reduced_class_values[i] in veg_classes:\n",
        "    to_group_reduced_class_values[i] = 20\n"
      ],
      "metadata": {
        "id": "ckXlMRen7Hql"
      },
      "execution_count": null,
      "outputs": []
    },
    {
      "cell_type": "code",
      "source": [
        "to_group_reduced_class_values"
      ],
      "metadata": {
        "colab": {
          "base_uri": "https://localhost:8080/"
        },
        "id": "FRluyBokL3Kf",
        "outputId": "21d363c1-e555-48c6-dee4-309461d56699"
      },
      "execution_count": null,
      "outputs": [
        {
          "output_type": "execute_result",
          "data": {
            "text/plain": [
              "[20, 20, 20, 20, 20, 20, 145, 147, 158, 210, 220, 230]"
            ]
          },
          "metadata": {},
          "execution_count": 539
        }
      ]
    },
    {
      "cell_type": "code",
      "source": [
        "affc = affc.remap(reduced_class_values, to_group_reduced_class_values).select(\n",
        "    ['remapped'], ['landcover']\n",
        ")"
      ],
      "metadata": {
        "id": "8XG4wZTn2uG7"
      },
      "execution_count": null,
      "outputs": []
    },
    {
      "cell_type": "code",
      "source": [
        "grouped_reduced_class_values = list(dict.fromkeys(to_group_reduced_class_values))\n"
      ],
      "metadata": {
        "id": "FAgxZRYVJ-w2"
      },
      "execution_count": null,
      "outputs": []
    },
    {
      "cell_type": "code",
      "source": [
        "n_classes = len(grouped_reduced_class_values)\n",
        "new_class_values = list(range(0, n_classes))"
      ],
      "metadata": {
        "id": "-Fa78USFyWQK"
      },
      "execution_count": null,
      "outputs": []
    },
    {
      "cell_type": "code",
      "source": [
        "new_class_values"
      ],
      "metadata": {
        "colab": {
          "base_uri": "https://localhost:8080/"
        },
        "id": "1-H4K3Yw9sXC",
        "outputId": "5dcfc59c-5d7d-4ceb-fb39-3efa7aa68158"
      },
      "execution_count": null,
      "outputs": [
        {
          "output_type": "execute_result",
          "data": {
            "text/plain": [
              "[0, 1, 2, 3, 4, 5, 6]"
            ]
          },
          "metadata": {},
          "execution_count": 543
        }
      ]
    },
    {
      "cell_type": "code",
      "source": [
        "affc = affc.remap(grouped_reduced_class_values, new_class_values).select(\n",
        "    ['remapped'], ['landcover']\n",
        ")\n",
        "affc = affc.set('landcover_class_values', new_class_values)\n",
        "affc = affc.set('landcover_class_palette', new_palette)"
      ],
      "metadata": {
        "id": "5VX5QM6e2Pv_"
      },
      "execution_count": null,
      "outputs": []
    },
    {
      "cell_type": "code",
      "source": [
        "affc.get('landcover_class_values').getInfo()"
      ],
      "metadata": {
        "colab": {
          "base_uri": "https://localhost:8080/"
        },
        "id": "BVsaRO9X21o9",
        "outputId": "1270ae4c-6da0-4a77-f96b-9ce32eb7863d"
      },
      "execution_count": null,
      "outputs": [
        {
          "output_type": "execute_result",
          "data": {
            "text/plain": [
              "[0, 1, 2, 3, 4, 5, 6]"
            ]
          },
          "metadata": {},
          "execution_count": 545
        }
      ]
    },
    {
      "cell_type": "markdown",
      "source": [
        "## Make  dataset"
      ],
      "metadata": {
        "id": "8wbOdcuT6C0X"
      }
    },
    {
      "cell_type": "code",
      "execution_count": null,
      "metadata": {
        "id": "9n2okujiGel9"
      },
      "outputs": [],
      "source": [
        "# Make the training dataset.\n",
        "points = affc.sample(\n",
        "    **{\n",
        "        'region': image.geometry(),\n",
        "        'scale': 30,\n",
        "        'numPixels': 15000,\n",
        "        'seed': 0,\n",
        "        'geometries': True,  # Set this to False to ignore geometries\n",
        "    }\n",
        ")\n"
      ]
    },
    {
      "cell_type": "markdown",
      "source": [
        "## Split training and validation"
      ],
      "metadata": {
        "id": "dSjTtZbv6g3q"
      }
    },
    {
      "cell_type": "code",
      "source": [
        "points = points.randomColumn();\n",
        "\n",
        "training_points = points.filter('random <= 0.7');\n",
        "validation_points = points.filter('random > 0.7');\n",
        "\n",
        "Map.addLayer(training_points, {}, 'training', False)\n",
        "Map.addLayer(validation_points, {}, 'validation', False)"
      ],
      "metadata": {
        "id": "d_8vt45d6gZ8"
      },
      "execution_count": null,
      "outputs": []
    },
    {
      "cell_type": "code",
      "execution_count": null,
      "metadata": {
        "id": "OTai-aTHGel9",
        "colab": {
          "base_uri": "https://localhost:8080/"
        },
        "outputId": "72b158a6-20ed-4090-f8cd-7d1c5f6db726"
      },
      "outputs": [
        {
          "output_type": "stream",
          "name": "stdout",
          "text": [
            "6453\n"
          ]
        }
      ],
      "source": [
        "print(training_points.size().getInfo())"
      ]
    },
    {
      "cell_type": "code",
      "execution_count": null,
      "metadata": {
        "id": "yA6YTWXMGel-",
        "colab": {
          "base_uri": "https://localhost:8080/"
        },
        "outputId": "88b1f019-90c4-4bc4-d36c-4186a0afd74f"
      },
      "outputs": [
        {
          "output_type": "stream",
          "name": "stdout",
          "text": [
            "{'type': 'Feature', 'geometry': {'type': 'Point', 'coordinates': [-79.93783236408851, 42.70212558121815]}, 'id': '0', 'properties': {'landcover': 0, 'random': 0.5720078189015817}}\n"
          ]
        }
      ],
      "source": [
        "print(training_points.first().getInfo())"
      ]
    },
    {
      "cell_type": "markdown",
      "metadata": {
        "id": "eZarEZaBGel-"
      },
      "source": [
        "### Train the classifier"
      ]
    },
    {
      "cell_type": "code",
      "execution_count": null,
      "metadata": {
        "id": "xuHgVWKxGel-"
      },
      "outputs": [],
      "source": [
        "# Use these bands for prediction.\n",
        "bands = ['B1', 'B2', 'B3', 'B4', 'B5', 'B6', 'B7']\n",
        "\n",
        "\n",
        "# This property of the table stores the land cover labels.\n",
        "label = 'landcover'\n",
        "\n",
        "# Overlay the points on the imagery to get training.\n",
        "training = image.select(bands).sampleRegions(\n",
        "    **{'collection': training_points, 'properties': [label], 'scale': 30}\n",
        ")\n",
        "\n",
        "validation = image.select(bands).sampleRegions(\n",
        "    **{'collection': validation_points, 'properties': [label], 'scale': 30}\n",
        ")\n",
        "\n",
        "# Train a CART classifier with default parameters.\n",
        "trainedClassifier = ee.Classifier.smileRandomForest(27).train(training, label, bands)"
      ]
    },
    {
      "cell_type": "code",
      "execution_count": null,
      "metadata": {
        "id": "arWm0DpuGel_",
        "colab": {
          "base_uri": "https://localhost:8080/"
        },
        "outputId": "70a75d7b-d2ec-4548-a712-dbd36daa9333"
      },
      "outputs": [
        {
          "output_type": "stream",
          "name": "stdout",
          "text": [
            "{'type': 'Feature', 'geometry': None, 'id': '0_0', 'properties': {'B1': 319, 'B2': 324, 'B3': 273, 'B4': 149, 'B5': 116, 'B6': 93, 'B7': 76, 'landcover': 0}}\n"
          ]
        }
      ],
      "source": [
        "print(training.first().getInfo())"
      ]
    },
    {
      "cell_type": "markdown",
      "source": [
        "# Accuracy assessment\n",
        "## Training dataset"
      ],
      "metadata": {
        "id": "HL7lkm5v-pmx"
      }
    },
    {
      "cell_type": "code",
      "source": [
        "# Get a confusion matrix and overall accuracy for the training sample.\n",
        "train_accuracy = trainedClassifier.confusionMatrix();\n",
        "# trainAccuracy.getInfo()"
      ],
      "metadata": {
        "id": "fIlk8AT9on8v"
      },
      "execution_count": null,
      "outputs": []
    },
    {
      "cell_type": "markdown",
      "source": [
        "###Training - Overall Accuracy"
      ],
      "metadata": {
        "id": "GOSf7iA8_NcR"
      }
    },
    {
      "cell_type": "code",
      "source": [
        "train_accuracy.accuracy().getInfo()"
      ],
      "metadata": {
        "colab": {
          "base_uri": "https://localhost:8080/"
        },
        "id": "KC0tTYkf4Hky",
        "outputId": "21180795-005a-4d42-cc6b-19f825521b70"
      },
      "execution_count": null,
      "outputs": [
        {
          "output_type": "execute_result",
          "data": {
            "text/plain": [
              "0.9872868217054264"
            ]
          },
          "metadata": {},
          "execution_count": 553
        }
      ]
    },
    {
      "cell_type": "markdown",
      "source": [
        "###Training -  Kappa"
      ],
      "metadata": {
        "id": "5E6EcxC_KMS4"
      }
    },
    {
      "cell_type": "code",
      "source": [
        "train_accuracy.kappa().getInfo()"
      ],
      "metadata": {
        "id": "aGq02iChKJ1e",
        "colab": {
          "base_uri": "https://localhost:8080/"
        },
        "outputId": "659e55e6-44c0-4002-f952-0f12bd86a63a"
      },
      "execution_count": null,
      "outputs": [
        {
          "output_type": "execute_result",
          "data": {
            "text/plain": [
              "0.9829565107772276"
            ]
          },
          "metadata": {},
          "execution_count": 554
        }
      ]
    },
    {
      "cell_type": "markdown",
      "source": [
        "###Training - Producer's Accuracy"
      ],
      "metadata": {
        "id": "uHhxxDjD_VXu"
      }
    },
    {
      "cell_type": "code",
      "source": [
        "train_accuracy.producersAccuracy().getInfo()"
      ],
      "metadata": {
        "id": "qsqMComk-7R4",
        "colab": {
          "base_uri": "https://localhost:8080/"
        },
        "outputId": "bbebb409-2d68-4cf8-ebbb-89ee9a56a9c2"
      },
      "execution_count": null,
      "outputs": [
        {
          "output_type": "execute_result",
          "data": {
            "text/plain": [
              "[[1],\n",
              " [0.9826086956521739],\n",
              " [0.986046511627907],\n",
              " [0.9663366336633663],\n",
              " [0.8571428571428571],\n",
              " [0.9943661971830986],\n",
              " [0.9343434343434344]]"
            ]
          },
          "metadata": {},
          "execution_count": 555
        }
      ]
    },
    {
      "cell_type": "markdown",
      "source": [
        "###Training - Comsumer's Accuracy"
      ],
      "metadata": {
        "id": "vLWaJ236KBc2"
      }
    },
    {
      "cell_type": "code",
      "source": [
        "train_accuracy.consumersAccuracy().getInfo()\n"
      ],
      "metadata": {
        "id": "0mave6HRB2zR",
        "colab": {
          "base_uri": "https://localhost:8080/"
        },
        "outputId": "2d4418d0-f325-41b0-8de3-52e5a60b8bda"
      },
      "execution_count": null,
      "outputs": [
        {
          "output_type": "execute_result",
          "data": {
            "text/plain": [
              "[[1,\n",
              "  0.9741379310344828,\n",
              "  0.9747126436781609,\n",
              "  0.9858585858585859,\n",
              "  1,\n",
              "  0.9737931034482759,\n",
              "  0.9946236559139785]]"
            ]
          },
          "metadata": {},
          "execution_count": 556
        }
      ]
    },
    {
      "cell_type": "markdown",
      "source": [
        "# Validation dataset"
      ],
      "metadata": {
        "id": "EAMoEjJyCXNO"
      }
    },
    {
      "cell_type": "code",
      "source": [
        "validated = validation.classify(trainedClassifier)"
      ],
      "metadata": {
        "id": "EZZnn3QsCXCD"
      },
      "execution_count": null,
      "outputs": []
    },
    {
      "cell_type": "code",
      "source": [
        "test_accuracy = validated.errorMatrix('landcover', 'classification')"
      ],
      "metadata": {
        "id": "2Aea-m4FCWpD"
      },
      "execution_count": null,
      "outputs": []
    },
    {
      "cell_type": "code",
      "source": [
        "# test_accuracy.getInfo()"
      ],
      "metadata": {
        "id": "-rwAqoX3DhVF"
      },
      "execution_count": null,
      "outputs": []
    },
    {
      "cell_type": "markdown",
      "source": [
        "## Validation - Overall Accuracy\n"
      ],
      "metadata": {
        "id": "7nto6_TSNI01"
      }
    },
    {
      "cell_type": "code",
      "source": [
        "test_accuracy.accuracy().getInfo()"
      ],
      "metadata": {
        "id": "9kaiWQJTDkEW",
        "colab": {
          "base_uri": "https://localhost:8080/"
        },
        "outputId": "84c054ca-796c-4925-db52-f417b8d0bb27"
      },
      "execution_count": null,
      "outputs": [
        {
          "output_type": "execute_result",
          "data": {
            "text/plain": [
              "0.8099581908019764"
            ]
          },
          "metadata": {},
          "execution_count": 560
        }
      ]
    },
    {
      "cell_type": "markdown",
      "source": [
        "## Validation - Kappa"
      ],
      "metadata": {
        "id": "Ts9oL9VCNQIA"
      }
    },
    {
      "cell_type": "code",
      "source": [
        "test_accuracy.kappa().getInfo()"
      ],
      "metadata": {
        "id": "nDCEIcxMDm3f",
        "colab": {
          "base_uri": "https://localhost:8080/"
        },
        "outputId": "eee0a7ad-ee08-4ccb-fa9b-3034e0e80b5c"
      },
      "execution_count": null,
      "outputs": [
        {
          "output_type": "execute_result",
          "data": {
            "text/plain": [
              "0.7455581965752964"
            ]
          },
          "metadata": {},
          "execution_count": 561
        }
      ]
    },
    {
      "cell_type": "markdown",
      "source": [
        "## Validation - Producer's Accuracy"
      ],
      "metadata": {
        "id": "6SA6mfl_NSpN"
      }
    },
    {
      "cell_type": "code",
      "source": [
        "test_accuracy.producersAccuracy().getInfo()"
      ],
      "metadata": {
        "id": "WscpdtCMDpRq",
        "colab": {
          "base_uri": "https://localhost:8080/"
        },
        "outputId": "3b98e79e-ae79-4e0f-cfa4-9a98ce1ce177"
      },
      "execution_count": null,
      "outputs": [
        {
          "output_type": "execute_result",
          "data": {
            "text/plain": [
              "[[0.9990662931839402],\n",
              " [0.7918552036199095],\n",
              " [0.7238095238095238],\n",
              " [0.5247524752475248],\n",
              " [0.2],\n",
              " [0.8253968253968254],\n",
              " [0.3764705882352941]]"
            ]
          },
          "metadata": {},
          "execution_count": 562
        }
      ]
    },
    {
      "cell_type": "markdown",
      "source": [
        "## Validation - Consumers’ Accuracy"
      ],
      "metadata": {
        "id": "-wCngpx7NZoW"
      }
    },
    {
      "cell_type": "code",
      "source": [
        "test_accuracy.consumersAccuracy().getInfo()"
      ],
      "metadata": {
        "id": "-pe0gsExDrzd",
        "colab": {
          "base_uri": "https://localhost:8080/"
        },
        "outputId": "9c0b18b4-13d4-485a-d8ab-78e8b44606f9"
      },
      "execution_count": null,
      "outputs": [
        {
          "output_type": "execute_result",
          "data": {
            "text/plain": [
              "[[0.9981343283582089,\n",
              "  0.7231404958677686,\n",
              "  0.6654991243432574,\n",
              "  0.6074498567335244,\n",
              "  0.3333333333333333,\n",
              "  0.7831325301204819,\n",
              "  0.5423728813559322]]"
            ]
          },
          "metadata": {},
          "execution_count": 563
        }
      ]
    },
    {
      "cell_type": "markdown",
      "metadata": {
        "id": "VgH2oo3ZGel_"
      },
      "source": [
        "### Classify the image"
      ]
    },
    {
      "cell_type": "code",
      "execution_count": null,
      "metadata": {
        "id": "iHvkhdXVGel_",
        "colab": {
          "base_uri": "https://localhost:8080/",
          "height": 621,
          "referenced_widgets": [
            "484f4e020e2347bebc7cb2ccb5bf878f",
            "a29f7a6f8b8c4d509173b32545fff6e2",
            "bf56d03030474fb182700be078217ba5",
            "12eeddc0e3c44f7b9af2f25188d2616c",
            "518d1f19067b4a898286a4df129418cc",
            "83eb07cd7a674fdd9e67d601a1c58a3c",
            "42759f58ab734f87b693432b4b158f55",
            "291b9cb2e6df466c95774e24f6005a31",
            "489a29194aba4c80889275a44e28b1b0",
            "19c848845c4c4295b1804da1e2144992",
            "6d6af6ca8975437ca437b0f603fa3dab",
            "83e2e11e3e824661b8aecb907b2dbfe7",
            "fbb5c20007dc48e19b1b71f11fa29285",
            "0983a44f44374c049d8b96c5b41d56a6",
            "f81c669c1e1c4ee9b17774ccb523ac05",
            "c04aa354e96f4d79968bf5675c5d4cf0",
            "8da4ac2c6bf740f3a15d9d7aad1eb62c",
            "d89c386ea31f428c9fa33deee347d33e",
            "373dfc2aa5fe48eb834d49c67bed61a8",
            "0b9ce28daa064bebb1af11243c346304",
            "8e0214f8174e4141a2465788ce3fd2da",
            "f9d04d4192b240718aaeed66a8b0dd4d",
            "c32cd2598ff8482682bf9641cda53d78",
            "2fbc2aca3f204beab76c5a2ceacdafe1",
            "536fa008f05f42d8b1e3afaa4e682cb9",
            "18e016b212504703920dd165502803df",
            "781f7a611e0446918de4ad775dc91883",
            "40af9cfd40fb4f71b04e5ee36c526ab4",
            "392c1ebee8e844209cf0ce8e09eb6d13",
            "e0fb91defc0645fca67c6c35b61c9579",
            "7b01c3099599447ca4a97074055b05ed"
          ]
        },
        "outputId": "7781f4cc-68a8-4ac0-98a5-e1b2f5503bb9"
      },
      "outputs": [
        {
          "output_type": "display_data",
          "data": {
            "text/plain": [
              "Map(center=[43, -80.55], controls=(WidgetControl(options=['position', 'transparent_bg'], widget=HBox(children=…"
            ],
            "application/vnd.jupyter.widget-view+json": {
              "version_major": 2,
              "version_minor": 0,
              "model_id": "484f4e020e2347bebc7cb2ccb5bf878f"
            }
          },
          "metadata": {
            "application/vnd.jupyter.widget-view+json": {
              "colab": {
                "custom_widget_manager": {
                  "url": "https://ssl.gstatic.com/colaboratory-static/widgets/colab-cdn-widget-manager/a8874ba6619b6106/manager.min.js"
                }
              }
            }
          }
        }
      ],
      "source": [
        "# Classify the image with the same bands used for training.\n",
        "result = image.select(bands).classify(trainedClassifier)\n",
        "\n",
        "# # Display the clusters with random colors.\n",
        "Map.addLayer(result.randomVisualizer(), {}, 'classified')\n",
        "Map"
      ]
    },
    {
      "cell_type": "markdown",
      "metadata": {
        "id": "-U5iPlFoGemA"
      },
      "source": [
        "### Render categorical map\n",
        "\n",
        "To render a categorical map, we can set two image properties: `landcover_class_values` and `landcover_class_palette`. We can use the same style as the NLCD so that it is easy to compare the two maps. "
      ]
    },
    {
      "cell_type": "code",
      "execution_count": null,
      "metadata": {
        "id": "icuh0lZLGemB",
        "colab": {
          "base_uri": "https://localhost:8080/"
        },
        "outputId": "b1bb6bf9-7e92-4c6a-86a7-afc75815b7ed"
      },
      "outputs": [
        {
          "output_type": "stream",
          "name": "stdout",
          "text": [
            "[0, 1, 2, 3, 4, 5, 6]\n"
          ]
        }
      ],
      "source": [
        "class_values = affc.get('landcover_class_values').getInfo()\n",
        "print(class_values)"
      ]
    },
    {
      "cell_type": "code",
      "source": [
        "class_palette = affc.get('landcover_class_palette').getInfo()\n",
        "print(class_palette)"
      ],
      "metadata": {
        "id": "cU54IpV93h37",
        "colab": {
          "base_uri": "https://localhost:8080/"
        },
        "outputId": "e30d2775-9c78-491d-e95e-f018ff450775"
      },
      "execution_count": null,
      "outputs": [
        {
          "output_type": "stream",
          "name": "stdout",
          "text": [
            "['3333ff', '92a55b', 'ffff99', 'cc9933', '006600', '00cc00', 'cc9900']\n"
          ]
        }
      ]
    },
    {
      "cell_type": "code",
      "execution_count": null,
      "metadata": {
        "id": "94i3idvSGemB"
      },
      "outputs": [],
      "source": [
        "landcover = result.set('classification_class_values', class_values)\n",
        "landcover = landcover.set('classification_class_palette', class_palette)"
      ]
    },
    {
      "cell_type": "code",
      "execution_count": null,
      "metadata": {
        "id": "kEFrC5abGemC",
        "colab": {
          "base_uri": "https://localhost:8080/",
          "height": 621,
          "referenced_widgets": [
            "484f4e020e2347bebc7cb2ccb5bf878f",
            "a29f7a6f8b8c4d509173b32545fff6e2",
            "bf56d03030474fb182700be078217ba5",
            "12eeddc0e3c44f7b9af2f25188d2616c",
            "518d1f19067b4a898286a4df129418cc",
            "83eb07cd7a674fdd9e67d601a1c58a3c",
            "42759f58ab734f87b693432b4b158f55",
            "291b9cb2e6df466c95774e24f6005a31",
            "489a29194aba4c80889275a44e28b1b0",
            "19c848845c4c4295b1804da1e2144992",
            "6d6af6ca8975437ca437b0f603fa3dab",
            "83e2e11e3e824661b8aecb907b2dbfe7",
            "fbb5c20007dc48e19b1b71f11fa29285",
            "0983a44f44374c049d8b96c5b41d56a6",
            "f81c669c1e1c4ee9b17774ccb523ac05",
            "c04aa354e96f4d79968bf5675c5d4cf0",
            "8da4ac2c6bf740f3a15d9d7aad1eb62c",
            "d89c386ea31f428c9fa33deee347d33e",
            "7b01c3099599447ca4a97074055b05ed",
            "373dfc2aa5fe48eb834d49c67bed61a8",
            "0b9ce28daa064bebb1af11243c346304",
            "8e0214f8174e4141a2465788ce3fd2da",
            "f9d04d4192b240718aaeed66a8b0dd4d",
            "c32cd2598ff8482682bf9641cda53d78",
            "2fbc2aca3f204beab76c5a2ceacdafe1",
            "536fa008f05f42d8b1e3afaa4e682cb9",
            "18e016b212504703920dd165502803df",
            "781f7a611e0446918de4ad775dc91883",
            "40af9cfd40fb4f71b04e5ee36c526ab4",
            "392c1ebee8e844209cf0ce8e09eb6d13",
            "e0fb91defc0645fca67c6c35b61c9579"
          ]
        },
        "outputId": "dddf55be-bcfc-42d7-cba5-12fe1390375f"
      },
      "outputs": [
        {
          "output_type": "display_data",
          "data": {
            "text/plain": [
              "Map(center=[43, -80.55], controls=(WidgetControl(options=['position', 'transparent_bg'], widget=HBox(children=…"
            ],
            "application/vnd.jupyter.widget-view+json": {
              "version_major": 2,
              "version_minor": 0,
              "model_id": "484f4e020e2347bebc7cb2ccb5bf878f"
            }
          },
          "metadata": {
            "application/vnd.jupyter.widget-view+json": {
              "colab": {
                "custom_widget_manager": {
                  "url": "https://ssl.gstatic.com/colaboratory-static/widgets/colab-cdn-widget-manager/a8874ba6619b6106/manager.min.js"
                }
              }
            }
          }
        }
      ],
      "source": [
        "Map.addLayer(landcover, {}, 'Land cover')\n",
        "Map"
      ]
    },
    {
      "cell_type": "markdown",
      "metadata": {
        "id": "8DDMVm0IGemC"
      },
      "source": [
        "### Visualize the result"
      ]
    },
    {
      "cell_type": "code",
      "execution_count": null,
      "metadata": {
        "id": "KfTTVR-iGemD",
        "colab": {
          "base_uri": "https://localhost:8080/",
          "height": 67,
          "referenced_widgets": [
            "95567ed3d7664f57a53b1921e6a08b77",
            "1fe373ae4635402abfbc5f791eed1efa",
            "b76c610d73ea49ce9032a45ebfb30753",
            "d63167a7517844cc8b99fefa169da43d",
            "ade69912f61945faa9dbbb70850b898b"
          ]
        },
        "outputId": "f6d301f5-2b86-41dd-ccd9-815fbe81e4d3"
      },
      "outputs": [
        {
          "output_type": "stream",
          "name": "stdout",
          "text": [
            "Change layer opacity:\n"
          ]
        },
        {
          "output_type": "display_data",
          "data": {
            "text/plain": [
              "Box(children=(FloatSlider(value=1.0, description='opacity', max=1.0),))"
            ],
            "application/vnd.jupyter.widget-view+json": {
              "version_major": 2,
              "version_minor": 0,
              "model_id": "95567ed3d7664f57a53b1921e6a08b77"
            }
          },
          "metadata": {
            "application/vnd.jupyter.widget-view+json": {
              "colab": {
                "custom_widget_manager": {
                  "url": "https://ssl.gstatic.com/colaboratory-static/widgets/colab-cdn-widget-manager/a8874ba6619b6106/manager.min.js"
                }
              }
            }
          }
        }
      ],
      "source": [
        "print('Change layer opacity:')\n",
        "cluster_layer = Map.layers[-1]\n",
        "cluster_layer.interact(opacity=(0, 1, 0.1))"
      ]
    },
    {
      "cell_type": "markdown",
      "metadata": {
        "id": "spFF_8WhGemE"
      },
      "source": [
        "### Add a legend to the map"
      ]
    },
    {
      "cell_type": "code",
      "execution_count": null,
      "metadata": {
        "id": "JSla3RMnGemF"
      },
      "outputs": [],
      "source": [
        "# Map.add_legend(builtin_legend='NLCD')\n",
        "# Map"
      ]
    },
    {
      "cell_type": "markdown",
      "metadata": {
        "id": "anH9Qe8rGemF"
      },
      "source": [
        "### Export the result\n",
        "\n",
        "Export the result directly to your computer:"
      ]
    },
    {
      "cell_type": "code",
      "execution_count": null,
      "metadata": {
        "id": "Gj3LG82bGemG"
      },
      "outputs": [],
      "source": [
        "# import os\n",
        "\n",
        "# out_dir = os.path.join(os.path.expanduser('~'), 'Downloads')\n",
        "# out_file = os.path.join(out_dir, 'landcover.tif')"
      ]
    },
    {
      "cell_type": "code",
      "execution_count": null,
      "metadata": {
        "id": "Y7UTBKevGemG"
      },
      "outputs": [],
      "source": [
        "# geemap.ee_export_image(landcover, filename=out_file, scale=900)"
      ]
    },
    {
      "cell_type": "markdown",
      "metadata": {
        "id": "d11om2anGemH"
      },
      "source": [
        "Export the result to Google Drive:"
      ]
    },
    {
      "cell_type": "code",
      "execution_count": null,
      "metadata": {
        "id": "FlXa6KjQGemH"
      },
      "outputs": [],
      "source": [
        "# geemap.ee_export_image_to_drive(\n",
        "#     landcover, description='landcover', folder='export', scale=900\n",
        "# )"
      ]
    }
  ],
  "metadata": {
    "hide_input": false,
    "kernelspec": {
      "display_name": "Python 3",
      "language": "python",
      "name": "python3"
    },
    "language_info": {
      "codemirror_mode": {
        "name": "ipython",
        "version": 3
      },
      "file_extension": ".py",
      "mimetype": "text/x-python",
      "name": "python",
      "nbconvert_exporter": "python",
      "pygments_lexer": "ipython3",
      "version": "3.8.5"
    },
    "toc": {
      "base_numbering": 1,
      "nav_menu": {},
      "number_sections": true,
      "sideBar": true,
      "skip_h1_title": true,
      "title_cell": "Table of Contents",
      "title_sidebar": "Table of Contents",
      "toc_cell": false,
      "toc_position": {
        "height": "calc(100% - 180px)",
        "left": "10px",
        "top": "150px",
        "width": "384px"
      },
      "toc_section_display": true,
      "toc_window_display": false
    },
    "varInspector": {
      "cols": {
        "lenName": 16,
        "lenType": 16,
        "lenVar": 40
      },
      "kernels_config": {
        "python": {
          "delete_cmd_postfix": "",
          "delete_cmd_prefix": "del ",
          "library": "var_list.py",
          "varRefreshCmd": "print(var_dic_list())"
        },
        "r": {
          "delete_cmd_postfix": ") ",
          "delete_cmd_prefix": "rm(",
          "library": "var_list.r",
          "varRefreshCmd": "cat(var_dic_list()) "
        }
      },
      "types_to_exclude": [
        "module",
        "function",
        "builtin_function_or_method",
        "instance",
        "_Feature"
      ],
      "window_display": false
    },
    "colab": {
      "name": "Vegetables_Supply_Prediction_ML_5/31.ipynb",
      "provenance": [],
      "collapsed_sections": []
    },
    "widgets": {
      "application/vnd.jupyter.widget-state+json": {
        "fbb5c20007dc48e19b1b71f11fa29285": {
          "model_module": "jupyter-leaflet",
          "model_name": "LeafletTileLayerModel",
          "model_module_version": "^0.16.0",
          "state": {
            "_model_module": "jupyter-leaflet",
            "_model_module_version": "^0.16.0",
            "_model_name": "LeafletTileLayerModel",
            "_view_count": null,
            "_view_module": "jupyter-leaflet",
            "_view_module_version": "^0.16.0",
            "_view_name": "LeafletTileLayerView",
            "attribution": "Google",
            "base": false,
            "bottom": true,
            "bounds": null,
            "detect_retina": false,
            "loading": false,
            "max_native_zoom": 18,
            "max_zoom": 22,
            "min_native_zoom": 0,
            "min_zoom": 0,
            "name": "Google Maps",
            "no_wrap": false,
            "opacity": 1,
            "options": [
              "attribution",
              "bounds",
              "detect_retina",
              "max_native_zoom",
              "max_zoom",
              "min_native_zoom",
              "min_zoom",
              "no_wrap",
              "tile_size",
              "tms"
            ],
            "popup": null,
            "popup_max_height": null,
            "popup_max_width": 300,
            "popup_min_width": 50,
            "show_loading": false,
            "tile_size": 256,
            "tms": false,
            "url": "https://mt1.google.com/vt/lyrs=m&x={x}&y={y}&z={z}",
            "visible": true
          }
        },
        "484f4e020e2347bebc7cb2ccb5bf878f": {
          "model_module": "jupyter-leaflet",
          "model_name": "LeafletMapModel",
          "model_module_version": "^0.16.0",
          "state": {
            "_dom_classes": [],
            "_model_module": "jupyter-leaflet",
            "_model_module_version": "^0.16.0",
            "_model_name": "LeafletMapModel",
            "_view_count": null,
            "_view_module": "jupyter-leaflet",
            "_view_module_version": "^0.16.0",
            "_view_name": "LeafletMapView",
            "bottom": 24381,
            "bounce_at_zoom_limits": true,
            "box_zoom": true,
            "center": [
              43,
              -80.55
            ],
            "close_popup_on_click": true,
            "controls": [
              "IPY_MODEL_a29f7a6f8b8c4d509173b32545fff6e2",
              "IPY_MODEL_bf56d03030474fb182700be078217ba5",
              "IPY_MODEL_12eeddc0e3c44f7b9af2f25188d2616c",
              "IPY_MODEL_518d1f19067b4a898286a4df129418cc",
              "IPY_MODEL_83eb07cd7a674fdd9e67d601a1c58a3c",
              "IPY_MODEL_42759f58ab734f87b693432b4b158f55",
              "IPY_MODEL_291b9cb2e6df466c95774e24f6005a31",
              "IPY_MODEL_489a29194aba4c80889275a44e28b1b0"
            ],
            "crs": {
              "name": "EPSG3857",
              "custom": false
            },
            "default_style": "IPY_MODEL_19c848845c4c4295b1804da1e2144992",
            "double_click_zoom": true,
            "dragging": true,
            "dragging_style": "IPY_MODEL_6d6af6ca8975437ca437b0f603fa3dab",
            "east": -75.58593750000001,
            "fullscreen": false,
            "inertia": true,
            "inertia_deceleration": 3000,
            "inertia_max_speed": 1500,
            "interpolation": "bilinear",
            "keyboard": true,
            "keyboard_pan_offset": 80,
            "keyboard_zoom_offset": 1,
            "layers": [
              "IPY_MODEL_83e2e11e3e824661b8aecb907b2dbfe7",
              "IPY_MODEL_fbb5c20007dc48e19b1b71f11fa29285",
              "IPY_MODEL_0983a44f44374c049d8b96c5b41d56a6",
              "IPY_MODEL_f81c669c1e1c4ee9b17774ccb523ac05",
              "IPY_MODEL_c04aa354e96f4d79968bf5675c5d4cf0",
              "IPY_MODEL_8da4ac2c6bf740f3a15d9d7aad1eb62c",
              "IPY_MODEL_d89c386ea31f428c9fa33deee347d33e",
              "IPY_MODEL_7b01c3099599447ca4a97074055b05ed"
            ],
            "layout": "IPY_MODEL_373dfc2aa5fe48eb834d49c67bed61a8",
            "left": 17200,
            "max_zoom": 24,
            "min_zoom": 1,
            "modisdate": "2022-05-28",
            "north": 44.19402066387343,
            "options": [
              "bounce_at_zoom_limits",
              "box_zoom",
              "center",
              "close_popup_on_click",
              "double_click_zoom",
              "dragging",
              "fullscreen",
              "inertia",
              "inertia_deceleration",
              "inertia_max_speed",
              "interpolation",
              "keyboard",
              "keyboard_pan_offset",
              "keyboard_zoom_offset",
              "max_zoom",
              "min_zoom",
              "prefer_canvas",
              "scroll_wheel_zoom",
              "tap",
              "tap_tolerance",
              "touch_zoom",
              "world_copy_jump",
              "zoom",
              "zoom_animation_threshold",
              "zoom_delta",
              "zoom_snap",
              "zoom_start"
            ],
            "prefer_canvas": false,
            "right": 19008,
            "scroll_wheel_zoom": true,
            "south": 41.78360106648078,
            "style": "IPY_MODEL_0b9ce28daa064bebb1af11243c346304",
            "tap": true,
            "tap_tolerance": 15,
            "top": 23781,
            "touch_zoom": true,
            "west": -85.51757812500001,
            "window_url": "https://71k46xpkt4d-496ff2e9c6d22116-0-colab.googleusercontent.com/outputframe.html?vrz=colab-20220525-060046-RC00_450840856",
            "world_copy_jump": false,
            "zoom": 8,
            "zoom_animation_threshold": 4,
            "zoom_delta": 1,
            "zoom_snap": 1,
            "zoom_start": 12
          }
        },
        "a29f7a6f8b8c4d509173b32545fff6e2": {
          "model_module": "jupyter-leaflet",
          "model_name": "LeafletWidgetControlModel",
          "model_module_version": "^0.16.0",
          "state": {
            "_model_module": "jupyter-leaflet",
            "_model_module_version": "^0.16.0",
            "_model_name": "LeafletWidgetControlModel",
            "_view_count": null,
            "_view_module": "jupyter-leaflet",
            "_view_module_version": "^0.16.0",
            "_view_name": "LeafletWidgetControlView",
            "max_height": null,
            "max_width": null,
            "min_height": null,
            "min_width": null,
            "options": [
              "position",
              "transparent_bg"
            ],
            "position": "topleft",
            "transparent_bg": false,
            "widget": "IPY_MODEL_8e0214f8174e4141a2465788ce3fd2da"
          }
        },
        "bf56d03030474fb182700be078217ba5": {
          "model_module": "jupyter-leaflet",
          "model_name": "LeafletZoomControlModel",
          "model_module_version": "^0.16.0",
          "state": {
            "_model_module": "jupyter-leaflet",
            "_model_module_version": "^0.16.0",
            "_model_name": "LeafletZoomControlModel",
            "_view_count": null,
            "_view_module": "jupyter-leaflet",
            "_view_module_version": "^0.16.0",
            "_view_name": "LeafletZoomControlView",
            "options": [
              "position",
              "zoom_in_text",
              "zoom_in_title",
              "zoom_out_text",
              "zoom_out_title"
            ],
            "position": "topleft",
            "zoom_in_text": "+",
            "zoom_in_title": "Zoom in",
            "zoom_out_text": "-",
            "zoom_out_title": "Zoom out"
          }
        },
        "12eeddc0e3c44f7b9af2f25188d2616c": {
          "model_module": "jupyter-leaflet",
          "model_name": "LeafletScaleControlModel",
          "model_module_version": "^0.16.0",
          "state": {
            "_model_module": "jupyter-leaflet",
            "_model_module_version": "^0.16.0",
            "_model_name": "LeafletScaleControlModel",
            "_view_count": null,
            "_view_module": "jupyter-leaflet",
            "_view_module_version": "^0.16.0",
            "_view_name": "LeafletScaleControlView",
            "imperial": true,
            "max_width": 100,
            "metric": true,
            "options": [
              "imperial",
              "max_width",
              "metric",
              "position",
              "update_when_idle"
            ],
            "position": "bottomleft",
            "update_when_idle": false
          }
        },
        "518d1f19067b4a898286a4df129418cc": {
          "model_module": "jupyter-leaflet",
          "model_name": "LeafletFullScreenControlModel",
          "model_module_version": "^0.16.0",
          "state": {
            "_model_module": "jupyter-leaflet",
            "_model_module_version": "^0.16.0",
            "_model_name": "LeafletFullScreenControlModel",
            "_view_count": null,
            "_view_module": "jupyter-leaflet",
            "_view_module_version": "^0.16.0",
            "_view_name": "LeafletFullScreenControlView",
            "options": [
              "position"
            ],
            "position": "topleft"
          }
        },
        "83eb07cd7a674fdd9e67d601a1c58a3c": {
          "model_module": "jupyter-leaflet",
          "model_name": "LeafletMeasureControlModel",
          "model_module_version": "^0.16.0",
          "state": {
            "_custom_units": {},
            "_model_module": "jupyter-leaflet",
            "_model_module_version": "^0.16.0",
            "_model_name": "LeafletMeasureControlModel",
            "_view_count": null,
            "_view_module": "jupyter-leaflet",
            "_view_module_version": "^0.16.0",
            "_view_name": "LeafletMeasureControlView",
            "active_color": "orange",
            "capture_z_index": 10000,
            "completed_color": "#C8F2BE",
            "options": [
              "active_color",
              "capture_z_index",
              "completed_color",
              "popup_options",
              "position",
              "primary_area_unit",
              "primary_length_unit",
              "secondary_area_unit",
              "secondary_length_unit"
            ],
            "popup_options": {
              "className": "leaflet-measure-resultpopup",
              "autoPanPadding": [
                10,
                10
              ]
            },
            "position": "bottomleft",
            "primary_area_unit": "acres",
            "primary_length_unit": "kilometers",
            "secondary_area_unit": null,
            "secondary_length_unit": null
          }
        },
        "42759f58ab734f87b693432b4b158f55": {
          "model_module": "jupyter-leaflet",
          "model_name": "LeafletAttributionControlModel",
          "model_module_version": "^0.16.0",
          "state": {
            "_model_module": "jupyter-leaflet",
            "_model_module_version": "^0.16.0",
            "_model_name": "LeafletAttributionControlModel",
            "_view_count": null,
            "_view_module": "jupyter-leaflet",
            "_view_module_version": "^0.16.0",
            "_view_name": "LeafletAttributionControlView",
            "options": [
              "position",
              "prefix"
            ],
            "position": "bottomright",
            "prefix": "ipyleaflet"
          }
        },
        "291b9cb2e6df466c95774e24f6005a31": {
          "model_module": "jupyter-leaflet",
          "model_name": "LeafletDrawControlModel",
          "model_module_version": "^0.16.0",
          "state": {
            "_model_module": "jupyter-leaflet",
            "_model_module_version": "^0.16.0",
            "_model_name": "LeafletDrawControlModel",
            "_view_count": null,
            "_view_module": "jupyter-leaflet",
            "_view_module_version": "^0.16.0",
            "_view_name": "LeafletDrawControlView",
            "circle": {
              "shapeOptions": {
                "color": "#3388ff"
              }
            },
            "circlemarker": {},
            "data": [],
            "edit": true,
            "marker": {
              "shapeOptions": {
                "color": "#3388ff"
              }
            },
            "options": [
              "position"
            ],
            "polygon": {
              "shapeOptions": {}
            },
            "polyline": {
              "shapeOptions": {}
            },
            "position": "topleft",
            "rectangle": {
              "shapeOptions": {
                "color": "#3388ff"
              }
            },
            "remove": true
          }
        },
        "489a29194aba4c80889275a44e28b1b0": {
          "model_module": "jupyter-leaflet",
          "model_name": "LeafletWidgetControlModel",
          "model_module_version": "^0.16.0",
          "state": {
            "_model_module": "jupyter-leaflet",
            "_model_module_version": "^0.16.0",
            "_model_name": "LeafletWidgetControlModel",
            "_view_count": null,
            "_view_module": "jupyter-leaflet",
            "_view_module_version": "^0.16.0",
            "_view_name": "LeafletWidgetControlView",
            "max_height": null,
            "max_width": null,
            "min_height": null,
            "min_width": null,
            "options": [
              "position",
              "transparent_bg"
            ],
            "position": "topright",
            "transparent_bg": false,
            "widget": "IPY_MODEL_f9d04d4192b240718aaeed66a8b0dd4d"
          }
        },
        "19c848845c4c4295b1804da1e2144992": {
          "model_module": "jupyter-leaflet",
          "model_name": "LeafletMapStyleModel",
          "model_module_version": "^0.16.0",
          "state": {
            "_model_module": "jupyter-leaflet",
            "_model_module_version": "^0.16.0",
            "_model_name": "LeafletMapStyleModel",
            "_view_count": null,
            "_view_module": "@jupyter-widgets/base",
            "_view_module_version": "1.2.0",
            "_view_name": "StyleView",
            "cursor": "grab"
          }
        },
        "6d6af6ca8975437ca437b0f603fa3dab": {
          "model_module": "jupyter-leaflet",
          "model_name": "LeafletMapStyleModel",
          "model_module_version": "^0.16.0",
          "state": {
            "_model_module": "jupyter-leaflet",
            "_model_module_version": "^0.16.0",
            "_model_name": "LeafletMapStyleModel",
            "_view_count": null,
            "_view_module": "@jupyter-widgets/base",
            "_view_module_version": "1.2.0",
            "_view_name": "StyleView",
            "cursor": "move"
          }
        },
        "83e2e11e3e824661b8aecb907b2dbfe7": {
          "model_module": "jupyter-leaflet",
          "model_name": "LeafletTileLayerModel",
          "model_module_version": "^0.16.0",
          "state": {
            "_model_module": "jupyter-leaflet",
            "_model_module_version": "^0.16.0",
            "_model_name": "LeafletTileLayerModel",
            "_view_count": null,
            "_view_module": "jupyter-leaflet",
            "_view_module_version": "^0.16.0",
            "_view_name": "LeafletTileLayerView",
            "attribution": "&copy; <a href=\"https://www.openstreetmap.org/copyright\">OpenStreetMap</a> contributors",
            "base": true,
            "bottom": true,
            "bounds": null,
            "detect_retina": false,
            "loading": false,
            "max_native_zoom": 18,
            "max_zoom": 19,
            "min_native_zoom": 0,
            "min_zoom": 1,
            "name": "OpenStreetMap.Mapnik",
            "no_wrap": false,
            "opacity": 1,
            "options": [
              "attribution",
              "bounds",
              "detect_retina",
              "max_native_zoom",
              "max_zoom",
              "min_native_zoom",
              "min_zoom",
              "no_wrap",
              "tile_size",
              "tms"
            ],
            "popup": null,
            "popup_max_height": null,
            "popup_max_width": 300,
            "popup_min_width": 50,
            "show_loading": false,
            "tile_size": 256,
            "tms": false,
            "url": "https://a.tile.openstreetmap.org/{z}/{x}/{y}.png",
            "visible": true
          }
        },
        "0983a44f44374c049d8b96c5b41d56a6": {
          "model_module": "jupyter-leaflet",
          "model_name": "LeafletTileLayerModel",
          "model_module_version": "^0.16.0",
          "state": {
            "_model_module": "jupyter-leaflet",
            "_model_module_version": "^0.16.0",
            "_model_name": "LeafletTileLayerModel",
            "_view_count": null,
            "_view_module": "jupyter-leaflet",
            "_view_module_version": "^0.16.0",
            "_view_name": "LeafletTileLayerView",
            "attribution": "Google Earth Engine",
            "base": false,
            "bottom": true,
            "bounds": null,
            "detect_retina": false,
            "loading": false,
            "max_native_zoom": 18,
            "max_zoom": 24,
            "min_native_zoom": 0,
            "min_zoom": 0,
            "name": "Landsat-8",
            "no_wrap": false,
            "opacity": 1,
            "options": [
              "attribution",
              "bounds",
              "detect_retina",
              "max_native_zoom",
              "max_zoom",
              "min_native_zoom",
              "min_zoom",
              "no_wrap",
              "tile_size",
              "tms"
            ],
            "popup": null,
            "popup_max_height": null,
            "popup_max_width": 300,
            "popup_min_width": 50,
            "show_loading": false,
            "tile_size": 256,
            "tms": false,
            "url": "https://earthengine.googleapis.com/v1alpha/projects/earthengine-legacy/maps/965777d431ba4cd842c588c226f19e57-1d3933d5daaedc85a2fc7dc4467261f5/tiles/{z}/{x}/{y}",
            "visible": true
          }
        },
        "373dfc2aa5fe48eb834d49c67bed61a8": {
          "model_module": "@jupyter-widgets/base",
          "model_name": "LayoutModel",
          "model_module_version": "1.2.0",
          "state": {
            "_model_module": "@jupyter-widgets/base",
            "_model_module_version": "1.2.0",
            "_model_name": "LayoutModel",
            "_view_count": null,
            "_view_module": "@jupyter-widgets/base",
            "_view_module_version": "1.2.0",
            "_view_name": "LayoutView",
            "align_content": null,
            "align_items": null,
            "align_self": null,
            "border": null,
            "bottom": null,
            "display": null,
            "flex": null,
            "flex_flow": null,
            "grid_area": null,
            "grid_auto_columns": null,
            "grid_auto_flow": null,
            "grid_auto_rows": null,
            "grid_column": null,
            "grid_gap": null,
            "grid_row": null,
            "grid_template_areas": null,
            "grid_template_columns": null,
            "grid_template_rows": null,
            "height": "600px",
            "justify_content": null,
            "justify_items": null,
            "left": null,
            "margin": null,
            "max_height": null,
            "max_width": null,
            "min_height": null,
            "min_width": null,
            "object_fit": null,
            "object_position": null,
            "order": null,
            "overflow": null,
            "overflow_x": null,
            "overflow_y": null,
            "padding": null,
            "right": null,
            "top": null,
            "visibility": null,
            "width": null
          }
        },
        "0b9ce28daa064bebb1af11243c346304": {
          "model_module": "jupyter-leaflet",
          "model_name": "LeafletMapStyleModel",
          "model_module_version": "^0.16.0",
          "state": {
            "_model_module": "jupyter-leaflet",
            "_model_module_version": "^0.16.0",
            "_model_name": "LeafletMapStyleModel",
            "_view_count": null,
            "_view_module": "@jupyter-widgets/base",
            "_view_module_version": "1.2.0",
            "_view_name": "StyleView",
            "cursor": "grab"
          }
        },
        "8e0214f8174e4141a2465788ce3fd2da": {
          "model_module": "@jupyter-widgets/controls",
          "model_name": "HBoxModel",
          "model_module_version": "1.5.0",
          "state": {
            "_dom_classes": [],
            "_model_module": "@jupyter-widgets/controls",
            "_model_module_version": "1.5.0",
            "_model_name": "HBoxModel",
            "_view_count": null,
            "_view_module": "@jupyter-widgets/controls",
            "_view_module_version": "1.5.0",
            "_view_name": "HBoxView",
            "box_style": "",
            "children": [
              "IPY_MODEL_c32cd2598ff8482682bf9641cda53d78"
            ],
            "layout": "IPY_MODEL_2fbc2aca3f204beab76c5a2ceacdafe1"
          }
        },
        "f9d04d4192b240718aaeed66a8b0dd4d": {
          "model_module": "@jupyter-widgets/controls",
          "model_name": "VBoxModel",
          "model_module_version": "1.5.0",
          "state": {
            "_dom_classes": [],
            "_model_module": "@jupyter-widgets/controls",
            "_model_module_version": "1.5.0",
            "_model_name": "VBoxModel",
            "_view_count": null,
            "_view_module": "@jupyter-widgets/controls",
            "_view_module_version": "1.5.0",
            "_view_name": "VBoxView",
            "box_style": "",
            "children": [
              "IPY_MODEL_536fa008f05f42d8b1e3afaa4e682cb9"
            ],
            "layout": "IPY_MODEL_18e016b212504703920dd165502803df"
          }
        },
        "c32cd2598ff8482682bf9641cda53d78": {
          "model_module": "@jupyter-widgets/controls",
          "model_name": "ToggleButtonModel",
          "model_module_version": "1.5.0",
          "state": {
            "_dom_classes": [],
            "_model_module": "@jupyter-widgets/controls",
            "_model_module_version": "1.5.0",
            "_model_name": "ToggleButtonModel",
            "_view_count": null,
            "_view_module": "@jupyter-widgets/controls",
            "_view_module_version": "1.5.0",
            "_view_name": "ToggleButtonView",
            "button_style": "",
            "description": "",
            "description_tooltip": null,
            "disabled": false,
            "icon": "globe",
            "layout": "IPY_MODEL_781f7a611e0446918de4ad775dc91883",
            "style": "IPY_MODEL_40af9cfd40fb4f71b04e5ee36c526ab4",
            "tooltip": "Search location/data",
            "value": false
          }
        },
        "2fbc2aca3f204beab76c5a2ceacdafe1": {
          "model_module": "@jupyter-widgets/base",
          "model_name": "LayoutModel",
          "model_module_version": "1.2.0",
          "state": {
            "_model_module": "@jupyter-widgets/base",
            "_model_module_version": "1.2.0",
            "_model_name": "LayoutModel",
            "_view_count": null,
            "_view_module": "@jupyter-widgets/base",
            "_view_module_version": "1.2.0",
            "_view_name": "LayoutView",
            "align_content": null,
            "align_items": null,
            "align_self": null,
            "border": null,
            "bottom": null,
            "display": null,
            "flex": null,
            "flex_flow": null,
            "grid_area": null,
            "grid_auto_columns": null,
            "grid_auto_flow": null,
            "grid_auto_rows": null,
            "grid_column": null,
            "grid_gap": null,
            "grid_row": null,
            "grid_template_areas": null,
            "grid_template_columns": null,
            "grid_template_rows": null,
            "height": null,
            "justify_content": null,
            "justify_items": null,
            "left": null,
            "margin": null,
            "max_height": null,
            "max_width": null,
            "min_height": null,
            "min_width": null,
            "object_fit": null,
            "object_position": null,
            "order": null,
            "overflow": null,
            "overflow_x": null,
            "overflow_y": null,
            "padding": null,
            "right": null,
            "top": null,
            "visibility": null,
            "width": null
          }
        },
        "536fa008f05f42d8b1e3afaa4e682cb9": {
          "model_module": "@jupyter-widgets/controls",
          "model_name": "ToggleButtonModel",
          "model_module_version": "1.5.0",
          "state": {
            "_dom_classes": [],
            "_model_module": "@jupyter-widgets/controls",
            "_model_module_version": "1.5.0",
            "_model_name": "ToggleButtonModel",
            "_view_count": null,
            "_view_module": "@jupyter-widgets/controls",
            "_view_module_version": "1.5.0",
            "_view_name": "ToggleButtonView",
            "button_style": "",
            "description": "",
            "description_tooltip": null,
            "disabled": false,
            "icon": "wrench",
            "layout": "IPY_MODEL_392c1ebee8e844209cf0ce8e09eb6d13",
            "style": "IPY_MODEL_e0fb91defc0645fca67c6c35b61c9579",
            "tooltip": "Toolbar",
            "value": false
          }
        },
        "18e016b212504703920dd165502803df": {
          "model_module": "@jupyter-widgets/base",
          "model_name": "LayoutModel",
          "model_module_version": "1.2.0",
          "state": {
            "_model_module": "@jupyter-widgets/base",
            "_model_module_version": "1.2.0",
            "_model_name": "LayoutModel",
            "_view_count": null,
            "_view_module": "@jupyter-widgets/base",
            "_view_module_version": "1.2.0",
            "_view_name": "LayoutView",
            "align_content": null,
            "align_items": null,
            "align_self": null,
            "border": null,
            "bottom": null,
            "display": null,
            "flex": null,
            "flex_flow": null,
            "grid_area": null,
            "grid_auto_columns": null,
            "grid_auto_flow": null,
            "grid_auto_rows": null,
            "grid_column": null,
            "grid_gap": null,
            "grid_row": null,
            "grid_template_areas": null,
            "grid_template_columns": null,
            "grid_template_rows": null,
            "height": null,
            "justify_content": null,
            "justify_items": null,
            "left": null,
            "margin": null,
            "max_height": null,
            "max_width": null,
            "min_height": null,
            "min_width": null,
            "object_fit": null,
            "object_position": null,
            "order": null,
            "overflow": null,
            "overflow_x": null,
            "overflow_y": null,
            "padding": null,
            "right": null,
            "top": null,
            "visibility": null,
            "width": null
          }
        },
        "781f7a611e0446918de4ad775dc91883": {
          "model_module": "@jupyter-widgets/base",
          "model_name": "LayoutModel",
          "model_module_version": "1.2.0",
          "state": {
            "_model_module": "@jupyter-widgets/base",
            "_model_module_version": "1.2.0",
            "_model_name": "LayoutModel",
            "_view_count": null,
            "_view_module": "@jupyter-widgets/base",
            "_view_module_version": "1.2.0",
            "_view_name": "LayoutView",
            "align_content": null,
            "align_items": null,
            "align_self": null,
            "border": null,
            "bottom": null,
            "display": null,
            "flex": null,
            "flex_flow": null,
            "grid_area": null,
            "grid_auto_columns": null,
            "grid_auto_flow": null,
            "grid_auto_rows": null,
            "grid_column": null,
            "grid_gap": null,
            "grid_row": null,
            "grid_template_areas": null,
            "grid_template_columns": null,
            "grid_template_rows": null,
            "height": "28px",
            "justify_content": null,
            "justify_items": null,
            "left": null,
            "margin": null,
            "max_height": null,
            "max_width": null,
            "min_height": null,
            "min_width": null,
            "object_fit": null,
            "object_position": null,
            "order": null,
            "overflow": null,
            "overflow_x": null,
            "overflow_y": null,
            "padding": "0px 0px 0px 4px",
            "right": null,
            "top": null,
            "visibility": null,
            "width": "28px"
          }
        },
        "40af9cfd40fb4f71b04e5ee36c526ab4": {
          "model_module": "@jupyter-widgets/controls",
          "model_name": "DescriptionStyleModel",
          "model_module_version": "1.5.0",
          "state": {
            "_model_module": "@jupyter-widgets/controls",
            "_model_module_version": "1.5.0",
            "_model_name": "DescriptionStyleModel",
            "_view_count": null,
            "_view_module": "@jupyter-widgets/base",
            "_view_module_version": "1.2.0",
            "_view_name": "StyleView",
            "description_width": ""
          }
        },
        "392c1ebee8e844209cf0ce8e09eb6d13": {
          "model_module": "@jupyter-widgets/base",
          "model_name": "LayoutModel",
          "model_module_version": "1.2.0",
          "state": {
            "_model_module": "@jupyter-widgets/base",
            "_model_module_version": "1.2.0",
            "_model_name": "LayoutModel",
            "_view_count": null,
            "_view_module": "@jupyter-widgets/base",
            "_view_module_version": "1.2.0",
            "_view_name": "LayoutView",
            "align_content": null,
            "align_items": null,
            "align_self": null,
            "border": null,
            "bottom": null,
            "display": null,
            "flex": null,
            "flex_flow": null,
            "grid_area": null,
            "grid_auto_columns": null,
            "grid_auto_flow": null,
            "grid_auto_rows": null,
            "grid_column": null,
            "grid_gap": null,
            "grid_row": null,
            "grid_template_areas": null,
            "grid_template_columns": null,
            "grid_template_rows": null,
            "height": "28px",
            "justify_content": null,
            "justify_items": null,
            "left": null,
            "margin": null,
            "max_height": null,
            "max_width": null,
            "min_height": null,
            "min_width": null,
            "object_fit": null,
            "object_position": null,
            "order": null,
            "overflow": null,
            "overflow_x": null,
            "overflow_y": null,
            "padding": "0px 0px 0px 4px",
            "right": null,
            "top": null,
            "visibility": null,
            "width": "28px"
          }
        },
        "e0fb91defc0645fca67c6c35b61c9579": {
          "model_module": "@jupyter-widgets/controls",
          "model_name": "DescriptionStyleModel",
          "model_module_version": "1.5.0",
          "state": {
            "_model_module": "@jupyter-widgets/controls",
            "_model_module_version": "1.5.0",
            "_model_name": "DescriptionStyleModel",
            "_view_count": null,
            "_view_module": "@jupyter-widgets/base",
            "_view_module_version": "1.2.0",
            "_view_name": "StyleView",
            "description_width": ""
          }
        },
        "f81c669c1e1c4ee9b17774ccb523ac05": {
          "model_module": "jupyter-leaflet",
          "model_name": "LeafletTileLayerModel",
          "model_module_version": "^0.16.0",
          "state": {
            "_model_module": "jupyter-leaflet",
            "_model_module_version": "^0.16.0",
            "_model_name": "LeafletTileLayerModel",
            "_view_count": null,
            "_view_module": "jupyter-leaflet",
            "_view_module_version": "^0.16.0",
            "_view_name": "LeafletTileLayerView",
            "attribution": "Google Earth Engine",
            "base": false,
            "bottom": true,
            "bounds": null,
            "detect_retina": false,
            "loading": false,
            "max_native_zoom": 18,
            "max_zoom": 24,
            "min_native_zoom": 0,
            "min_zoom": 0,
            "name": "AAFC",
            "no_wrap": false,
            "opacity": 1,
            "options": [
              "attribution",
              "bounds",
              "detect_retina",
              "max_native_zoom",
              "max_zoom",
              "min_native_zoom",
              "min_zoom",
              "no_wrap",
              "tile_size",
              "tms"
            ],
            "popup": null,
            "popup_max_height": null,
            "popup_max_width": 300,
            "popup_min_width": 50,
            "show_loading": false,
            "tile_size": 256,
            "tms": false,
            "url": "https://earthengine.googleapis.com/v1alpha/projects/earthengine-legacy/maps/fbb55a04ba7c97bbca1b20ea3cc03f64-f387c98126e62af0aade22f258cbab41/tiles/{z}/{x}/{y}",
            "visible": true
          }
        },
        "c04aa354e96f4d79968bf5675c5d4cf0": {
          "model_module": "jupyter-leaflet",
          "model_name": "LeafletTileLayerModel",
          "model_module_version": "^0.16.0",
          "state": {
            "_model_module": "jupyter-leaflet",
            "_model_module_version": "^0.16.0",
            "_model_name": "LeafletTileLayerModel",
            "_view_count": null,
            "_view_module": "jupyter-leaflet",
            "_view_module_version": "^0.16.0",
            "_view_name": "LeafletTileLayerView",
            "attribution": "Google Earth Engine",
            "base": false,
            "bottom": true,
            "bounds": null,
            "detect_retina": false,
            "loading": false,
            "max_native_zoom": 18,
            "max_zoom": 24,
            "min_native_zoom": 0,
            "min_zoom": 0,
            "name": "training",
            "no_wrap": false,
            "opacity": 1,
            "options": [
              "attribution",
              "bounds",
              "detect_retina",
              "max_native_zoom",
              "max_zoom",
              "min_native_zoom",
              "min_zoom",
              "no_wrap",
              "tile_size",
              "tms"
            ],
            "popup": null,
            "popup_max_height": null,
            "popup_max_width": 300,
            "popup_min_width": 50,
            "show_loading": false,
            "tile_size": 256,
            "tms": false,
            "url": "https://earthengine.googleapis.com/v1alpha/projects/earthengine-legacy/maps/aa95f77d018f520ae2d836214705c753-98a5fd6f37c522205c5bbc84fd397436/tiles/{z}/{x}/{y}",
            "visible": false
          }
        },
        "8da4ac2c6bf740f3a15d9d7aad1eb62c": {
          "model_module": "jupyter-leaflet",
          "model_name": "LeafletTileLayerModel",
          "model_module_version": "^0.16.0",
          "state": {
            "_model_module": "jupyter-leaflet",
            "_model_module_version": "^0.16.0",
            "_model_name": "LeafletTileLayerModel",
            "_view_count": null,
            "_view_module": "jupyter-leaflet",
            "_view_module_version": "^0.16.0",
            "_view_name": "LeafletTileLayerView",
            "attribution": "Google Earth Engine",
            "base": false,
            "bottom": true,
            "bounds": null,
            "detect_retina": false,
            "loading": false,
            "max_native_zoom": 18,
            "max_zoom": 24,
            "min_native_zoom": 0,
            "min_zoom": 0,
            "name": "validation",
            "no_wrap": false,
            "opacity": 1,
            "options": [
              "attribution",
              "bounds",
              "detect_retina",
              "max_native_zoom",
              "max_zoom",
              "min_native_zoom",
              "min_zoom",
              "no_wrap",
              "tile_size",
              "tms"
            ],
            "popup": null,
            "popup_max_height": null,
            "popup_max_width": 300,
            "popup_min_width": 50,
            "show_loading": false,
            "tile_size": 256,
            "tms": false,
            "url": "https://earthengine.googleapis.com/v1alpha/projects/earthengine-legacy/maps/732b6c8e6c47f833c7c8a515e81dfd03-3f55720f921170ff83a8666d18c9fce2/tiles/{z}/{x}/{y}",
            "visible": false
          }
        },
        "d89c386ea31f428c9fa33deee347d33e": {
          "model_module": "jupyter-leaflet",
          "model_name": "LeafletTileLayerModel",
          "model_module_version": "^0.16.0",
          "state": {
            "_model_module": "jupyter-leaflet",
            "_model_module_version": "^0.16.0",
            "_model_name": "LeafletTileLayerModel",
            "_view_count": null,
            "_view_module": "jupyter-leaflet",
            "_view_module_version": "^0.16.0",
            "_view_name": "LeafletTileLayerView",
            "attribution": "Google Earth Engine",
            "base": false,
            "bottom": true,
            "bounds": null,
            "detect_retina": false,
            "loading": false,
            "max_native_zoom": 18,
            "max_zoom": 24,
            "min_native_zoom": 0,
            "min_zoom": 0,
            "name": "classified",
            "no_wrap": false,
            "opacity": 1,
            "options": [
              "attribution",
              "bounds",
              "detect_retina",
              "max_native_zoom",
              "max_zoom",
              "min_native_zoom",
              "min_zoom",
              "no_wrap",
              "tile_size",
              "tms"
            ],
            "popup": null,
            "popup_max_height": null,
            "popup_max_width": 300,
            "popup_min_width": 50,
            "show_loading": false,
            "tile_size": 256,
            "tms": false,
            "url": "https://earthengine.googleapis.com/v1alpha/projects/earthengine-legacy/maps/dde435476dfaba48959613ce21a1eb79-082d61f87c4e870dac31e60f4136b65d/tiles/{z}/{x}/{y}",
            "visible": true
          }
        },
        "7b01c3099599447ca4a97074055b05ed": {
          "model_module": "jupyter-leaflet",
          "model_name": "LeafletTileLayerModel",
          "model_module_version": "^0.16.0",
          "state": {
            "_model_module": "jupyter-leaflet",
            "_model_module_version": "^0.16.0",
            "_model_name": "LeafletTileLayerModel",
            "_view_count": null,
            "_view_module": "jupyter-leaflet",
            "_view_module_version": "^0.16.0",
            "_view_name": "LeafletTileLayerView",
            "attribution": "Google Earth Engine",
            "base": false,
            "bottom": true,
            "bounds": null,
            "detect_retina": false,
            "loading": false,
            "max_native_zoom": 18,
            "max_zoom": 24,
            "min_native_zoom": 0,
            "min_zoom": 0,
            "name": "Land cover",
            "no_wrap": false,
            "opacity": 1,
            "options": [
              "attribution",
              "bounds",
              "detect_retina",
              "max_native_zoom",
              "max_zoom",
              "min_native_zoom",
              "min_zoom",
              "no_wrap",
              "tile_size",
              "tms"
            ],
            "popup": null,
            "popup_max_height": null,
            "popup_max_width": 300,
            "popup_min_width": 50,
            "show_loading": false,
            "tile_size": 256,
            "tms": false,
            "url": "https://earthengine.googleapis.com/v1alpha/projects/earthengine-legacy/maps/a4a9633089161f28afda0b8c8bdd2e34-ba9e70f9d2e911ae03ad740a1b30f449/tiles/{z}/{x}/{y}",
            "visible": true
          }
        },
        "95567ed3d7664f57a53b1921e6a08b77": {
          "model_module": "@jupyter-widgets/controls",
          "model_name": "BoxModel",
          "model_module_version": "1.5.0",
          "state": {
            "_dom_classes": [],
            "_model_module": "@jupyter-widgets/controls",
            "_model_module_version": "1.5.0",
            "_model_name": "BoxModel",
            "_view_count": null,
            "_view_module": "@jupyter-widgets/controls",
            "_view_module_version": "1.5.0",
            "_view_name": "BoxView",
            "box_style": "",
            "children": [
              "IPY_MODEL_1fe373ae4635402abfbc5f791eed1efa"
            ],
            "layout": "IPY_MODEL_b76c610d73ea49ce9032a45ebfb30753"
          }
        },
        "1fe373ae4635402abfbc5f791eed1efa": {
          "model_module": "@jupyter-widgets/controls",
          "model_name": "FloatSliderModel",
          "model_module_version": "1.5.0",
          "state": {
            "_dom_classes": [],
            "_model_module": "@jupyter-widgets/controls",
            "_model_module_version": "1.5.0",
            "_model_name": "FloatSliderModel",
            "_view_count": null,
            "_view_module": "@jupyter-widgets/controls",
            "_view_module_version": "1.5.0",
            "_view_name": "FloatSliderView",
            "continuous_update": true,
            "description": "opacity",
            "description_tooltip": null,
            "disabled": false,
            "layout": "IPY_MODEL_d63167a7517844cc8b99fefa169da43d",
            "max": 1,
            "min": 0,
            "orientation": "horizontal",
            "readout": true,
            "readout_format": ".2f",
            "step": 0.1,
            "style": "IPY_MODEL_ade69912f61945faa9dbbb70850b898b",
            "value": 1
          }
        },
        "b76c610d73ea49ce9032a45ebfb30753": {
          "model_module": "@jupyter-widgets/base",
          "model_name": "LayoutModel",
          "model_module_version": "1.2.0",
          "state": {
            "_model_module": "@jupyter-widgets/base",
            "_model_module_version": "1.2.0",
            "_model_name": "LayoutModel",
            "_view_count": null,
            "_view_module": "@jupyter-widgets/base",
            "_view_module_version": "1.2.0",
            "_view_name": "LayoutView",
            "align_content": null,
            "align_items": null,
            "align_self": null,
            "border": null,
            "bottom": null,
            "display": null,
            "flex": null,
            "flex_flow": null,
            "grid_area": null,
            "grid_auto_columns": null,
            "grid_auto_flow": null,
            "grid_auto_rows": null,
            "grid_column": null,
            "grid_gap": null,
            "grid_row": null,
            "grid_template_areas": null,
            "grid_template_columns": null,
            "grid_template_rows": null,
            "height": null,
            "justify_content": null,
            "justify_items": null,
            "left": null,
            "margin": null,
            "max_height": null,
            "max_width": null,
            "min_height": null,
            "min_width": null,
            "object_fit": null,
            "object_position": null,
            "order": null,
            "overflow": null,
            "overflow_x": null,
            "overflow_y": null,
            "padding": null,
            "right": null,
            "top": null,
            "visibility": null,
            "width": null
          }
        },
        "d63167a7517844cc8b99fefa169da43d": {
          "model_module": "@jupyter-widgets/base",
          "model_name": "LayoutModel",
          "model_module_version": "1.2.0",
          "state": {
            "_model_module": "@jupyter-widgets/base",
            "_model_module_version": "1.2.0",
            "_model_name": "LayoutModel",
            "_view_count": null,
            "_view_module": "@jupyter-widgets/base",
            "_view_module_version": "1.2.0",
            "_view_name": "LayoutView",
            "align_content": null,
            "align_items": null,
            "align_self": null,
            "border": null,
            "bottom": null,
            "display": null,
            "flex": null,
            "flex_flow": null,
            "grid_area": null,
            "grid_auto_columns": null,
            "grid_auto_flow": null,
            "grid_auto_rows": null,
            "grid_column": null,
            "grid_gap": null,
            "grid_row": null,
            "grid_template_areas": null,
            "grid_template_columns": null,
            "grid_template_rows": null,
            "height": null,
            "justify_content": null,
            "justify_items": null,
            "left": null,
            "margin": null,
            "max_height": null,
            "max_width": null,
            "min_height": null,
            "min_width": null,
            "object_fit": null,
            "object_position": null,
            "order": null,
            "overflow": null,
            "overflow_x": null,
            "overflow_y": null,
            "padding": null,
            "right": null,
            "top": null,
            "visibility": null,
            "width": null
          }
        },
        "ade69912f61945faa9dbbb70850b898b": {
          "model_module": "@jupyter-widgets/controls",
          "model_name": "SliderStyleModel",
          "model_module_version": "1.5.0",
          "state": {
            "_model_module": "@jupyter-widgets/controls",
            "_model_module_version": "1.5.0",
            "_model_name": "SliderStyleModel",
            "_view_count": null,
            "_view_module": "@jupyter-widgets/base",
            "_view_module_version": "1.2.0",
            "_view_name": "StyleView",
            "description_width": "",
            "handle_color": null
          }
        }
      }
    }
  },
  "nbformat": 4,
  "nbformat_minor": 0
}