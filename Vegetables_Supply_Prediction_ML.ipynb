{
  "cells": [
    {
      "cell_type": "code",
      "execution_count": 1,
      "metadata": {
        "id": "Qh13Sry9Gelz",
        "colab": {
          "base_uri": "https://localhost:8080/",
          "height": 1000
        },
        "outputId": "030bc712-1180-49bd-ed50-578a9eadf506"
      },
      "outputs": [
        {
          "output_type": "stream",
          "name": "stdout",
          "text": [
            "Looking in indexes: https://pypi.org/simple, https://us-python.pkg.dev/colab-wheels/public/simple/\n",
            "Collecting geemap\n",
            "  Downloading geemap-0.13.7-py2.py3-none-any.whl (2.0 MB)\n",
            "\u001b[K     |████████████████████████████████| 2.0 MB 5.4 MB/s \n",
            "\u001b[?25hCollecting geocoder\n",
            "  Downloading geocoder-1.38.1-py2.py3-none-any.whl (98 kB)\n",
            "\u001b[K     |████████████████████████████████| 98 kB 2.1 MB/s \n",
            "\u001b[?25hRequirement already satisfied: gdown in /usr/local/lib/python3.7/dist-packages (from geemap) (4.4.0)\n",
            "Collecting bqplot\n",
            "  Downloading bqplot-0.12.33-py2.py3-none-any.whl (1.2 MB)\n",
            "\u001b[K     |████████████████████████████████| 1.2 MB 42.0 MB/s \n",
            "\u001b[?25hCollecting sankee\n",
            "  Downloading sankee-0.0.7.tar.gz (29 kB)\n",
            "Collecting xyzservices\n",
            "  Downloading xyzservices-2022.4.0-py3-none-any.whl (36 kB)\n",
            "Requirement already satisfied: pillow in /usr/local/lib/python3.7/dist-packages (from geemap) (7.1.2)\n",
            "Collecting mapclassify>=2.4.0\n",
            "  Downloading mapclassify-2.4.3-py3-none-any.whl (38 kB)\n",
            "Collecting pyshp>=2.1.3\n",
            "  Downloading pyshp-2.3.0-py2.py3-none-any.whl (46 kB)\n",
            "\u001b[K     |████████████████████████████████| 46 kB 3.6 MB/s \n",
            "\u001b[?25hCollecting jupyterlab>=3\n",
            "  Downloading jupyterlab-3.4.2-py3-none-any.whl (8.8 MB)\n",
            "\u001b[K     |████████████████████████████████| 8.8 MB 10.7 MB/s \n",
            "\u001b[?25hCollecting python-box\n",
            "  Downloading python_box-6.0.2-cp37-cp37m-manylinux_2_17_x86_64.manylinux2014_x86_64.whl (3.0 MB)\n",
            "\u001b[K     |████████████████████████████████| 3.0 MB 48.6 MB/s \n",
            "\u001b[?25hCollecting ipyleaflet>=0.14.0\n",
            "  Downloading ipyleaflet-0.16.0-py2.py3-none-any.whl (3.3 MB)\n",
            "\u001b[K     |████████████████████████████████| 3.3 MB 31.1 MB/s \n",
            "\u001b[?25hRequirement already satisfied: matplotlib in /usr/local/lib/python3.7/dist-packages (from geemap) (3.2.2)\n",
            "Requirement already satisfied: pandas in /usr/local/lib/python3.7/dist-packages (from geemap) (1.3.5)\n",
            "Collecting whiteboxgui>=0.6.0\n",
            "  Downloading whiteboxgui-0.7.0-py2.py3-none-any.whl (99 kB)\n",
            "\u001b[K     |████████████████████████████████| 99 kB 8.6 MB/s \n",
            "\u001b[?25hCollecting ipyfilechooser>=0.6.0\n",
            "  Downloading ipyfilechooser-0.6.0-py3-none-any.whl (11 kB)\n",
            "Collecting ffmpeg-python\n",
            "  Downloading ffmpeg_python-0.2.0-py3-none-any.whl (25 kB)\n",
            "Collecting folium>=0.11.0\n",
            "  Downloading folium-0.12.1.post1-py2.py3-none-any.whl (95 kB)\n",
            "\u001b[K     |████████████████████████████████| 95 kB 1.0 MB/s \n",
            "\u001b[?25hCollecting colour\n",
            "  Downloading colour-0.1.5-py2.py3-none-any.whl (23 kB)\n",
            "Collecting pycrs\n",
            "  Downloading PyCRS-1.0.2.tar.gz (36 kB)\n",
            "Collecting geeadd>=0.5.1\n",
            "  Downloading geeadd-0.5.5-py3-none-any.whl (30 kB)\n",
            "Collecting ee-extra>=0.0.10\n",
            "  Downloading ee_extra-0.0.13.tar.gz (187 kB)\n",
            "\u001b[K     |████████████████████████████████| 187 kB 44.6 MB/s \n",
            "\u001b[?25hCollecting ipytree\n",
            "  Downloading ipytree-0.2.1-py2.py3-none-any.whl (1.3 MB)\n",
            "\u001b[K     |████████████████████████████████| 1.3 MB 39.3 MB/s \n",
            "\u001b[?25hRequirement already satisfied: earthengine-api>=0.1.304 in /usr/local/lib/python3.7/dist-packages (from geemap) (0.1.310)\n",
            "Collecting ipyevents\n",
            "  Downloading ipyevents-2.0.1-py2.py3-none-any.whl (130 kB)\n",
            "\u001b[K     |████████████████████████████████| 130 kB 49.1 MB/s \n",
            "\u001b[?25hRequirement already satisfied: numpy in /usr/local/lib/python3.7/dist-packages (from geemap) (1.21.6)\n",
            "Collecting geojson\n",
            "  Downloading geojson-2.5.0-py2.py3-none-any.whl (14 kB)\n",
            "Requirement already satisfied: six in /usr/local/lib/python3.7/dist-packages (from earthengine-api>=0.1.304->geemap) (1.15.0)\n",
            "Requirement already satisfied: google-auth>=1.4.1 in /usr/local/lib/python3.7/dist-packages (from earthengine-api>=0.1.304->geemap) (1.35.0)\n",
            "Requirement already satisfied: google-cloud-storage in /usr/local/lib/python3.7/dist-packages (from earthengine-api>=0.1.304->geemap) (1.18.1)\n",
            "Requirement already satisfied: google-api-python-client<2,>=1.12.1 in /usr/local/lib/python3.7/dist-packages (from earthengine-api>=0.1.304->geemap) (1.12.11)\n",
            "Requirement already satisfied: future in /usr/local/lib/python3.7/dist-packages (from earthengine-api>=0.1.304->geemap) (0.16.0)\n",
            "Requirement already satisfied: httplib2<1dev,>=0.9.2 in /usr/local/lib/python3.7/dist-packages (from earthengine-api>=0.1.304->geemap) (0.17.4)\n",
            "Requirement already satisfied: httplib2shim in /usr/local/lib/python3.7/dist-packages (from earthengine-api>=0.1.304->geemap) (0.0.3)\n",
            "Requirement already satisfied: google-auth-httplib2>=0.0.3 in /usr/local/lib/python3.7/dist-packages (from earthengine-api>=0.1.304->geemap) (0.0.4)\n",
            "Requirement already satisfied: branca>=0.3.0 in /usr/local/lib/python3.7/dist-packages (from folium>=0.11.0->geemap) (0.5.0)\n",
            "Requirement already satisfied: jinja2>=2.9 in /usr/local/lib/python3.7/dist-packages (from folium>=0.11.0->geemap) (2.11.3)\n",
            "Requirement already satisfied: requests in /usr/local/lib/python3.7/dist-packages (from folium>=0.11.0->geemap) (2.23.0)\n",
            "Collecting logzero>=1.5.0\n",
            "  Downloading logzero-1.7.0-py2.py3-none-any.whl (16 kB)\n",
            "Collecting beautifulsoup4>=4.9.0\n",
            "  Downloading beautifulsoup4-4.11.1-py3-none-any.whl (128 kB)\n",
            "\u001b[K     |████████████████████████████████| 128 kB 54.2 MB/s \n",
            "\u001b[?25hRequirement already satisfied: soupsieve>1.2 in /usr/local/lib/python3.7/dist-packages (from beautifulsoup4>=4.9.0->geeadd>=0.5.1->geemap) (2.3.2.post1)\n",
            "Requirement already satisfied: uritemplate<4dev,>=3.0.0 in /usr/local/lib/python3.7/dist-packages (from google-api-python-client<2,>=1.12.1->earthengine-api>=0.1.304->geemap) (3.0.1)\n",
            "Requirement already satisfied: google-api-core<3dev,>=1.21.0 in /usr/local/lib/python3.7/dist-packages (from google-api-python-client<2,>=1.12.1->earthengine-api>=0.1.304->geemap) (1.31.5)\n",
            "Requirement already satisfied: setuptools>=40.3.0 in /usr/local/lib/python3.7/dist-packages (from google-api-core<3dev,>=1.21.0->google-api-python-client<2,>=1.12.1->earthengine-api>=0.1.304->geemap) (57.4.0)\n",
            "Requirement already satisfied: packaging>=14.3 in /usr/local/lib/python3.7/dist-packages (from google-api-core<3dev,>=1.21.0->google-api-python-client<2,>=1.12.1->earthengine-api>=0.1.304->geemap) (21.3)\n",
            "Requirement already satisfied: protobuf>=3.12.0 in /usr/local/lib/python3.7/dist-packages (from google-api-core<3dev,>=1.21.0->google-api-python-client<2,>=1.12.1->earthengine-api>=0.1.304->geemap) (3.17.3)\n",
            "Requirement already satisfied: googleapis-common-protos<2.0dev,>=1.6.0 in /usr/local/lib/python3.7/dist-packages (from google-api-core<3dev,>=1.21.0->google-api-python-client<2,>=1.12.1->earthengine-api>=0.1.304->geemap) (1.56.1)\n",
            "Requirement already satisfied: pytz in /usr/local/lib/python3.7/dist-packages (from google-api-core<3dev,>=1.21.0->google-api-python-client<2,>=1.12.1->earthengine-api>=0.1.304->geemap) (2022.1)\n",
            "Requirement already satisfied: pyasn1-modules>=0.2.1 in /usr/local/lib/python3.7/dist-packages (from google-auth>=1.4.1->earthengine-api>=0.1.304->geemap) (0.2.8)\n",
            "Requirement already satisfied: cachetools<5.0,>=2.0.0 in /usr/local/lib/python3.7/dist-packages (from google-auth>=1.4.1->earthengine-api>=0.1.304->geemap) (4.2.4)\n",
            "Requirement already satisfied: rsa<5,>=3.1.4 in /usr/local/lib/python3.7/dist-packages (from google-auth>=1.4.1->earthengine-api>=0.1.304->geemap) (4.8)\n",
            "Requirement already satisfied: ipywidgets in /usr/local/lib/python3.7/dist-packages (from ipyfilechooser>=0.6.0->geemap) (7.7.0)\n",
            "Collecting traittypes<3,>=0.2.1\n",
            "  Downloading traittypes-0.2.1-py2.py3-none-any.whl (8.6 kB)\n",
            "Requirement already satisfied: traitlets>=4.3.1 in /usr/local/lib/python3.7/dist-packages (from ipywidgets->ipyfilechooser>=0.6.0->geemap) (5.1.1)\n",
            "Requirement already satisfied: jupyterlab-widgets>=1.0.0 in /usr/local/lib/python3.7/dist-packages (from ipywidgets->ipyfilechooser>=0.6.0->geemap) (1.1.0)\n",
            "Requirement already satisfied: widgetsnbextension~=3.6.0 in /usr/local/lib/python3.7/dist-packages (from ipywidgets->ipyfilechooser>=0.6.0->geemap) (3.6.0)\n",
            "Requirement already satisfied: ipython>=4.0.0 in /usr/local/lib/python3.7/dist-packages (from ipywidgets->ipyfilechooser>=0.6.0->geemap) (5.5.0)\n",
            "Requirement already satisfied: ipykernel>=4.5.1 in /usr/local/lib/python3.7/dist-packages (from ipywidgets->ipyfilechooser>=0.6.0->geemap) (4.10.1)\n",
            "Requirement already satisfied: ipython-genutils~=0.2.0 in /usr/local/lib/python3.7/dist-packages (from ipywidgets->ipyfilechooser>=0.6.0->geemap) (0.2.0)\n",
            "Requirement already satisfied: nbformat>=4.2.0 in /usr/local/lib/python3.7/dist-packages (from ipywidgets->ipyfilechooser>=0.6.0->geemap) (5.4.0)\n",
            "Requirement already satisfied: tornado>=4.0 in /usr/local/lib/python3.7/dist-packages (from ipykernel>=4.5.1->ipywidgets->ipyfilechooser>=0.6.0->geemap) (5.1.1)\n",
            "Requirement already satisfied: jupyter-client in /usr/local/lib/python3.7/dist-packages (from ipykernel>=4.5.1->ipywidgets->ipyfilechooser>=0.6.0->geemap) (5.3.5)\n",
            "Requirement already satisfied: pexpect in /usr/local/lib/python3.7/dist-packages (from ipython>=4.0.0->ipywidgets->ipyfilechooser>=0.6.0->geemap) (4.8.0)\n",
            "Requirement already satisfied: pickleshare in /usr/local/lib/python3.7/dist-packages (from ipython>=4.0.0->ipywidgets->ipyfilechooser>=0.6.0->geemap) (0.7.5)\n",
            "Requirement already satisfied: pygments in /usr/local/lib/python3.7/dist-packages (from ipython>=4.0.0->ipywidgets->ipyfilechooser>=0.6.0->geemap) (2.6.1)\n",
            "Requirement already satisfied: prompt-toolkit<2.0.0,>=1.0.4 in /usr/local/lib/python3.7/dist-packages (from ipython>=4.0.0->ipywidgets->ipyfilechooser>=0.6.0->geemap) (1.0.18)\n",
            "Requirement already satisfied: decorator in /usr/local/lib/python3.7/dist-packages (from ipython>=4.0.0->ipywidgets->ipyfilechooser>=0.6.0->geemap) (4.4.2)\n",
            "Requirement already satisfied: simplegeneric>0.8 in /usr/local/lib/python3.7/dist-packages (from ipython>=4.0.0->ipywidgets->ipyfilechooser>=0.6.0->geemap) (0.8.1)\n",
            "Requirement already satisfied: MarkupSafe>=0.23 in /usr/local/lib/python3.7/dist-packages (from jinja2>=2.9->folium>=0.11.0->geemap) (2.0.1)\n",
            "Collecting tornado>=4.0\n",
            "  Downloading tornado-6.1-cp37-cp37m-manylinux2010_x86_64.whl (428 kB)\n",
            "\u001b[K     |████████████████████████████████| 428 kB 48.9 MB/s \n",
            "\u001b[?25hRequirement already satisfied: jupyter-core in /usr/local/lib/python3.7/dist-packages (from jupyterlab>=3->geemap) (4.10.0)\n",
            "Collecting jupyterlab-server~=2.10\n",
            "  Downloading jupyterlab_server-2.14.0-py3-none-any.whl (54 kB)\n",
            "\u001b[K     |████████████████████████████████| 54 kB 2.6 MB/s \n",
            "\u001b[?25hCollecting jupyter-server~=1.16\n",
            "  Downloading jupyter_server-1.17.0-py3-none-any.whl (342 kB)\n",
            "\u001b[K     |████████████████████████████████| 342 kB 46.0 MB/s \n",
            "\u001b[?25hCollecting nbclassic~=0.2\n",
            "  Downloading nbclassic-0.3.7-py3-none-any.whl (13 kB)\n",
            "Collecting jupyter-client\n",
            "  Downloading jupyter_client-7.3.1-py3-none-any.whl (130 kB)\n",
            "\u001b[K     |████████████████████████████████| 130 kB 47.9 MB/s \n",
            "\u001b[?25hCollecting nbconvert>=6.4.4\n",
            "  Downloading nbconvert-6.5.0-py3-none-any.whl (561 kB)\n",
            "\u001b[K     |████████████████████████████████| 561 kB 16.9 MB/s \n",
            "\u001b[?25hRequirement already satisfied: terminado>=0.8.3 in /usr/local/lib/python3.7/dist-packages (from jupyter-server~=1.16->jupyterlab>=3->geemap) (0.13.3)\n",
            "Requirement already satisfied: Send2Trash in /usr/local/lib/python3.7/dist-packages (from jupyter-server~=1.16->jupyterlab>=3->geemap) (1.8.0)\n",
            "Requirement already satisfied: pyzmq>=17 in /usr/local/lib/python3.7/dist-packages (from jupyter-server~=1.16->jupyterlab>=3->geemap) (23.0.0)\n",
            "Collecting websocket-client\n",
            "  Downloading websocket_client-1.3.2-py3-none-any.whl (54 kB)\n",
            "\u001b[K     |████████████████████████████████| 54 kB 1.4 MB/s \n",
            "\u001b[?25hRequirement already satisfied: argon2-cffi in /usr/local/lib/python3.7/dist-packages (from jupyter-server~=1.16->jupyterlab>=3->geemap) (21.3.0)\n",
            "Requirement already satisfied: prometheus-client in /usr/local/lib/python3.7/dist-packages (from jupyter-server~=1.16->jupyterlab>=3->geemap) (0.14.1)\n",
            "Collecting anyio<4,>=3.1.0\n",
            "  Downloading anyio-3.6.1-py3-none-any.whl (80 kB)\n",
            "\u001b[K     |████████████████████████████████| 80 kB 7.8 MB/s \n",
            "\u001b[?25hRequirement already satisfied: typing-extensions in /usr/local/lib/python3.7/dist-packages (from anyio<4,>=3.1.0->jupyter-server~=1.16->jupyterlab>=3->geemap) (4.2.0)\n",
            "Collecting sniffio>=1.1\n",
            "  Downloading sniffio-1.2.0-py3-none-any.whl (10 kB)\n",
            "Requirement already satisfied: idna>=2.8 in /usr/local/lib/python3.7/dist-packages (from anyio<4,>=3.1.0->jupyter-server~=1.16->jupyterlab>=3->geemap) (2.10)\n",
            "Requirement already satisfied: entrypoints in /usr/local/lib/python3.7/dist-packages (from jupyter-client->ipykernel>=4.5.1->ipywidgets->ipyfilechooser>=0.6.0->geemap) (0.4)\n",
            "Requirement already satisfied: python-dateutil>=2.8.2 in /usr/local/lib/python3.7/dist-packages (from jupyter-client->ipykernel>=4.5.1->ipywidgets->ipyfilechooser>=0.6.0->geemap) (2.8.2)\n",
            "Requirement already satisfied: nest-asyncio>=1.5.4 in /usr/local/lib/python3.7/dist-packages (from jupyter-client->ipykernel>=4.5.1->ipywidgets->ipyfilechooser>=0.6.0->geemap) (1.5.5)\n",
            "Collecting json5\n",
            "  Downloading json5-0.9.8.tar.gz (22 kB)\n",
            "Requirement already satisfied: babel in /usr/local/lib/python3.7/dist-packages (from jupyterlab-server~=2.10->jupyterlab>=3->geemap) (2.10.1)\n",
            "Requirement already satisfied: importlib-metadata>=3.6 in /usr/local/lib/python3.7/dist-packages (from jupyterlab-server~=2.10->jupyterlab>=3->geemap) (4.11.3)\n",
            "Requirement already satisfied: jsonschema>=3.0.1 in /usr/local/lib/python3.7/dist-packages (from jupyterlab-server~=2.10->jupyterlab>=3->geemap) (4.3.3)\n",
            "Collecting jinja2>=2.9\n",
            "  Downloading Jinja2-3.1.2-py3-none-any.whl (133 kB)\n",
            "\u001b[K     |████████████████████████████████| 133 kB 47.3 MB/s \n",
            "\u001b[?25hRequirement already satisfied: zipp>=0.5 in /usr/local/lib/python3.7/dist-packages (from importlib-metadata>=3.6->jupyterlab-server~=2.10->jupyterlab>=3->geemap) (3.8.0)\n",
            "Requirement already satisfied: importlib-resources>=1.4.0 in /usr/local/lib/python3.7/dist-packages (from jsonschema>=3.0.1->jupyterlab-server~=2.10->jupyterlab>=3->geemap) (5.7.1)\n",
            "Requirement already satisfied: pyrsistent!=0.17.0,!=0.17.1,!=0.17.2,>=0.14.0 in /usr/local/lib/python3.7/dist-packages (from jsonschema>=3.0.1->jupyterlab-server~=2.10->jupyterlab>=3->geemap) (0.18.1)\n",
            "Requirement already satisfied: attrs>=17.4.0 in /usr/local/lib/python3.7/dist-packages (from jsonschema>=3.0.1->jupyterlab-server~=2.10->jupyterlab>=3->geemap) (21.4.0)\n",
            "Requirement already satisfied: scipy>=1.0 in /usr/local/lib/python3.7/dist-packages (from mapclassify>=2.4.0->geemap) (1.4.1)\n",
            "Requirement already satisfied: scikit-learn in /usr/local/lib/python3.7/dist-packages (from mapclassify>=2.4.0->geemap) (1.0.2)\n",
            "Requirement already satisfied: networkx in /usr/local/lib/python3.7/dist-packages (from mapclassify>=2.4.0->geemap) (2.6.3)\n",
            "Collecting notebook-shim>=0.1.0\n",
            "  Downloading notebook_shim-0.1.0-py3-none-any.whl (13 kB)\n",
            "Requirement already satisfied: notebook<7 in /usr/local/lib/python3.7/dist-packages (from nbclassic~=0.2->jupyterlab>=3->geemap) (5.3.1)\n",
            "Requirement already satisfied: pandocfilters>=1.4.1 in /usr/local/lib/python3.7/dist-packages (from nbconvert>=6.4.4->jupyter-server~=1.16->jupyterlab>=3->geemap) (1.5.0)\n",
            "Requirement already satisfied: nbclient>=0.5.0 in /usr/local/lib/python3.7/dist-packages (from nbconvert>=6.4.4->jupyter-server~=1.16->jupyterlab>=3->geemap) (0.6.3)\n",
            "Requirement already satisfied: bleach in /usr/local/lib/python3.7/dist-packages (from nbconvert>=6.4.4->jupyter-server~=1.16->jupyterlab>=3->geemap) (5.0.0)\n",
            "Requirement already satisfied: defusedxml in /usr/local/lib/python3.7/dist-packages (from nbconvert>=6.4.4->jupyter-server~=1.16->jupyterlab>=3->geemap) (0.7.1)\n",
            "Requirement already satisfied: jupyterlab-pygments in /usr/local/lib/python3.7/dist-packages (from nbconvert>=6.4.4->jupyter-server~=1.16->jupyterlab>=3->geemap) (0.2.2)\n",
            "Requirement already satisfied: tinycss2 in /usr/local/lib/python3.7/dist-packages (from nbconvert>=6.4.4->jupyter-server~=1.16->jupyterlab>=3->geemap) (1.1.1)\n",
            "Requirement already satisfied: mistune<2,>=0.8.1 in /usr/local/lib/python3.7/dist-packages (from nbconvert>=6.4.4->jupyter-server~=1.16->jupyterlab>=3->geemap) (0.8.4)\n",
            "Requirement already satisfied: fastjsonschema in /usr/local/lib/python3.7/dist-packages (from nbformat>=4.2.0->ipywidgets->ipyfilechooser>=0.6.0->geemap) (2.15.3)\n",
            "Requirement already satisfied: pyparsing!=3.0.5,>=2.0.2 in /usr/local/lib/python3.7/dist-packages (from packaging>=14.3->google-api-core<3dev,>=1.21.0->google-api-python-client<2,>=1.12.1->earthengine-api>=0.1.304->geemap) (3.0.9)\n",
            "Requirement already satisfied: wcwidth in /usr/local/lib/python3.7/dist-packages (from prompt-toolkit<2.0.0,>=1.0.4->ipython>=4.0.0->ipywidgets->ipyfilechooser>=0.6.0->geemap) (0.2.5)\n",
            "Requirement already satisfied: pyasn1<0.5.0,>=0.4.6 in /usr/local/lib/python3.7/dist-packages (from pyasn1-modules>=0.2.1->google-auth>=1.4.1->earthengine-api>=0.1.304->geemap) (0.4.8)\n",
            "Requirement already satisfied: chardet<4,>=3.0.2 in /usr/local/lib/python3.7/dist-packages (from requests->folium>=0.11.0->geemap) (3.0.4)\n",
            "Requirement already satisfied: certifi>=2017.4.17 in /usr/local/lib/python3.7/dist-packages (from requests->folium>=0.11.0->geemap) (2022.5.18.1)\n",
            "Requirement already satisfied: urllib3!=1.25.0,!=1.25.1,<1.26,>=1.21.1 in /usr/local/lib/python3.7/dist-packages (from requests->folium>=0.11.0->geemap) (1.24.3)\n",
            "Requirement already satisfied: ptyprocess in /usr/local/lib/python3.7/dist-packages (from terminado>=0.8.3->jupyter-server~=1.16->jupyterlab>=3->geemap) (0.7.0)\n",
            "Collecting whitebox\n",
            "  Downloading whitebox-2.1.2-py2.py3-none-any.whl (75 kB)\n",
            "\u001b[K     |████████████████████████████████| 75 kB 4.2 MB/s \n",
            "\u001b[?25hRequirement already satisfied: argon2-cffi-bindings in /usr/local/lib/python3.7/dist-packages (from argon2-cffi->jupyter-server~=1.16->jupyterlab>=3->geemap) (21.2.0)\n",
            "Requirement already satisfied: cffi>=1.0.1 in /usr/local/lib/python3.7/dist-packages (from argon2-cffi-bindings->argon2-cffi->jupyter-server~=1.16->jupyterlab>=3->geemap) (1.15.0)\n",
            "Requirement already satisfied: pycparser in /usr/local/lib/python3.7/dist-packages (from cffi>=1.0.1->argon2-cffi-bindings->argon2-cffi->jupyter-server~=1.16->jupyterlab>=3->geemap) (2.21)\n",
            "Requirement already satisfied: webencodings in /usr/local/lib/python3.7/dist-packages (from bleach->nbconvert>=6.4.4->jupyter-server~=1.16->jupyterlab>=3->geemap) (0.5.1)\n",
            "Requirement already satisfied: filelock in /usr/local/lib/python3.7/dist-packages (from gdown->geemap) (3.7.0)\n",
            "Requirement already satisfied: tqdm in /usr/local/lib/python3.7/dist-packages (from gdown->geemap) (4.64.0)\n",
            "Requirement already satisfied: click in /usr/local/lib/python3.7/dist-packages (from geocoder->geemap) (7.1.2)\n",
            "Collecting ratelim\n",
            "  Downloading ratelim-0.1.6-py2.py3-none-any.whl (4.0 kB)\n",
            "Requirement already satisfied: google-resumable-media<0.5.0dev,>=0.3.1 in /usr/local/lib/python3.7/dist-packages (from google-cloud-storage->earthengine-api>=0.1.304->geemap) (0.4.1)\n",
            "Requirement already satisfied: google-cloud-core<2.0dev,>=1.0.0 in /usr/local/lib/python3.7/dist-packages (from google-cloud-storage->earthengine-api>=0.1.304->geemap) (1.0.3)\n",
            "Requirement already satisfied: cycler>=0.10 in /usr/local/lib/python3.7/dist-packages (from matplotlib->geemap) (0.11.0)\n",
            "Requirement already satisfied: kiwisolver>=1.0.1 in /usr/local/lib/python3.7/dist-packages (from matplotlib->geemap) (1.4.2)\n",
            "Requirement already satisfied: PySocks!=1.5.7,>=1.5.6 in /usr/local/lib/python3.7/dist-packages (from requests->folium>=0.11.0->geemap) (1.7.1)\n",
            "Requirement already satisfied: plotly>=5.2.2 in /usr/local/lib/python3.7/dist-packages (from sankee->geemap) (5.5.0)\n",
            "Requirement already satisfied: tenacity>=6.2.0 in /usr/local/lib/python3.7/dist-packages (from plotly>=5.2.2->sankee->geemap) (8.0.1)\n",
            "Requirement already satisfied: threadpoolctl>=2.0.0 in /usr/local/lib/python3.7/dist-packages (from scikit-learn->mapclassify>=2.4.0->geemap) (3.1.0)\n",
            "Requirement already satisfied: joblib>=0.11 in /usr/local/lib/python3.7/dist-packages (from scikit-learn->mapclassify>=2.4.0->geemap) (1.1.0)\n",
            "Building wheels for collected packages: ee-extra, json5, pycrs, sankee\n",
            "  Building wheel for ee-extra (setup.py) ... \u001b[?25l\u001b[?25hdone\n",
            "  Created wheel for ee-extra: filename=ee_extra-0.0.13-py3-none-any.whl size=198407 sha256=5c814579f44ff30f5bb83299f2a4189c3f1471af9ca8d7eafc64f625cb4da7a6\n",
            "  Stored in directory: /root/.cache/pip/wheels/54/f2/bc/51930fbbffdd2ef1b5aac2e332c068e4913e56634f90efdef8\n",
            "  Building wheel for json5 (setup.py) ... \u001b[?25l\u001b[?25hdone\n",
            "  Created wheel for json5: filename=json5-0.9.8-py2.py3-none-any.whl size=18604 sha256=4f6f2d5a8fc96f9438519d3dea7906fccdf28dd42625ca7401ac2b37462fa2d2\n",
            "  Stored in directory: /root/.cache/pip/wheels/ac/9b/de/6e4fd8f159d3dfa42c42ceddf2184fda29ea7fb1e8f5f8371c\n",
            "  Building wheel for pycrs (setup.py) ... \u001b[?25l\u001b[?25hdone\n",
            "  Created wheel for pycrs: filename=PyCRS-1.0.2-py3-none-any.whl size=32704 sha256=c46e549df39e20c6aa80268eabe553104138da921320bba9e8db1a65e4315a70\n",
            "  Stored in directory: /root/.cache/pip/wheels/3e/ce/32/1ec0aba6b9770681a423e82f0274c57d09ad2c20c2864901f9\n",
            "  Building wheel for sankee (setup.py) ... \u001b[?25l\u001b[?25hdone\n",
            "  Created wheel for sankee: filename=sankee-0.0.7-py3-none-any.whl size=27639 sha256=02ed085e34eceffbc8373ec686dca758744fd6885529601541b00e345d9abb29\n",
            "  Stored in directory: /root/.cache/pip/wheels/13/28/83/5726f82a8cb0baf76169d99ee0595c420afedb9020e22bbd4b\n",
            "Successfully built ee-extra json5 pycrs sankee\n",
            "Installing collected packages: tornado, jupyter-client, jinja2, beautifulsoup4, sniffio, nbconvert, websocket-client, anyio, jupyter-server, notebook-shim, json5, xyzservices, whitebox, traittypes, ratelim, nbclassic, logzero, jupyterlab-server, ipytree, ipyfilechooser, whiteboxgui, sankee, python-box, pyshp, pycrs, mapclassify, jupyterlab, ipyleaflet, ipyevents, geojson, geocoder, geeadd, folium, ffmpeg-python, ee-extra, colour, bqplot, geemap\n",
            "  Attempting uninstall: tornado\n",
            "    Found existing installation: tornado 5.1.1\n",
            "    Uninstalling tornado-5.1.1:\n",
            "      Successfully uninstalled tornado-5.1.1\n",
            "  Attempting uninstall: jupyter-client\n",
            "    Found existing installation: jupyter-client 5.3.5\n",
            "    Uninstalling jupyter-client-5.3.5:\n",
            "      Successfully uninstalled jupyter-client-5.3.5\n",
            "  Attempting uninstall: jinja2\n",
            "    Found existing installation: Jinja2 2.11.3\n",
            "    Uninstalling Jinja2-2.11.3:\n",
            "      Successfully uninstalled Jinja2-2.11.3\n",
            "  Attempting uninstall: beautifulsoup4\n",
            "    Found existing installation: beautifulsoup4 4.6.3\n",
            "    Uninstalling beautifulsoup4-4.6.3:\n",
            "      Successfully uninstalled beautifulsoup4-4.6.3\n",
            "  Attempting uninstall: nbconvert\n",
            "    Found existing installation: nbconvert 5.6.1\n",
            "    Uninstalling nbconvert-5.6.1:\n",
            "      Successfully uninstalled nbconvert-5.6.1\n",
            "  Attempting uninstall: folium\n",
            "    Found existing installation: folium 0.8.3\n",
            "    Uninstalling folium-0.8.3:\n",
            "      Successfully uninstalled folium-0.8.3\n",
            "\u001b[31mERROR: pip's dependency resolver does not currently take into account all the packages that are installed. This behaviour is the source of the following dependency conflicts.\n",
            "google-colab 1.0.0 requires tornado~=5.1.0; python_version >= \"3.0\", but you have tornado 6.1 which is incompatible.\n",
            "flask 1.1.4 requires Jinja2<3.0,>=2.10.1, but you have jinja2 3.1.2 which is incompatible.\n",
            "datascience 0.10.6 requires folium==0.2.1, but you have folium 0.12.1.post1 which is incompatible.\u001b[0m\n",
            "Successfully installed anyio-3.6.1 beautifulsoup4-4.11.1 bqplot-0.12.33 colour-0.1.5 ee-extra-0.0.13 ffmpeg-python-0.2.0 folium-0.12.1.post1 geeadd-0.5.5 geemap-0.13.7 geocoder-1.38.1 geojson-2.5.0 ipyevents-2.0.1 ipyfilechooser-0.6.0 ipyleaflet-0.16.0 ipytree-0.2.1 jinja2-3.1.2 json5-0.9.8 jupyter-client-7.3.1 jupyter-server-1.17.0 jupyterlab-3.4.2 jupyterlab-server-2.14.0 logzero-1.7.0 mapclassify-2.4.3 nbclassic-0.3.7 nbconvert-6.5.0 notebook-shim-0.1.0 pycrs-1.0.2 pyshp-2.3.0 python-box-6.0.2 ratelim-0.1.6 sankee-0.0.7 sniffio-1.2.0 tornado-6.1 traittypes-0.2.1 websocket-client-1.3.2 whitebox-2.1.2 whiteboxgui-0.7.0 xyzservices-2022.4.0\n"
          ]
        },
        {
          "output_type": "display_data",
          "data": {
            "application/vnd.colab-display-data+json": {
              "pip_warning": {
                "packages": [
                  "jupyter_client",
                  "tornado"
                ]
              }
            }
          },
          "metadata": {}
        }
      ],
      "source": [
        "!pip install geemap"
      ]
    },
    {
      "cell_type": "code",
      "execution_count": 2,
      "metadata": {
        "id": "kBk9QGluGel3"
      },
      "outputs": [],
      "source": [
        "import ee\n",
        "import geemap\n",
        "\n",
        "# ee.Authenticate()\n",
        "# ee.Initialize()"
      ]
    },
    {
      "cell_type": "markdown",
      "metadata": {
        "id": "BAtOT4CyGel4"
      },
      "source": [
        "### Create an interactive map"
      ]
    },
    {
      "cell_type": "code",
      "execution_count": 3,
      "metadata": {
        "id": "swRYLvQVGel4",
        "colab": {
          "base_uri": "https://localhost:8080/",
          "height": 777,
          "referenced_widgets": [
            "7b17db33dc9c4087ae1f7a7cb4aabdf4",
            "25563686d3d64f69a74b1ccd468659be",
            "f182a0489ccb4883b44465b80d036e03",
            "c9185808d6f3434d8dcf5010c54630d5",
            "3162ba8aecbd4c6c827ef23ce31d5223",
            "c4b75cf3fb2044b89ff61b56c3f1991c",
            "447d8bdffe9949dd9df7dd36f36fcde8",
            "66da1fc4b0e64acba3100623083c8d3d",
            "0b3456541baa48c2aa050ab914e1d148",
            "cd22033361504ed8925fda5aaa017e49",
            "b141bfc6ffe54f00a5dfb21f3d55bacc",
            "60a14cda4fe349e2995ce2efc2d4c786",
            "fbb5c20007dc48e19b1b71f11fa29285",
            "c7e168c74f2a4b52ac65c5c79ab2cc15",
            "033522b1f8a9412f99d3934b2284437c",
            "9a4bd160b53a4c1f8328afe8d704e75c",
            "4508b95d80a242f1bdb63e1f2c779e2f",
            "62e88618efaa43adbaea1d95433dd04b",
            "a63c6f403f904b28904887a727cacf99",
            "3f27281a08cd4158b7760a6210d6b5bd",
            "0fa084e46bdb4e9bb70cf14e5f86be85",
            "5c48212096c3440a96a5b4ed54b67f49",
            "450fc7e83e5e4e59acf579eb6872f259",
            "c028c3eb826e4ca4a002edfa3914b84a",
            "92e065a96b4e47e08cbf68a1687f2610",
            "45135b430e8c4a5ab99630012efd68ae",
            "46a4d67714b14b50a6f93712125d3429",
            "805584a42f024da49f37cf2d4789344b",
            "35842c795ea64f78aa41c347152472ca",
            "1e0ee49873ff450ba74b66dbece9dcb6",
            "44ea2a08b5b544e680ced7cb1834bbad"
          ]
        },
        "outputId": "bff983ec-420f-4d79-e28f-c83357620f66"
      },
      "outputs": [
        {
          "output_type": "stream",
          "name": "stdout",
          "text": [
            "To authorize access needed by Earth Engine, open the following URL in a web browser and follow the instructions. If the web browser does not start automatically, please manually browse the URL below.\n",
            "\n",
            "    https://code.earthengine.google.com/client-auth?scopes=https%3A//www.googleapis.com/auth/earthengine%20https%3A//www.googleapis.com/auth/devstorage.full_control&request_id=Z2flZGdjJzTi9Frn2_Nat0F2sLNwZrCUnhxzFuijkto&tc=0jYP2BZKuT7uIyT5Hovp6ucz0TF48X03AUzHy2OEBRw&cc=4wnPbSHqOscQNtlj_Pl9vWamR3SYeMU161yo9t05N5E\n",
            "\n",
            "The authorization workflow will generate a code, which you should paste in the box below. \n",
            "Enter verification code: 4/1AX4XfWgDC6LcZaEnsnsQLnpji6LgGJqeLFoorW7vY47kK6hmIQf_MO7jIjM\n",
            "\n",
            "Successfully saved authorization token.\n"
          ]
        },
        {
          "output_type": "display_data",
          "data": {
            "text/plain": [
              "Map(center=[20, 0], controls=(WidgetControl(options=['position', 'transparent_bg'], widget=HBox(children=(Togg…"
            ],
            "application/vnd.jupyter.widget-view+json": {
              "version_major": 2,
              "version_minor": 0,
              "model_id": "7b17db33dc9c4087ae1f7a7cb4aabdf4"
            }
          },
          "metadata": {
            "application/vnd.jupyter.widget-view+json": {
              "colab": {
                "custom_widget_manager": {
                  "url": "https://ssl.gstatic.com/colaboratory-static/widgets/colab-cdn-widget-manager/a8874ba6619b6106/manager.min.js"
                }
              }
            }
          }
        }
      ],
      "source": [
        "Map = geemap.Map()\n",
        "Map"
      ]
    },
    {
      "cell_type": "markdown",
      "metadata": {
        "id": "7ga3HcZOGel5"
      },
      "source": [
        "### Add data to the map"
      ]
    },
    {
      "cell_type": "code",
      "execution_count": 4,
      "metadata": {
        "id": "fyHwX3FyGel5"
      },
      "outputs": [],
      "source": [
        "point = ee.Geometry.Point([-80.55, 43])\n",
        "# point = ee.Geometry.Point([-87.7719, 41.8799])\n",
        "\n",
        "image = (\n",
        "    ee.ImageCollection('LANDSAT/LC08/C01/T1_SR')\n",
        "    .filterBounds(point)\n",
        "    .filterDate('2020-01-01', '2020-12-31')\n",
        "    .sort('CLOUD_COVER')\n",
        "    .first()\n",
        "    .select('B[1-7]')\n",
        ")\n",
        "\n",
        "vis_params = {'min': 0, 'max': 3000, 'bands': ['B5', 'B4', 'B3']}\n",
        "\n",
        "Map.centerObject(point, 8)\n",
        "Map.addLayer(image, vis_params, \"Landsat-8\")"
      ]
    },
    {
      "cell_type": "markdown",
      "metadata": {
        "id": "NacVlKWkGel6"
      },
      "source": [
        "### Check image properties"
      ]
    },
    {
      "cell_type": "code",
      "execution_count": 5,
      "metadata": {
        "id": "ZhYRRlJ3Gel6",
        "colab": {
          "base_uri": "https://localhost:8080/",
          "height": 37
        },
        "outputId": "1f49b03f-efce-4c79-cedb-4f64880e025b"
      },
      "outputs": [
        {
          "output_type": "execute_result",
          "data": {
            "text/plain": [
              "'2020-06-16'"
            ],
            "application/vnd.google.colaboratory.intrinsic+json": {
              "type": "string"
            }
          },
          "metadata": {},
          "execution_count": 5
        }
      ],
      "source": [
        "ee.Date(image.get('system:time_start')).format('YYYY-MM-dd').getInfo()"
      ]
    },
    {
      "cell_type": "code",
      "execution_count": 6,
      "metadata": {
        "id": "Rov9FqzgGel7",
        "colab": {
          "base_uri": "https://localhost:8080/"
        },
        "outputId": "5b043e7a-28e5-4cd0-ebbd-960cfa171b06"
      },
      "outputs": [
        {
          "output_type": "execute_result",
          "data": {
            "text/plain": [
              "0.47"
            ]
          },
          "metadata": {},
          "execution_count": 6
        }
      ],
      "source": [
        "image.get('CLOUD_COVER').getInfo()"
      ]
    },
    {
      "cell_type": "markdown",
      "metadata": {
        "id": "2b26PF2bGel7"
      },
      "source": [
        "### import AAFC label dataset\n",
        "\n"
      ]
    },
    {
      "cell_type": "code",
      "execution_count": 7,
      "metadata": {
        "id": "G4MiJBOzGel7"
      },
      "outputs": [],
      "source": [
        "# region = Map.user_roi\n",
        "# region = ee.Geometry.Rectangle([-122.6003, 37.4831, -121.8036, 37.8288])\n",
        "# region = ee.Geometry.Point([-122.4439, 37.7538]).buffer(10000)"
      ]
    },
    {
      "cell_type": "markdown",
      "metadata": {
        "id": "V2fzs72FGel8"
      },
      "source": [
        "use the [Canada AAFC Annual Crop Inventory](https://developers.google.com/earth-engine/datasets/catalog/AAFC_ACI#bands) to create label dataset for training\n",
        "\n",
        "\n",
        "![](https://www.researchgate.net/profile/Meisam-Amani/publication/345082789/figure/fig1/AS:952723008651265@1604158274050/Annual-Space-based-Crop-Inventory-ACI-produced-by-Agriculture-and-Agri-Food-Canada.png)\n"
      ]
    },
    {
      "cell_type": "code",
      "execution_count": 8,
      "metadata": {
        "id": "VLay3V6CGel8",
        "colab": {
          "base_uri": "https://localhost:8080/",
          "height": 621,
          "referenced_widgets": [
            "7b17db33dc9c4087ae1f7a7cb4aabdf4",
            "25563686d3d64f69a74b1ccd468659be",
            "f182a0489ccb4883b44465b80d036e03",
            "c9185808d6f3434d8dcf5010c54630d5",
            "3162ba8aecbd4c6c827ef23ce31d5223",
            "c4b75cf3fb2044b89ff61b56c3f1991c",
            "447d8bdffe9949dd9df7dd36f36fcde8",
            "66da1fc4b0e64acba3100623083c8d3d",
            "0b3456541baa48c2aa050ab914e1d148",
            "cd22033361504ed8925fda5aaa017e49",
            "b141bfc6ffe54f00a5dfb21f3d55bacc",
            "60a14cda4fe349e2995ce2efc2d4c786",
            "fbb5c20007dc48e19b1b71f11fa29285",
            "45135b430e8c4a5ab99630012efd68ae",
            "46a4d67714b14b50a6f93712125d3429",
            "c7e168c74f2a4b52ac65c5c79ab2cc15",
            "033522b1f8a9412f99d3934b2284437c",
            "9a4bd160b53a4c1f8328afe8d704e75c",
            "4508b95d80a242f1bdb63e1f2c779e2f",
            "62e88618efaa43adbaea1d95433dd04b",
            "a63c6f403f904b28904887a727cacf99",
            "3f27281a08cd4158b7760a6210d6b5bd",
            "0fa084e46bdb4e9bb70cf14e5f86be85",
            "5c48212096c3440a96a5b4ed54b67f49",
            "450fc7e83e5e4e59acf579eb6872f259",
            "c028c3eb826e4ca4a002edfa3914b84a",
            "92e065a96b4e47e08cbf68a1687f2610",
            "805584a42f024da49f37cf2d4789344b",
            "35842c795ea64f78aa41c347152472ca",
            "1e0ee49873ff450ba74b66dbece9dcb6",
            "44ea2a08b5b544e680ced7cb1834bbad"
          ]
        },
        "outputId": "8e9b04cc-d153-4058-cbf1-9497d24b264a"
      },
      "outputs": [
        {
          "output_type": "display_data",
          "data": {
            "text/plain": [
              "Map(center=[43, -80.55], controls=(WidgetControl(options=['position', 'transparent_bg'], widget=HBox(children=…"
            ],
            "application/vnd.jupyter.widget-view+json": {
              "version_major": 2,
              "version_minor": 0,
              "model_id": "7b17db33dc9c4087ae1f7a7cb4aabdf4"
            }
          },
          "metadata": {
            "application/vnd.jupyter.widget-view+json": {
              "colab": {
                "custom_widget_manager": {
                  "url": "https://ssl.gstatic.com/colaboratory-static/widgets/colab-cdn-widget-manager/a8874ba6619b6106/manager.min.js"
                }
              }
            }
          }
        }
      ],
      "source": [
        "# nlcd = ee.Image('USGS/NLCD/NLCD2016').select('landcover').clip(image.geometry())\n",
        "\n",
        "affc = ee.ImageCollection('AAFC/ACI').filter(ee.Filter.date('2020-01-01', '2020-12-31')).first().clip(image.geometry())\n",
        "\n",
        "Map.addLayer(affc, {}, 'AAFC')\n",
        "Map"
      ]
    },
    {
      "cell_type": "markdown",
      "source": [
        "## Prepare for consecutive class labels"
      ],
      "metadata": {
        "id": "u1bFgzQV6WTR"
      }
    },
    {
      "cell_type": "code",
      "execution_count": 9,
      "metadata": {
        "id": "tuP81EFoGemA",
        "colab": {
          "base_uri": "https://localhost:8080/"
        },
        "outputId": "23d55faf-f0cc-4be7-e456-4dd43d2b053c"
      },
      "outputs": [
        {
          "output_type": "execute_result",
          "data": {
            "text/plain": [
              "[10,\n",
              " 20,\n",
              " 30,\n",
              " 34,\n",
              " 35,\n",
              " 50,\n",
              " 80,\n",
              " 85,\n",
              " 110,\n",
              " 120,\n",
              " 122,\n",
              " 130,\n",
              " 131,\n",
              " 132,\n",
              " 133,\n",
              " 134,\n",
              " 135,\n",
              " 136,\n",
              " 137,\n",
              " 138,\n",
              " 139,\n",
              " 140,\n",
              " 141,\n",
              " 142,\n",
              " 143,\n",
              " 145,\n",
              " 146,\n",
              " 147,\n",
              " 148,\n",
              " 149,\n",
              " 150,\n",
              " 151,\n",
              " 152,\n",
              " 153,\n",
              " 154,\n",
              " 155,\n",
              " 156,\n",
              " 157,\n",
              " 158,\n",
              " 160,\n",
              " 161,\n",
              " 162,\n",
              " 163,\n",
              " 167,\n",
              " 168,\n",
              " 174,\n",
              " 175,\n",
              " 176,\n",
              " 177,\n",
              " 178,\n",
              " 179,\n",
              " 180,\n",
              " 181,\n",
              " 182,\n",
              " 183,\n",
              " 185,\n",
              " 188,\n",
              " 189,\n",
              " 190,\n",
              " 191,\n",
              " 192,\n",
              " 193,\n",
              " 194,\n",
              " 195,\n",
              " 196,\n",
              " 197,\n",
              " 198,\n",
              " 199,\n",
              " 200,\n",
              " 210,\n",
              " 220,\n",
              " 230]"
            ]
          },
          "metadata": {},
          "execution_count": 9
        }
      ],
      "source": [
        "raw_class_values = affc.get('landcover_class_values').getInfo()\n",
        "\n",
        "class_palette = affc.get('landcover_class_palette').getInfo()\n",
        "\n",
        "\n",
        "\n",
        "raw_class_values"
      ]
    },
    {
      "cell_type": "code",
      "source": [
        ""
      ],
      "metadata": {
        "id": "id7qwMrkxzXu"
      },
      "execution_count": 9,
      "outputs": []
    },
    {
      "cell_type": "code",
      "source": [
        "initial_train_accuracy = [[0],\n",
        " [0.8996450467892869],\n",
        " [0.00819672131147541],\n",
        " [0.17928902627511592],\n",
        " [0],\n",
        " [0.1495766698024459],\n",
        " [0.1269968051118211],\n",
        " [0],\n",
        " [0],\n",
        " [0],\n",
        " [0.6437947494033412],\n",
        " [0],\n",
        " [0],\n",
        " [0],\n",
        " [0],\n",
        " [0],\n",
        " [0],\n",
        " [0],\n",
        " [0],\n",
        " [0],\n",
        " [0],\n",
        " [0],\n",
        " [0],\n",
        " [0],\n",
        " [0],\n",
        " [0.055793991416309016],\n",
        " [0],\n",
        " [0.13953488372093023],\n",
        " [0],\n",
        " [0],\n",
        " [0],\n",
        " [0],\n",
        " [0],\n",
        " [0],\n",
        " [0],\n",
        " [0],\n",
        " [0],\n",
        " [0],\n",
        " [0.13537117903930132],\n",
        " [0],\n",
        " [0],\n",
        " [0],\n",
        " [0],\n",
        " [0],\n",
        " [0],\n",
        " [0],\n",
        " [0],\n",
        " [0],\n",
        " [0],\n",
        " [0],\n",
        " [0],\n",
        " [0],\n",
        " [0],\n",
        " [0],\n",
        " [0],\n",
        " [0],\n",
        " [0],\n",
        " [0],\n",
        " [0],\n",
        " [0],\n",
        " [0],\n",
        " [0],\n",
        " [0],\n",
        " [0],\n",
        " [0],\n",
        " [0],\n",
        " [0],\n",
        " [0],\n",
        " [0],\n",
        " [0.2768595041322314],\n",
        " [0.6237767306995288],\n",
        " [0.7143840330350998]]"
      ],
      "metadata": {
        "id": "EC35EeCPyX7s"
      },
      "execution_count": 10,
      "outputs": []
    },
    {
      "cell_type": "code",
      "source": [
        "reduced_class_values = raw_class_values\n",
        "reduced_class_palette = class_palette\n",
        "\n",
        "for i in range(len(class_palette)):\n",
        "  if initial_train_accuracy[i][0] == 0:\n",
        "    reduced_class_values[i] = 0\n",
        "    reduced_class_palette[i] = 0\n",
        "\n",
        "reduced_class_values = [i for i in reduced_class_values if i != 0]\n",
        "reduced_class_palette = [i for i in reduced_class_palette if i != 0]"
      ],
      "metadata": {
        "id": "bZIoFYXayhvE"
      },
      "execution_count": 11,
      "outputs": []
    },
    {
      "cell_type": "code",
      "source": [
        "reduced_class_values"
      ],
      "metadata": {
        "colab": {
          "base_uri": "https://localhost:8080/"
        },
        "id": "VeJWF6zSx5Kk",
        "outputId": "448cbaa8-149a-4af9-8b62-1e5dd6578bed"
      },
      "execution_count": 12,
      "outputs": [
        {
          "output_type": "execute_result",
          "data": {
            "text/plain": [
              "[20, 30, 34, 50, 80, 122, 145, 147, 158, 210, 220, 230]"
            ]
          },
          "metadata": {},
          "execution_count": 12
        }
      ]
    },
    {
      "cell_type": "code",
      "source": [
        "n_classes = len(reduced_class_values)\n",
        "new_class_values = list(range(0, n_classes))"
      ],
      "metadata": {
        "id": "-Fa78USFyWQK"
      },
      "execution_count": 13,
      "outputs": []
    },
    {
      "cell_type": "code",
      "source": [
        "affc = affc.remap(reduced_class_values, new_class_values).select(\n",
        "    ['remapped'], ['landcover']\n",
        ")\n",
        "affc = affc.set('landcover_class_values', new_class_values)\n",
        "affc = affc.set('landcover_class_palette', reduced_class_palette)"
      ],
      "metadata": {
        "id": "5VX5QM6e2Pv_"
      },
      "execution_count": 14,
      "outputs": []
    },
    {
      "cell_type": "markdown",
      "source": [
        "## Make  dataset"
      ],
      "metadata": {
        "id": "8wbOdcuT6C0X"
      }
    },
    {
      "cell_type": "code",
      "execution_count": 15,
      "metadata": {
        "id": "9n2okujiGel9"
      },
      "outputs": [],
      "source": [
        "# Make the training dataset.\n",
        "points = affc.sample(\n",
        "    **{\n",
        "        'region': image.geometry(),\n",
        "        'scale': 30,\n",
        "        'numPixels': 15000,\n",
        "        'seed': 0,\n",
        "        'geometries': True,  # Set this to False to ignore geometries\n",
        "    }\n",
        ")\n"
      ]
    },
    {
      "cell_type": "markdown",
      "source": [
        "## Split training and validation"
      ],
      "metadata": {
        "id": "dSjTtZbv6g3q"
      }
    },
    {
      "cell_type": "code",
      "source": [
        "points = points.randomColumn();\n",
        "\n",
        "training_points = points.filter('random <= 0.7');\n",
        "validation_points = points.filter('random > 0.7');\n",
        "\n",
        "Map.addLayer(training_points, {}, 'training', False)\n",
        "Map.addLayer(validation_points, {}, 'validation', False)"
      ],
      "metadata": {
        "id": "d_8vt45d6gZ8"
      },
      "execution_count": 16,
      "outputs": []
    },
    {
      "cell_type": "code",
      "execution_count": 17,
      "metadata": {
        "id": "OTai-aTHGel9",
        "colab": {
          "base_uri": "https://localhost:8080/"
        },
        "outputId": "321479d1-ff69-4506-c954-8518241e66a1"
      },
      "outputs": [
        {
          "output_type": "stream",
          "name": "stdout",
          "text": [
            "8994\n"
          ]
        }
      ],
      "source": [
        "print(training_points.size().getInfo())"
      ]
    },
    {
      "cell_type": "code",
      "execution_count": 18,
      "metadata": {
        "id": "yA6YTWXMGel-",
        "colab": {
          "base_uri": "https://localhost:8080/"
        },
        "outputId": "775dbc77-c07a-4ef4-b99d-730cd90e218f"
      },
      "outputs": [
        {
          "output_type": "stream",
          "name": "stdout",
          "text": [
            "{'type': 'Feature', 'geometry': {'type': 'Point', 'coordinates': [-79.93783236408851, 42.70212558121815]}, 'id': '0', 'properties': {'landcover': 0, 'random': 0.36042193558372604}}\n"
          ]
        }
      ],
      "source": [
        "print(training_points.first().getInfo())"
      ]
    },
    {
      "cell_type": "markdown",
      "metadata": {
        "id": "eZarEZaBGel-"
      },
      "source": [
        "### Train the classifier"
      ]
    },
    {
      "cell_type": "code",
      "execution_count": 19,
      "metadata": {
        "id": "xuHgVWKxGel-"
      },
      "outputs": [],
      "source": [
        "# Use these bands for prediction.\n",
        "bands = ['B1', 'B2', 'B3', 'B4', 'B5', 'B6', 'B7']\n",
        "\n",
        "\n",
        "# This property of the table stores the land cover labels.\n",
        "label = 'landcover'\n",
        "\n",
        "# Overlay the points on the imagery to get training.\n",
        "training = image.select(bands).sampleRegions(\n",
        "    **{'collection': training_points, 'properties': [label], 'scale': 30}\n",
        ")\n",
        "\n",
        "validation = image.select(bands).sampleRegions(\n",
        "    **{'collection': validation_points, 'properties': [label], 'scale': 30}\n",
        ")\n",
        "\n",
        "# Train a CART classifier with default parameters.\n",
        "trainedClassifier = ee.Classifier.smileRandomForest(27).train(training, label, bands)"
      ]
    },
    {
      "cell_type": "code",
      "execution_count": 20,
      "metadata": {
        "id": "arWm0DpuGel_",
        "colab": {
          "base_uri": "https://localhost:8080/"
        },
        "outputId": "3ddb0241-0ed6-4b1d-dc6a-b3d68b3d3022"
      },
      "outputs": [
        {
          "output_type": "stream",
          "name": "stdout",
          "text": [
            "{'type': 'Feature', 'geometry': None, 'id': '0_0', 'properties': {'B1': 319, 'B2': 324, 'B3': 273, 'B4': 149, 'B5': 116, 'B6': 93, 'B7': 76, 'landcover': 0}}\n"
          ]
        }
      ],
      "source": [
        "print(training.first().getInfo())"
      ]
    },
    {
      "cell_type": "markdown",
      "source": [
        "# Accuracy assessment\n",
        "## Training dataset"
      ],
      "metadata": {
        "id": "HL7lkm5v-pmx"
      }
    },
    {
      "cell_type": "code",
      "source": [
        "# Get a confusion matrix and overall accuracy for the training sample.\n",
        "train_accuracy = trainedClassifier.confusionMatrix();\n",
        "# trainAccuracy.getInfo()"
      ],
      "metadata": {
        "id": "fIlk8AT9on8v"
      },
      "execution_count": 21,
      "outputs": []
    },
    {
      "cell_type": "markdown",
      "source": [
        "###Training - Overall Accuracy"
      ],
      "metadata": {
        "id": "GOSf7iA8_NcR"
      }
    },
    {
      "cell_type": "code",
      "source": [
        "train_accuracy.accuracy().getInfo()"
      ],
      "metadata": {
        "colab": {
          "base_uri": "https://localhost:8080/"
        },
        "id": "KC0tTYkf4Hky",
        "outputId": "b7eecd8e-6719-4e8f-9eb2-94c611302200"
      },
      "execution_count": 22,
      "outputs": [
        {
          "output_type": "execute_result",
          "data": {
            "text/plain": [
              "0.9840898976412995"
            ]
          },
          "metadata": {},
          "execution_count": 22
        }
      ]
    },
    {
      "cell_type": "markdown",
      "source": [
        "###Training -  Kappa"
      ],
      "metadata": {
        "id": "5E6EcxC_KMS4"
      }
    },
    {
      "cell_type": "code",
      "source": [
        "train_accuracy.kappa().getInfo()"
      ],
      "metadata": {
        "id": "aGq02iChKJ1e",
        "colab": {
          "base_uri": "https://localhost:8080/"
        },
        "outputId": "046771d6-ecba-4f6a-aeac-cf5ac524ea64"
      },
      "execution_count": 23,
      "outputs": [
        {
          "output_type": "execute_result",
          "data": {
            "text/plain": [
              "0.9810472905405722"
            ]
          },
          "metadata": {},
          "execution_count": 23
        }
      ]
    },
    {
      "cell_type": "markdown",
      "source": [
        "###Training - Producer's Accuracy"
      ],
      "metadata": {
        "id": "uHhxxDjD_VXu"
      }
    },
    {
      "cell_type": "code",
      "source": [
        "train_accuracy.producersAccuracy().getInfo()"
      ],
      "metadata": {
        "colab": {
          "base_uri": "https://localhost:8080/"
        },
        "id": "qsqMComk-7R4",
        "outputId": "27b7599c-f744-411e-cdf4-8f1ba07e5795"
      },
      "execution_count": 24,
      "outputs": [
        {
          "output_type": "execute_result",
          "data": {
            "text/plain": [
              "[[1],\n",
              " [0.8876404494382022],\n",
              " [0.9914367269267365],\n",
              " [0.9819819819819819],\n",
              " [0.9404761904761905],\n",
              " [0.9828326180257511],\n",
              " [0.9655797101449275],\n",
              " [0.9836734693877551],\n",
              " [0.9729448491155047],\n",
              " [0.95],\n",
              " [0.9900426742532006],\n",
              " [0.927461139896373]]"
            ]
          },
          "metadata": {},
          "execution_count": 24
        }
      ]
    },
    {
      "cell_type": "markdown",
      "source": [
        "###Training - Comsumer's Accuracy"
      ],
      "metadata": {
        "id": "vLWaJ236KBc2"
      }
    },
    {
      "cell_type": "code",
      "source": [
        "train_accuracy.consumersAccuracy().getInfo()\n"
      ],
      "metadata": {
        "colab": {
          "base_uri": "https://localhost:8080/"
        },
        "id": "0mave6HRB2zR",
        "outputId": "4e1ee4ca-a8d4-4206-f93c-95acd4119298"
      },
      "execution_count": 25,
      "outputs": [
        {
          "output_type": "execute_result",
          "data": {
            "text/plain": [
              "[[0.9966355140186915,\n",
              "  1,\n",
              "  0.9774859287054409,\n",
              "  0.990909090909091,\n",
              "  0.9916317991631799,\n",
              "  0.9662447257383966,\n",
              "  0.9944029850746269,\n",
              "  0.9796747967479674,\n",
              "  0.9831756046267087,\n",
              "  1,\n",
              "  0.9680111265646731,\n",
              "  1]]"
            ]
          },
          "metadata": {},
          "execution_count": 25
        }
      ]
    },
    {
      "cell_type": "markdown",
      "source": [
        "# Validation dataset"
      ],
      "metadata": {
        "id": "EAMoEjJyCXNO"
      }
    },
    {
      "cell_type": "code",
      "source": [
        "validated = validation.classify(trainedClassifier)"
      ],
      "metadata": {
        "id": "EZZnn3QsCXCD"
      },
      "execution_count": 26,
      "outputs": []
    },
    {
      "cell_type": "code",
      "source": [
        "test_accuracy = validated.errorMatrix('landcover', 'classification')"
      ],
      "metadata": {
        "id": "2Aea-m4FCWpD"
      },
      "execution_count": 27,
      "outputs": []
    },
    {
      "cell_type": "code",
      "source": [
        "# test_accuracy.getInfo()"
      ],
      "metadata": {
        "id": "-rwAqoX3DhVF"
      },
      "execution_count": 28,
      "outputs": []
    },
    {
      "cell_type": "markdown",
      "source": [
        "## Validation - Overall Accuracy\n"
      ],
      "metadata": {
        "id": "7nto6_TSNI01"
      }
    },
    {
      "cell_type": "code",
      "source": [
        "test_accuracy.accuracy().getInfo()"
      ],
      "metadata": {
        "colab": {
          "base_uri": "https://localhost:8080/"
        },
        "id": "9kaiWQJTDkEW",
        "outputId": "4db3ffb2-3ac7-494d-b528-736746513483"
      },
      "execution_count": 29,
      "outputs": [
        {
          "output_type": "execute_result",
          "data": {
            "text/plain": [
              "0.727432296890672"
            ]
          },
          "metadata": {},
          "execution_count": 29
        }
      ]
    },
    {
      "cell_type": "markdown",
      "source": [
        "## Validation - Kappa"
      ],
      "metadata": {
        "id": "Ts9oL9VCNQIA"
      }
    },
    {
      "cell_type": "code",
      "source": [
        "test_accuracy.kappa().getInfo()"
      ],
      "metadata": {
        "colab": {
          "base_uri": "https://localhost:8080/"
        },
        "id": "nDCEIcxMDm3f",
        "outputId": "bcda69ff-b5a2-420c-b8a6-90abcf1d563e"
      },
      "execution_count": 30,
      "outputs": [
        {
          "output_type": "execute_result",
          "data": {
            "text/plain": [
              "0.6777328218141782"
            ]
          },
          "metadata": {},
          "execution_count": 30
        }
      ]
    },
    {
      "cell_type": "markdown",
      "source": [
        "## Validation - Producer's Accuracy"
      ],
      "metadata": {
        "id": "6SA6mfl_NSpN"
      }
    },
    {
      "cell_type": "code",
      "source": [
        "test_accuracy.producersAccuracy().getInfo()"
      ],
      "metadata": {
        "colab": {
          "base_uri": "https://localhost:8080/"
        },
        "id": "WscpdtCMDpRq",
        "outputId": "65e424f0-826a-48d1-a70b-f8feee970a8b"
      },
      "execution_count": 31,
      "outputs": [
        {
          "output_type": "execute_result",
          "data": {
            "text/plain": [
              "[[0.9990485252140818],\n",
              " [0.16666666666666666],\n",
              " [0.7398190045248869],\n",
              " [0.23636363636363636],\n",
              " [0.25],\n",
              " [0.75],\n",
              " [0.7008196721311475],\n",
              " [0.6728813559322034],\n",
              " [0.4900662251655629],\n",
              " [0],\n",
              " [0.7049689440993789],\n",
              " [0.23333333333333334]]"
            ]
          },
          "metadata": {},
          "execution_count": 31
        }
      ]
    },
    {
      "cell_type": "markdown",
      "source": [
        "## Validation - Consumers’ Accuracy"
      ],
      "metadata": {
        "id": "-wCngpx7NZoW"
      }
    },
    {
      "cell_type": "code",
      "source": [
        "test_accuracy.consumersAccuracy().getInfo()"
      ],
      "metadata": {
        "colab": {
          "base_uri": "https://localhost:8080/"
        },
        "id": "-pe0gsExDrzd",
        "outputId": "e5912584-88fc-4721-bd2f-61dca0b39502"
      },
      "execution_count": 32,
      "outputs": [
        {
          "output_type": "execute_result",
          "data": {
            "text/plain": [
              "[[0.9924385633270322,\n",
              "  0.35,\n",
              "  0.6673469387755102,\n",
              "  0.3611111111111111,\n",
              "  0.38461538461538464,\n",
              "  0.6185133239831697,\n",
              "  0.7566371681415929,\n",
              "  0.6455284552845528,\n",
              "  0.6149584487534626,\n",
              "  0,\n",
              "  0.6776119402985075,\n",
              "  0.30434782608695654]]"
            ]
          },
          "metadata": {},
          "execution_count": 32
        }
      ]
    },
    {
      "cell_type": "markdown",
      "metadata": {
        "id": "VgH2oo3ZGel_"
      },
      "source": [
        "### Classify the image"
      ]
    },
    {
      "cell_type": "code",
      "execution_count": 33,
      "metadata": {
        "id": "iHvkhdXVGel_",
        "colab": {
          "base_uri": "https://localhost:8080/",
          "height": 621,
          "referenced_widgets": [
            "7b17db33dc9c4087ae1f7a7cb4aabdf4",
            "25563686d3d64f69a74b1ccd468659be",
            "f182a0489ccb4883b44465b80d036e03",
            "c9185808d6f3434d8dcf5010c54630d5",
            "3162ba8aecbd4c6c827ef23ce31d5223",
            "c4b75cf3fb2044b89ff61b56c3f1991c",
            "447d8bdffe9949dd9df7dd36f36fcde8",
            "66da1fc4b0e64acba3100623083c8d3d",
            "0b3456541baa48c2aa050ab914e1d148",
            "cd22033361504ed8925fda5aaa017e49",
            "b141bfc6ffe54f00a5dfb21f3d55bacc",
            "60a14cda4fe349e2995ce2efc2d4c786",
            "fbb5c20007dc48e19b1b71f11fa29285",
            "45135b430e8c4a5ab99630012efd68ae",
            "46a4d67714b14b50a6f93712125d3429",
            "805584a42f024da49f37cf2d4789344b",
            "35842c795ea64f78aa41c347152472ca",
            "1e0ee49873ff450ba74b66dbece9dcb6",
            "c7e168c74f2a4b52ac65c5c79ab2cc15",
            "033522b1f8a9412f99d3934b2284437c",
            "9a4bd160b53a4c1f8328afe8d704e75c",
            "4508b95d80a242f1bdb63e1f2c779e2f",
            "62e88618efaa43adbaea1d95433dd04b",
            "a63c6f403f904b28904887a727cacf99",
            "3f27281a08cd4158b7760a6210d6b5bd",
            "0fa084e46bdb4e9bb70cf14e5f86be85",
            "5c48212096c3440a96a5b4ed54b67f49",
            "450fc7e83e5e4e59acf579eb6872f259",
            "c028c3eb826e4ca4a002edfa3914b84a",
            "92e065a96b4e47e08cbf68a1687f2610",
            "44ea2a08b5b544e680ced7cb1834bbad"
          ]
        },
        "outputId": "eba0e632-8aea-493b-c2a0-39fa05262866"
      },
      "outputs": [
        {
          "output_type": "display_data",
          "data": {
            "text/plain": [
              "Map(center=[43, -80.55], controls=(WidgetControl(options=['position', 'transparent_bg'], widget=HBox(children=…"
            ],
            "application/vnd.jupyter.widget-view+json": {
              "version_major": 2,
              "version_minor": 0,
              "model_id": "7b17db33dc9c4087ae1f7a7cb4aabdf4"
            }
          },
          "metadata": {
            "application/vnd.jupyter.widget-view+json": {
              "colab": {
                "custom_widget_manager": {
                  "url": "https://ssl.gstatic.com/colaboratory-static/widgets/colab-cdn-widget-manager/a8874ba6619b6106/manager.min.js"
                }
              }
            }
          }
        }
      ],
      "source": [
        "# Classify the image with the same bands used for training.\n",
        "result = image.select(bands).classify(trainedClassifier)\n",
        "\n",
        "# # Display the clusters with random colors.\n",
        "Map.addLayer(result.randomVisualizer(), {}, 'classified')\n",
        "Map"
      ]
    },
    {
      "cell_type": "markdown",
      "metadata": {
        "id": "-U5iPlFoGemA"
      },
      "source": [
        "### Render categorical map\n",
        "\n",
        "To render a categorical map, we can set two image properties: `landcover_class_values` and `landcover_class_palette`. We can use the same style as the NLCD so that it is easy to compare the two maps. "
      ]
    },
    {
      "cell_type": "code",
      "execution_count": 34,
      "metadata": {
        "id": "icuh0lZLGemB",
        "colab": {
          "base_uri": "https://localhost:8080/"
        },
        "outputId": "82537027-29a2-47d5-85d3-8a3f849d6ad7"
      },
      "outputs": [
        {
          "output_type": "stream",
          "name": "stdout",
          "text": [
            "[0, 1, 2, 3, 4, 5, 6, 7, 8, 9, 10, 11]\n"
          ]
        }
      ],
      "source": [
        "class_values = affc.get('landcover_class_values').getInfo()\n",
        "print(class_values)"
      ]
    },
    {
      "cell_type": "code",
      "source": [
        "class_palette = affc.get('landcover_class_palette').getInfo()\n",
        "print(class_palette)"
      ],
      "metadata": {
        "colab": {
          "base_uri": "https://localhost:8080/"
        },
        "id": "cU54IpV93h37",
        "outputId": "7e052ea2-e765-46cc-ed67-47ba300492e7"
      },
      "execution_count": 35,
      "outputs": [
        {
          "output_type": "stream",
          "name": "stdout",
          "text": [
            "['3333ff', '996666', 'cc6699', 'ffff00', '993399', 'ffcc33', '92a55b', 'ffff99', 'cc9933', '006600', '00cc00', 'cc9900']\n"
          ]
        }
      ]
    },
    {
      "cell_type": "code",
      "execution_count": 36,
      "metadata": {
        "id": "94i3idvSGemB"
      },
      "outputs": [],
      "source": [
        "landcover = result.set('classification_class_values', class_values)\n",
        "landcover = landcover.set('classification_class_palette', class_palette)"
      ]
    },
    {
      "cell_type": "code",
      "execution_count": 37,
      "metadata": {
        "id": "kEFrC5abGemC",
        "colab": {
          "base_uri": "https://localhost:8080/",
          "height": 621,
          "referenced_widgets": [
            "7b17db33dc9c4087ae1f7a7cb4aabdf4",
            "25563686d3d64f69a74b1ccd468659be",
            "f182a0489ccb4883b44465b80d036e03",
            "c9185808d6f3434d8dcf5010c54630d5",
            "3162ba8aecbd4c6c827ef23ce31d5223",
            "c4b75cf3fb2044b89ff61b56c3f1991c",
            "447d8bdffe9949dd9df7dd36f36fcde8",
            "66da1fc4b0e64acba3100623083c8d3d",
            "0b3456541baa48c2aa050ab914e1d148",
            "cd22033361504ed8925fda5aaa017e49",
            "b141bfc6ffe54f00a5dfb21f3d55bacc",
            "60a14cda4fe349e2995ce2efc2d4c786",
            "fbb5c20007dc48e19b1b71f11fa29285",
            "45135b430e8c4a5ab99630012efd68ae",
            "46a4d67714b14b50a6f93712125d3429",
            "805584a42f024da49f37cf2d4789344b",
            "35842c795ea64f78aa41c347152472ca",
            "1e0ee49873ff450ba74b66dbece9dcb6",
            "44ea2a08b5b544e680ced7cb1834bbad",
            "c7e168c74f2a4b52ac65c5c79ab2cc15",
            "033522b1f8a9412f99d3934b2284437c",
            "9a4bd160b53a4c1f8328afe8d704e75c",
            "4508b95d80a242f1bdb63e1f2c779e2f",
            "62e88618efaa43adbaea1d95433dd04b",
            "a63c6f403f904b28904887a727cacf99",
            "3f27281a08cd4158b7760a6210d6b5bd",
            "0fa084e46bdb4e9bb70cf14e5f86be85",
            "5c48212096c3440a96a5b4ed54b67f49",
            "450fc7e83e5e4e59acf579eb6872f259",
            "c028c3eb826e4ca4a002edfa3914b84a",
            "92e065a96b4e47e08cbf68a1687f2610"
          ]
        },
        "outputId": "16c77410-943d-4811-b1e5-9d1ddf8a83e8"
      },
      "outputs": [
        {
          "output_type": "display_data",
          "data": {
            "text/plain": [
              "Map(center=[43, -80.55], controls=(WidgetControl(options=['position', 'transparent_bg'], widget=HBox(children=…"
            ],
            "application/vnd.jupyter.widget-view+json": {
              "version_major": 2,
              "version_minor": 0,
              "model_id": "7b17db33dc9c4087ae1f7a7cb4aabdf4"
            }
          },
          "metadata": {
            "application/vnd.jupyter.widget-view+json": {
              "colab": {
                "custom_widget_manager": {
                  "url": "https://ssl.gstatic.com/colaboratory-static/widgets/colab-cdn-widget-manager/a8874ba6619b6106/manager.min.js"
                }
              }
            }
          }
        }
      ],
      "source": [
        "Map.addLayer(landcover, {}, 'Land cover')\n",
        "Map"
      ]
    },
    {
      "cell_type": "markdown",
      "metadata": {
        "id": "8DDMVm0IGemC"
      },
      "source": [
        "### Visualize the result"
      ]
    },
    {
      "cell_type": "code",
      "execution_count": 38,
      "metadata": {
        "id": "KfTTVR-iGemD",
        "colab": {
          "base_uri": "https://localhost:8080/",
          "height": 66,
          "referenced_widgets": [
            "e4327b933b594b2cac1068e0c6395b3c",
            "d8bde19768884135ab3527d85f25c7a5",
            "9662b59f65f64a42a04a95624cb3488b",
            "381dab805c3d48c18dfa019702701d86",
            "54a393580b1a4697865945f532530b0f"
          ]
        },
        "outputId": "763fd2ad-aa9f-41fa-ff0a-3d6b469e47ff"
      },
      "outputs": [
        {
          "output_type": "stream",
          "name": "stdout",
          "text": [
            "Change layer opacity:\n"
          ]
        },
        {
          "output_type": "display_data",
          "data": {
            "text/plain": [
              "Box(children=(FloatSlider(value=1.0, description='opacity', max=1.0),))"
            ],
            "application/vnd.jupyter.widget-view+json": {
              "version_major": 2,
              "version_minor": 0,
              "model_id": "e4327b933b594b2cac1068e0c6395b3c"
            }
          },
          "metadata": {
            "application/vnd.jupyter.widget-view+json": {
              "colab": {
                "custom_widget_manager": {
                  "url": "https://ssl.gstatic.com/colaboratory-static/widgets/colab-cdn-widget-manager/a8874ba6619b6106/manager.min.js"
                }
              }
            }
          }
        }
      ],
      "source": [
        "print('Change layer opacity:')\n",
        "cluster_layer = Map.layers[-1]\n",
        "cluster_layer.interact(opacity=(0, 1, 0.1))"
      ]
    },
    {
      "cell_type": "markdown",
      "metadata": {
        "id": "spFF_8WhGemE"
      },
      "source": [
        "### Add a legend to the map"
      ]
    },
    {
      "cell_type": "code",
      "execution_count": 39,
      "metadata": {
        "id": "JSla3RMnGemF"
      },
      "outputs": [],
      "source": [
        "# Map.add_legend(builtin_legend='NLCD')\n",
        "# Map"
      ]
    },
    {
      "cell_type": "markdown",
      "metadata": {
        "id": "anH9Qe8rGemF"
      },
      "source": [
        "### Export the result\n",
        "\n",
        "Export the result directly to your computer:"
      ]
    },
    {
      "cell_type": "code",
      "execution_count": 40,
      "metadata": {
        "id": "Gj3LG82bGemG"
      },
      "outputs": [],
      "source": [
        "# import os\n",
        "\n",
        "# out_dir = os.path.join(os.path.expanduser('~'), 'Downloads')\n",
        "# out_file = os.path.join(out_dir, 'landcover.tif')"
      ]
    },
    {
      "cell_type": "code",
      "execution_count": 41,
      "metadata": {
        "id": "Y7UTBKevGemG"
      },
      "outputs": [],
      "source": [
        "# geemap.ee_export_image(landcover, filename=out_file, scale=900)"
      ]
    },
    {
      "cell_type": "markdown",
      "metadata": {
        "id": "d11om2anGemH"
      },
      "source": [
        "Export the result to Google Drive:"
      ]
    },
    {
      "cell_type": "code",
      "execution_count": 42,
      "metadata": {
        "id": "FlXa6KjQGemH"
      },
      "outputs": [],
      "source": [
        "# geemap.ee_export_image_to_drive(\n",
        "#     landcover, description='landcover', folder='export', scale=900\n",
        "# )"
      ]
    }
  ],
  "metadata": {
    "hide_input": false,
    "kernelspec": {
      "display_name": "Python 3",
      "language": "python",
      "name": "python3"
    },
    "language_info": {
      "codemirror_mode": {
        "name": "ipython",
        "version": 3
      },
      "file_extension": ".py",
      "mimetype": "text/x-python",
      "name": "python",
      "nbconvert_exporter": "python",
      "pygments_lexer": "ipython3",
      "version": "3.8.5"
    },
    "toc": {
      "base_numbering": 1,
      "nav_menu": {},
      "number_sections": true,
      "sideBar": true,
      "skip_h1_title": true,
      "title_cell": "Table of Contents",
      "title_sidebar": "Table of Contents",
      "toc_cell": false,
      "toc_position": {
        "height": "calc(100% - 180px)",
        "left": "10px",
        "top": "150px",
        "width": "384px"
      },
      "toc_section_display": true,
      "toc_window_display": false
    },
    "varInspector": {
      "cols": {
        "lenName": 16,
        "lenType": 16,
        "lenVar": 40
      },
      "kernels_config": {
        "python": {
          "delete_cmd_postfix": "",
          "delete_cmd_prefix": "del ",
          "library": "var_list.py",
          "varRefreshCmd": "print(var_dic_list())"
        },
        "r": {
          "delete_cmd_postfix": ") ",
          "delete_cmd_prefix": "rm(",
          "library": "var_list.r",
          "varRefreshCmd": "cat(var_dic_list()) "
        }
      },
      "types_to_exclude": [
        "module",
        "function",
        "builtin_function_or_method",
        "instance",
        "_Feature"
      ],
      "window_display": false
    },
    "colab": {
      "name": "Vegetables_Supply_Prediction_ML_5/17.ipynb",
      "provenance": [],
      "collapsed_sections": []
    },
    "widgets": {
      "application/vnd.jupyter.widget-state+json": {
        "7b17db33dc9c4087ae1f7a7cb4aabdf4": {
          "model_module": "jupyter-leaflet",
          "model_name": "LeafletMapModel",
          "model_module_version": "^0.16.0",
          "state": {
            "_dom_classes": [],
            "_model_module": "jupyter-leaflet",
            "_model_module_version": "^0.16.0",
            "_model_name": "LeafletMapModel",
            "_view_count": null,
            "_view_module": "jupyter-leaflet",
            "_view_module_version": "^0.16.0",
            "_view_name": "LeafletMapView",
            "bottom": 24302,
            "bounce_at_zoom_limits": true,
            "box_zoom": true,
            "center": [
              43.31918320532585,
              -78.47259521484376
            ],
            "close_popup_on_click": true,
            "controls": [
              "IPY_MODEL_25563686d3d64f69a74b1ccd468659be",
              "IPY_MODEL_f182a0489ccb4883b44465b80d036e03",
              "IPY_MODEL_c9185808d6f3434d8dcf5010c54630d5",
              "IPY_MODEL_3162ba8aecbd4c6c827ef23ce31d5223",
              "IPY_MODEL_c4b75cf3fb2044b89ff61b56c3f1991c",
              "IPY_MODEL_447d8bdffe9949dd9df7dd36f36fcde8",
              "IPY_MODEL_66da1fc4b0e64acba3100623083c8d3d",
              "IPY_MODEL_0b3456541baa48c2aa050ab914e1d148"
            ],
            "crs": {
              "name": "EPSG3857",
              "custom": false
            },
            "default_style": "IPY_MODEL_cd22033361504ed8925fda5aaa017e49",
            "double_click_zoom": true,
            "dragging": true,
            "dragging_style": "IPY_MODEL_b141bfc6ffe54f00a5dfb21f3d55bacc",
            "east": -73.10302734375001,
            "fullscreen": false,
            "inertia": true,
            "inertia_deceleration": 3000,
            "inertia_max_speed": 1500,
            "interpolation": "bilinear",
            "keyboard": true,
            "keyboard_pan_offset": 80,
            "keyboard_zoom_offset": 1,
            "layers": [
              "IPY_MODEL_60a14cda4fe349e2995ce2efc2d4c786",
              "IPY_MODEL_fbb5c20007dc48e19b1b71f11fa29285",
              "IPY_MODEL_45135b430e8c4a5ab99630012efd68ae",
              "IPY_MODEL_46a4d67714b14b50a6f93712125d3429",
              "IPY_MODEL_805584a42f024da49f37cf2d4789344b",
              "IPY_MODEL_35842c795ea64f78aa41c347152472ca",
              "IPY_MODEL_1e0ee49873ff450ba74b66dbece9dcb6",
              "IPY_MODEL_44ea2a08b5b544e680ced7cb1834bbad"
            ],
            "layout": "IPY_MODEL_c7e168c74f2a4b52ac65c5c79ab2cc15",
            "left": 17506,
            "max_zoom": 24,
            "min_zoom": 1,
            "modisdate": "2022-05-28",
            "north": 44.50434127765394,
            "options": [
              "bounce_at_zoom_limits",
              "box_zoom",
              "center",
              "close_popup_on_click",
              "double_click_zoom",
              "dragging",
              "fullscreen",
              "inertia",
              "inertia_deceleration",
              "inertia_max_speed",
              "interpolation",
              "keyboard",
              "keyboard_pan_offset",
              "keyboard_zoom_offset",
              "max_zoom",
              "min_zoom",
              "prefer_canvas",
              "scroll_wheel_zoom",
              "tap",
              "tap_tolerance",
              "touch_zoom",
              "world_copy_jump",
              "zoom",
              "zoom_animation_threshold",
              "zoom_delta",
              "zoom_snap",
              "zoom_start"
            ],
            "prefer_canvas": false,
            "right": 19460,
            "scroll_wheel_zoom": true,
            "south": 42.10637370579326,
            "style": "IPY_MODEL_cd22033361504ed8925fda5aaa017e49",
            "tap": true,
            "tap_tolerance": 15,
            "top": 23702,
            "touch_zoom": true,
            "west": -83.83666992187501,
            "window_url": "https://78hzav1a35s-496ff2e9c6d22116-0-colab.googleusercontent.com/outputframe.html?vrz=colab-20220525-060046-RC00_450840856",
            "world_copy_jump": false,
            "zoom": 8,
            "zoom_animation_threshold": 4,
            "zoom_delta": 1,
            "zoom_snap": 1,
            "zoom_start": 12,
            "_dragging": false
          }
        },
        "25563686d3d64f69a74b1ccd468659be": {
          "model_module": "jupyter-leaflet",
          "model_name": "LeafletWidgetControlModel",
          "model_module_version": "^0.16.0",
          "state": {
            "_model_module": "jupyter-leaflet",
            "_model_module_version": "^0.16.0",
            "_model_name": "LeafletWidgetControlModel",
            "_view_count": null,
            "_view_module": "jupyter-leaflet",
            "_view_module_version": "^0.16.0",
            "_view_name": "LeafletWidgetControlView",
            "max_height": null,
            "max_width": null,
            "min_height": null,
            "min_width": null,
            "options": [
              "position",
              "transparent_bg"
            ],
            "position": "topleft",
            "transparent_bg": false,
            "widget": "IPY_MODEL_9a4bd160b53a4c1f8328afe8d704e75c"
          }
        },
        "f182a0489ccb4883b44465b80d036e03": {
          "model_module": "jupyter-leaflet",
          "model_name": "LeafletZoomControlModel",
          "model_module_version": "^0.16.0",
          "state": {
            "_model_module": "jupyter-leaflet",
            "_model_module_version": "^0.16.0",
            "_model_name": "LeafletZoomControlModel",
            "_view_count": null,
            "_view_module": "jupyter-leaflet",
            "_view_module_version": "^0.16.0",
            "_view_name": "LeafletZoomControlView",
            "options": [
              "position",
              "zoom_in_text",
              "zoom_in_title",
              "zoom_out_text",
              "zoom_out_title"
            ],
            "position": "topleft",
            "zoom_in_text": "+",
            "zoom_in_title": "Zoom in",
            "zoom_out_text": "-",
            "zoom_out_title": "Zoom out"
          }
        },
        "c9185808d6f3434d8dcf5010c54630d5": {
          "model_module": "jupyter-leaflet",
          "model_name": "LeafletScaleControlModel",
          "model_module_version": "^0.16.0",
          "state": {
            "_model_module": "jupyter-leaflet",
            "_model_module_version": "^0.16.0",
            "_model_name": "LeafletScaleControlModel",
            "_view_count": null,
            "_view_module": "jupyter-leaflet",
            "_view_module_version": "^0.16.0",
            "_view_name": "LeafletScaleControlView",
            "imperial": true,
            "max_width": 100,
            "metric": true,
            "options": [
              "imperial",
              "max_width",
              "metric",
              "position",
              "update_when_idle"
            ],
            "position": "bottomleft",
            "update_when_idle": false
          }
        },
        "3162ba8aecbd4c6c827ef23ce31d5223": {
          "model_module": "jupyter-leaflet",
          "model_name": "LeafletFullScreenControlModel",
          "model_module_version": "^0.16.0",
          "state": {
            "_model_module": "jupyter-leaflet",
            "_model_module_version": "^0.16.0",
            "_model_name": "LeafletFullScreenControlModel",
            "_view_count": null,
            "_view_module": "jupyter-leaflet",
            "_view_module_version": "^0.16.0",
            "_view_name": "LeafletFullScreenControlView",
            "options": [
              "position"
            ],
            "position": "topleft"
          }
        },
        "c4b75cf3fb2044b89ff61b56c3f1991c": {
          "model_module": "jupyter-leaflet",
          "model_name": "LeafletMeasureControlModel",
          "model_module_version": "^0.16.0",
          "state": {
            "_custom_units": {},
            "_model_module": "jupyter-leaflet",
            "_model_module_version": "^0.16.0",
            "_model_name": "LeafletMeasureControlModel",
            "_view_count": null,
            "_view_module": "jupyter-leaflet",
            "_view_module_version": "^0.16.0",
            "_view_name": "LeafletMeasureControlView",
            "active_color": "orange",
            "capture_z_index": 10000,
            "completed_color": "#C8F2BE",
            "options": [
              "active_color",
              "capture_z_index",
              "completed_color",
              "popup_options",
              "position",
              "primary_area_unit",
              "primary_length_unit",
              "secondary_area_unit",
              "secondary_length_unit"
            ],
            "popup_options": {
              "className": "leaflet-measure-resultpopup",
              "autoPanPadding": [
                10,
                10
              ]
            },
            "position": "bottomleft",
            "primary_area_unit": "acres",
            "primary_length_unit": "kilometers",
            "secondary_area_unit": null,
            "secondary_length_unit": null
          }
        },
        "447d8bdffe9949dd9df7dd36f36fcde8": {
          "model_module": "jupyter-leaflet",
          "model_name": "LeafletAttributionControlModel",
          "model_module_version": "^0.16.0",
          "state": {
            "_model_module": "jupyter-leaflet",
            "_model_module_version": "^0.16.0",
            "_model_name": "LeafletAttributionControlModel",
            "_view_count": null,
            "_view_module": "jupyter-leaflet",
            "_view_module_version": "^0.16.0",
            "_view_name": "LeafletAttributionControlView",
            "options": [
              "position",
              "prefix"
            ],
            "position": "bottomright",
            "prefix": "ipyleaflet"
          }
        },
        "66da1fc4b0e64acba3100623083c8d3d": {
          "model_module": "jupyter-leaflet",
          "model_name": "LeafletDrawControlModel",
          "model_module_version": "^0.16.0",
          "state": {
            "_model_module": "jupyter-leaflet",
            "_model_module_version": "^0.16.0",
            "_model_name": "LeafletDrawControlModel",
            "_view_count": null,
            "_view_module": "jupyter-leaflet",
            "_view_module_version": "^0.16.0",
            "_view_name": "LeafletDrawControlView",
            "circle": {
              "shapeOptions": {
                "color": "#3388ff"
              }
            },
            "circlemarker": {},
            "data": [],
            "edit": true,
            "marker": {
              "shapeOptions": {
                "color": "#3388ff"
              }
            },
            "options": [
              "position"
            ],
            "polygon": {
              "shapeOptions": {}
            },
            "polyline": {
              "shapeOptions": {}
            },
            "position": "topleft",
            "rectangle": {
              "shapeOptions": {
                "color": "#3388ff"
              }
            },
            "remove": true
          }
        },
        "0b3456541baa48c2aa050ab914e1d148": {
          "model_module": "jupyter-leaflet",
          "model_name": "LeafletWidgetControlModel",
          "model_module_version": "^0.16.0",
          "state": {
            "_model_module": "jupyter-leaflet",
            "_model_module_version": "^0.16.0",
            "_model_name": "LeafletWidgetControlModel",
            "_view_count": null,
            "_view_module": "jupyter-leaflet",
            "_view_module_version": "^0.16.0",
            "_view_name": "LeafletWidgetControlView",
            "max_height": null,
            "max_width": null,
            "min_height": null,
            "min_width": null,
            "options": [
              "position",
              "transparent_bg"
            ],
            "position": "topright",
            "transparent_bg": false,
            "widget": "IPY_MODEL_4508b95d80a242f1bdb63e1f2c779e2f"
          }
        },
        "cd22033361504ed8925fda5aaa017e49": {
          "model_module": "jupyter-leaflet",
          "model_name": "LeafletMapStyleModel",
          "model_module_version": "^0.16.0",
          "state": {
            "_model_module": "jupyter-leaflet",
            "_model_module_version": "^0.16.0",
            "_model_name": "LeafletMapStyleModel",
            "_view_count": null,
            "_view_module": "@jupyter-widgets/base",
            "_view_module_version": "1.2.0",
            "_view_name": "StyleView",
            "cursor": "grab"
          }
        },
        "b141bfc6ffe54f00a5dfb21f3d55bacc": {
          "model_module": "jupyter-leaflet",
          "model_name": "LeafletMapStyleModel",
          "model_module_version": "^0.16.0",
          "state": {
            "_model_module": "jupyter-leaflet",
            "_model_module_version": "^0.16.0",
            "_model_name": "LeafletMapStyleModel",
            "_view_count": null,
            "_view_module": "@jupyter-widgets/base",
            "_view_module_version": "1.2.0",
            "_view_name": "StyleView",
            "cursor": "move"
          }
        },
        "60a14cda4fe349e2995ce2efc2d4c786": {
          "model_module": "jupyter-leaflet",
          "model_name": "LeafletTileLayerModel",
          "model_module_version": "^0.16.0",
          "state": {
            "_model_module": "jupyter-leaflet",
            "_model_module_version": "^0.16.0",
            "_model_name": "LeafletTileLayerModel",
            "_view_count": null,
            "_view_module": "jupyter-leaflet",
            "_view_module_version": "^0.16.0",
            "_view_name": "LeafletTileLayerView",
            "attribution": "&copy; <a href=\"https://www.openstreetmap.org/copyright\">OpenStreetMap</a> contributors",
            "base": true,
            "bottom": true,
            "bounds": null,
            "detect_retina": false,
            "loading": false,
            "max_native_zoom": 18,
            "max_zoom": 19,
            "min_native_zoom": 0,
            "min_zoom": 1,
            "name": "OpenStreetMap.Mapnik",
            "no_wrap": false,
            "opacity": 1,
            "options": [
              "attribution",
              "bounds",
              "detect_retina",
              "max_native_zoom",
              "max_zoom",
              "min_native_zoom",
              "min_zoom",
              "no_wrap",
              "tile_size",
              "tms"
            ],
            "popup": null,
            "popup_max_height": null,
            "popup_max_width": 300,
            "popup_min_width": 50,
            "show_loading": false,
            "tile_size": 256,
            "tms": false,
            "url": "https://a.tile.openstreetmap.org/{z}/{x}/{y}.png",
            "visible": true
          }
        },
        "fbb5c20007dc48e19b1b71f11fa29285": {
          "model_module": "jupyter-leaflet",
          "model_name": "LeafletTileLayerModel",
          "model_module_version": "^0.16.0",
          "state": {
            "_model_module": "jupyter-leaflet",
            "_model_module_version": "^0.16.0",
            "_model_name": "LeafletTileLayerModel",
            "_view_count": null,
            "_view_module": "jupyter-leaflet",
            "_view_module_version": "^0.16.0",
            "_view_name": "LeafletTileLayerView",
            "attribution": "Google",
            "base": false,
            "bottom": true,
            "bounds": null,
            "detect_retina": false,
            "loading": false,
            "max_native_zoom": 18,
            "max_zoom": 22,
            "min_native_zoom": 0,
            "min_zoom": 0,
            "name": "Google Maps",
            "no_wrap": false,
            "opacity": 1,
            "options": [
              "attribution",
              "bounds",
              "detect_retina",
              "max_native_zoom",
              "max_zoom",
              "min_native_zoom",
              "min_zoom",
              "no_wrap",
              "tile_size",
              "tms"
            ],
            "popup": null,
            "popup_max_height": null,
            "popup_max_width": 300,
            "popup_min_width": 50,
            "show_loading": false,
            "tile_size": 256,
            "tms": false,
            "url": "https://mt1.google.com/vt/lyrs=m&x={x}&y={y}&z={z}",
            "visible": true
          }
        },
        "c7e168c74f2a4b52ac65c5c79ab2cc15": {
          "model_module": "@jupyter-widgets/base",
          "model_name": "LayoutModel",
          "model_module_version": "1.2.0",
          "state": {
            "_model_module": "@jupyter-widgets/base",
            "_model_module_version": "1.2.0",
            "_model_name": "LayoutModel",
            "_view_count": null,
            "_view_module": "@jupyter-widgets/base",
            "_view_module_version": "1.2.0",
            "_view_name": "LayoutView",
            "align_content": null,
            "align_items": null,
            "align_self": null,
            "border": null,
            "bottom": null,
            "display": null,
            "flex": null,
            "flex_flow": null,
            "grid_area": null,
            "grid_auto_columns": null,
            "grid_auto_flow": null,
            "grid_auto_rows": null,
            "grid_column": null,
            "grid_gap": null,
            "grid_row": null,
            "grid_template_areas": null,
            "grid_template_columns": null,
            "grid_template_rows": null,
            "height": "600px",
            "justify_content": null,
            "justify_items": null,
            "left": null,
            "margin": null,
            "max_height": null,
            "max_width": null,
            "min_height": null,
            "min_width": null,
            "object_fit": null,
            "object_position": null,
            "order": null,
            "overflow": null,
            "overflow_x": null,
            "overflow_y": null,
            "padding": null,
            "right": null,
            "top": null,
            "visibility": null,
            "width": null
          }
        },
        "033522b1f8a9412f99d3934b2284437c": {
          "model_module": "jupyter-leaflet",
          "model_name": "LeafletMapStyleModel",
          "model_module_version": "^0.16.0",
          "state": {
            "_model_module": "jupyter-leaflet",
            "_model_module_version": "^0.16.0",
            "_model_name": "LeafletMapStyleModel",
            "_view_count": null,
            "_view_module": "@jupyter-widgets/base",
            "_view_module_version": "1.2.0",
            "_view_name": "StyleView",
            "cursor": "grab"
          }
        },
        "9a4bd160b53a4c1f8328afe8d704e75c": {
          "model_module": "@jupyter-widgets/controls",
          "model_name": "HBoxModel",
          "model_module_version": "1.5.0",
          "state": {
            "_dom_classes": [],
            "_model_module": "@jupyter-widgets/controls",
            "_model_module_version": "1.5.0",
            "_model_name": "HBoxModel",
            "_view_count": null,
            "_view_module": "@jupyter-widgets/controls",
            "_view_module_version": "1.5.0",
            "_view_name": "HBoxView",
            "box_style": "",
            "children": [
              "IPY_MODEL_62e88618efaa43adbaea1d95433dd04b"
            ],
            "layout": "IPY_MODEL_a63c6f403f904b28904887a727cacf99"
          }
        },
        "4508b95d80a242f1bdb63e1f2c779e2f": {
          "model_module": "@jupyter-widgets/controls",
          "model_name": "VBoxModel",
          "model_module_version": "1.5.0",
          "state": {
            "_dom_classes": [],
            "_model_module": "@jupyter-widgets/controls",
            "_model_module_version": "1.5.0",
            "_model_name": "VBoxModel",
            "_view_count": null,
            "_view_module": "@jupyter-widgets/controls",
            "_view_module_version": "1.5.0",
            "_view_name": "VBoxView",
            "box_style": "",
            "children": [
              "IPY_MODEL_3f27281a08cd4158b7760a6210d6b5bd"
            ],
            "layout": "IPY_MODEL_0fa084e46bdb4e9bb70cf14e5f86be85"
          }
        },
        "62e88618efaa43adbaea1d95433dd04b": {
          "model_module": "@jupyter-widgets/controls",
          "model_name": "ToggleButtonModel",
          "model_module_version": "1.5.0",
          "state": {
            "_dom_classes": [],
            "_model_module": "@jupyter-widgets/controls",
            "_model_module_version": "1.5.0",
            "_model_name": "ToggleButtonModel",
            "_view_count": null,
            "_view_module": "@jupyter-widgets/controls",
            "_view_module_version": "1.5.0",
            "_view_name": "ToggleButtonView",
            "button_style": "",
            "description": "",
            "description_tooltip": null,
            "disabled": false,
            "icon": "globe",
            "layout": "IPY_MODEL_5c48212096c3440a96a5b4ed54b67f49",
            "style": "IPY_MODEL_450fc7e83e5e4e59acf579eb6872f259",
            "tooltip": "Search location/data",
            "value": false
          }
        },
        "a63c6f403f904b28904887a727cacf99": {
          "model_module": "@jupyter-widgets/base",
          "model_name": "LayoutModel",
          "model_module_version": "1.2.0",
          "state": {
            "_model_module": "@jupyter-widgets/base",
            "_model_module_version": "1.2.0",
            "_model_name": "LayoutModel",
            "_view_count": null,
            "_view_module": "@jupyter-widgets/base",
            "_view_module_version": "1.2.0",
            "_view_name": "LayoutView",
            "align_content": null,
            "align_items": null,
            "align_self": null,
            "border": null,
            "bottom": null,
            "display": null,
            "flex": null,
            "flex_flow": null,
            "grid_area": null,
            "grid_auto_columns": null,
            "grid_auto_flow": null,
            "grid_auto_rows": null,
            "grid_column": null,
            "grid_gap": null,
            "grid_row": null,
            "grid_template_areas": null,
            "grid_template_columns": null,
            "grid_template_rows": null,
            "height": null,
            "justify_content": null,
            "justify_items": null,
            "left": null,
            "margin": null,
            "max_height": null,
            "max_width": null,
            "min_height": null,
            "min_width": null,
            "object_fit": null,
            "object_position": null,
            "order": null,
            "overflow": null,
            "overflow_x": null,
            "overflow_y": null,
            "padding": null,
            "right": null,
            "top": null,
            "visibility": null,
            "width": null
          }
        },
        "3f27281a08cd4158b7760a6210d6b5bd": {
          "model_module": "@jupyter-widgets/controls",
          "model_name": "ToggleButtonModel",
          "model_module_version": "1.5.0",
          "state": {
            "_dom_classes": [],
            "_model_module": "@jupyter-widgets/controls",
            "_model_module_version": "1.5.0",
            "_model_name": "ToggleButtonModel",
            "_view_count": null,
            "_view_module": "@jupyter-widgets/controls",
            "_view_module_version": "1.5.0",
            "_view_name": "ToggleButtonView",
            "button_style": "",
            "description": "",
            "description_tooltip": null,
            "disabled": false,
            "icon": "wrench",
            "layout": "IPY_MODEL_c028c3eb826e4ca4a002edfa3914b84a",
            "style": "IPY_MODEL_92e065a96b4e47e08cbf68a1687f2610",
            "tooltip": "Toolbar",
            "value": false
          }
        },
        "0fa084e46bdb4e9bb70cf14e5f86be85": {
          "model_module": "@jupyter-widgets/base",
          "model_name": "LayoutModel",
          "model_module_version": "1.2.0",
          "state": {
            "_model_module": "@jupyter-widgets/base",
            "_model_module_version": "1.2.0",
            "_model_name": "LayoutModel",
            "_view_count": null,
            "_view_module": "@jupyter-widgets/base",
            "_view_module_version": "1.2.0",
            "_view_name": "LayoutView",
            "align_content": null,
            "align_items": null,
            "align_self": null,
            "border": null,
            "bottom": null,
            "display": null,
            "flex": null,
            "flex_flow": null,
            "grid_area": null,
            "grid_auto_columns": null,
            "grid_auto_flow": null,
            "grid_auto_rows": null,
            "grid_column": null,
            "grid_gap": null,
            "grid_row": null,
            "grid_template_areas": null,
            "grid_template_columns": null,
            "grid_template_rows": null,
            "height": null,
            "justify_content": null,
            "justify_items": null,
            "left": null,
            "margin": null,
            "max_height": null,
            "max_width": null,
            "min_height": null,
            "min_width": null,
            "object_fit": null,
            "object_position": null,
            "order": null,
            "overflow": null,
            "overflow_x": null,
            "overflow_y": null,
            "padding": null,
            "right": null,
            "top": null,
            "visibility": null,
            "width": null
          }
        },
        "5c48212096c3440a96a5b4ed54b67f49": {
          "model_module": "@jupyter-widgets/base",
          "model_name": "LayoutModel",
          "model_module_version": "1.2.0",
          "state": {
            "_model_module": "@jupyter-widgets/base",
            "_model_module_version": "1.2.0",
            "_model_name": "LayoutModel",
            "_view_count": null,
            "_view_module": "@jupyter-widgets/base",
            "_view_module_version": "1.2.0",
            "_view_name": "LayoutView",
            "align_content": null,
            "align_items": null,
            "align_self": null,
            "border": null,
            "bottom": null,
            "display": null,
            "flex": null,
            "flex_flow": null,
            "grid_area": null,
            "grid_auto_columns": null,
            "grid_auto_flow": null,
            "grid_auto_rows": null,
            "grid_column": null,
            "grid_gap": null,
            "grid_row": null,
            "grid_template_areas": null,
            "grid_template_columns": null,
            "grid_template_rows": null,
            "height": "28px",
            "justify_content": null,
            "justify_items": null,
            "left": null,
            "margin": null,
            "max_height": null,
            "max_width": null,
            "min_height": null,
            "min_width": null,
            "object_fit": null,
            "object_position": null,
            "order": null,
            "overflow": null,
            "overflow_x": null,
            "overflow_y": null,
            "padding": "0px 0px 0px 4px",
            "right": null,
            "top": null,
            "visibility": null,
            "width": "28px"
          }
        },
        "450fc7e83e5e4e59acf579eb6872f259": {
          "model_module": "@jupyter-widgets/controls",
          "model_name": "DescriptionStyleModel",
          "model_module_version": "1.5.0",
          "state": {
            "_model_module": "@jupyter-widgets/controls",
            "_model_module_version": "1.5.0",
            "_model_name": "DescriptionStyleModel",
            "_view_count": null,
            "_view_module": "@jupyter-widgets/base",
            "_view_module_version": "1.2.0",
            "_view_name": "StyleView",
            "description_width": ""
          }
        },
        "c028c3eb826e4ca4a002edfa3914b84a": {
          "model_module": "@jupyter-widgets/base",
          "model_name": "LayoutModel",
          "model_module_version": "1.2.0",
          "state": {
            "_model_module": "@jupyter-widgets/base",
            "_model_module_version": "1.2.0",
            "_model_name": "LayoutModel",
            "_view_count": null,
            "_view_module": "@jupyter-widgets/base",
            "_view_module_version": "1.2.0",
            "_view_name": "LayoutView",
            "align_content": null,
            "align_items": null,
            "align_self": null,
            "border": null,
            "bottom": null,
            "display": null,
            "flex": null,
            "flex_flow": null,
            "grid_area": null,
            "grid_auto_columns": null,
            "grid_auto_flow": null,
            "grid_auto_rows": null,
            "grid_column": null,
            "grid_gap": null,
            "grid_row": null,
            "grid_template_areas": null,
            "grid_template_columns": null,
            "grid_template_rows": null,
            "height": "28px",
            "justify_content": null,
            "justify_items": null,
            "left": null,
            "margin": null,
            "max_height": null,
            "max_width": null,
            "min_height": null,
            "min_width": null,
            "object_fit": null,
            "object_position": null,
            "order": null,
            "overflow": null,
            "overflow_x": null,
            "overflow_y": null,
            "padding": "0px 0px 0px 4px",
            "right": null,
            "top": null,
            "visibility": null,
            "width": "28px"
          }
        },
        "92e065a96b4e47e08cbf68a1687f2610": {
          "model_module": "@jupyter-widgets/controls",
          "model_name": "DescriptionStyleModel",
          "model_module_version": "1.5.0",
          "state": {
            "_model_module": "@jupyter-widgets/controls",
            "_model_module_version": "1.5.0",
            "_model_name": "DescriptionStyleModel",
            "_view_count": null,
            "_view_module": "@jupyter-widgets/base",
            "_view_module_version": "1.2.0",
            "_view_name": "StyleView",
            "description_width": ""
          }
        },
        "45135b430e8c4a5ab99630012efd68ae": {
          "model_module": "jupyter-leaflet",
          "model_name": "LeafletTileLayerModel",
          "model_module_version": "^0.16.0",
          "state": {
            "_model_module": "jupyter-leaflet",
            "_model_module_version": "^0.16.0",
            "_model_name": "LeafletTileLayerModel",
            "_view_count": null,
            "_view_module": "jupyter-leaflet",
            "_view_module_version": "^0.16.0",
            "_view_name": "LeafletTileLayerView",
            "attribution": "Google Earth Engine",
            "base": false,
            "bottom": true,
            "bounds": null,
            "detect_retina": false,
            "loading": false,
            "max_native_zoom": 18,
            "max_zoom": 24,
            "min_native_zoom": 0,
            "min_zoom": 0,
            "name": "Landsat-8",
            "no_wrap": false,
            "opacity": 1,
            "options": [
              "attribution",
              "bounds",
              "detect_retina",
              "max_native_zoom",
              "max_zoom",
              "min_native_zoom",
              "min_zoom",
              "no_wrap",
              "tile_size",
              "tms"
            ],
            "popup": null,
            "popup_max_height": null,
            "popup_max_width": 300,
            "popup_min_width": 50,
            "show_loading": false,
            "tile_size": 256,
            "tms": false,
            "url": "https://earthengine.googleapis.com/v1alpha/projects/earthengine-legacy/maps/965777d431ba4cd842c588c226f19e57-01a5a66dabf031ea0f79f5b6ada53484/tiles/{z}/{x}/{y}",
            "visible": true
          }
        },
        "46a4d67714b14b50a6f93712125d3429": {
          "model_module": "jupyter-leaflet",
          "model_name": "LeafletTileLayerModel",
          "model_module_version": "^0.16.0",
          "state": {
            "_model_module": "jupyter-leaflet",
            "_model_module_version": "^0.16.0",
            "_model_name": "LeafletTileLayerModel",
            "_view_count": null,
            "_view_module": "jupyter-leaflet",
            "_view_module_version": "^0.16.0",
            "_view_name": "LeafletTileLayerView",
            "attribution": "Google Earth Engine",
            "base": false,
            "bottom": true,
            "bounds": null,
            "detect_retina": false,
            "loading": false,
            "max_native_zoom": 18,
            "max_zoom": 24,
            "min_native_zoom": 0,
            "min_zoom": 0,
            "name": "AAFC",
            "no_wrap": false,
            "opacity": 1,
            "options": [
              "attribution",
              "bounds",
              "detect_retina",
              "max_native_zoom",
              "max_zoom",
              "min_native_zoom",
              "min_zoom",
              "no_wrap",
              "tile_size",
              "tms"
            ],
            "popup": null,
            "popup_max_height": null,
            "popup_max_width": 300,
            "popup_min_width": 50,
            "show_loading": false,
            "tile_size": 256,
            "tms": false,
            "url": "https://earthengine.googleapis.com/v1alpha/projects/earthengine-legacy/maps/fbb55a04ba7c97bbca1b20ea3cc03f64-3c36d51a06c39290219f22664c5e7959/tiles/{z}/{x}/{y}",
            "visible": true
          }
        },
        "805584a42f024da49f37cf2d4789344b": {
          "model_module": "jupyter-leaflet",
          "model_name": "LeafletTileLayerModel",
          "model_module_version": "^0.16.0",
          "state": {
            "_model_module": "jupyter-leaflet",
            "_model_module_version": "^0.16.0",
            "_model_name": "LeafletTileLayerModel",
            "_view_count": null,
            "_view_module": "jupyter-leaflet",
            "_view_module_version": "^0.16.0",
            "_view_name": "LeafletTileLayerView",
            "attribution": "Google Earth Engine",
            "base": false,
            "bottom": true,
            "bounds": null,
            "detect_retina": false,
            "loading": false,
            "max_native_zoom": 18,
            "max_zoom": 24,
            "min_native_zoom": 0,
            "min_zoom": 0,
            "name": "training",
            "no_wrap": false,
            "opacity": 1,
            "options": [
              "attribution",
              "bounds",
              "detect_retina",
              "max_native_zoom",
              "max_zoom",
              "min_native_zoom",
              "min_zoom",
              "no_wrap",
              "tile_size",
              "tms"
            ],
            "popup": null,
            "popup_max_height": null,
            "popup_max_width": 300,
            "popup_min_width": 50,
            "show_loading": false,
            "tile_size": 256,
            "tms": false,
            "url": "https://earthengine.googleapis.com/v1alpha/projects/earthengine-legacy/maps/00c4f80a490476decbdee642ce8ff4a9-af3830e37bdba0980ab077def2e05eb6/tiles/{z}/{x}/{y}",
            "visible": false
          }
        },
        "35842c795ea64f78aa41c347152472ca": {
          "model_module": "jupyter-leaflet",
          "model_name": "LeafletTileLayerModel",
          "model_module_version": "^0.16.0",
          "state": {
            "_model_module": "jupyter-leaflet",
            "_model_module_version": "^0.16.0",
            "_model_name": "LeafletTileLayerModel",
            "_view_count": null,
            "_view_module": "jupyter-leaflet",
            "_view_module_version": "^0.16.0",
            "_view_name": "LeafletTileLayerView",
            "attribution": "Google Earth Engine",
            "base": false,
            "bottom": true,
            "bounds": null,
            "detect_retina": false,
            "loading": false,
            "max_native_zoom": 18,
            "max_zoom": 24,
            "min_native_zoom": 0,
            "min_zoom": 0,
            "name": "validation",
            "no_wrap": false,
            "opacity": 1,
            "options": [
              "attribution",
              "bounds",
              "detect_retina",
              "max_native_zoom",
              "max_zoom",
              "min_native_zoom",
              "min_zoom",
              "no_wrap",
              "tile_size",
              "tms"
            ],
            "popup": null,
            "popup_max_height": null,
            "popup_max_width": 300,
            "popup_min_width": 50,
            "show_loading": false,
            "tile_size": 256,
            "tms": false,
            "url": "https://earthengine.googleapis.com/v1alpha/projects/earthengine-legacy/maps/2047ce390e642c84c0adbc336975ab13-1b7f4f32d05262f30754a1bc7e38289e/tiles/{z}/{x}/{y}",
            "visible": false
          }
        },
        "1e0ee49873ff450ba74b66dbece9dcb6": {
          "model_module": "jupyter-leaflet",
          "model_name": "LeafletTileLayerModel",
          "model_module_version": "^0.16.0",
          "state": {
            "_model_module": "jupyter-leaflet",
            "_model_module_version": "^0.16.0",
            "_model_name": "LeafletTileLayerModel",
            "_view_count": null,
            "_view_module": "jupyter-leaflet",
            "_view_module_version": "^0.16.0",
            "_view_name": "LeafletTileLayerView",
            "attribution": "Google Earth Engine",
            "base": false,
            "bottom": true,
            "bounds": null,
            "detect_retina": false,
            "loading": false,
            "max_native_zoom": 18,
            "max_zoom": 24,
            "min_native_zoom": 0,
            "min_zoom": 0,
            "name": "classified",
            "no_wrap": false,
            "opacity": 1,
            "options": [
              "attribution",
              "bounds",
              "detect_retina",
              "max_native_zoom",
              "max_zoom",
              "min_native_zoom",
              "min_zoom",
              "no_wrap",
              "tile_size",
              "tms"
            ],
            "popup": null,
            "popup_max_height": null,
            "popup_max_width": 300,
            "popup_min_width": 50,
            "show_loading": false,
            "tile_size": 256,
            "tms": false,
            "url": "https://earthengine.googleapis.com/v1alpha/projects/earthengine-legacy/maps/cb1ddf3017d5864f9e5f992427b0b48b-e0ee22b43e59987c1bdb1e9ea844258a/tiles/{z}/{x}/{y}",
            "visible": true
          }
        },
        "44ea2a08b5b544e680ced7cb1834bbad": {
          "model_module": "jupyter-leaflet",
          "model_name": "LeafletTileLayerModel",
          "model_module_version": "^0.16.0",
          "state": {
            "_model_module": "jupyter-leaflet",
            "_model_module_version": "^0.16.0",
            "_model_name": "LeafletTileLayerModel",
            "_view_count": null,
            "_view_module": "jupyter-leaflet",
            "_view_module_version": "^0.16.0",
            "_view_name": "LeafletTileLayerView",
            "attribution": "Google Earth Engine",
            "base": false,
            "bottom": true,
            "bounds": null,
            "detect_retina": false,
            "loading": false,
            "max_native_zoom": 18,
            "max_zoom": 24,
            "min_native_zoom": 0,
            "min_zoom": 0,
            "name": "Land cover",
            "no_wrap": false,
            "opacity": 1,
            "options": [
              "attribution",
              "bounds",
              "detect_retina",
              "max_native_zoom",
              "max_zoom",
              "min_native_zoom",
              "min_zoom",
              "no_wrap",
              "tile_size",
              "tms"
            ],
            "popup": null,
            "popup_max_height": null,
            "popup_max_width": 300,
            "popup_min_width": 50,
            "show_loading": false,
            "tile_size": 256,
            "tms": false,
            "url": "https://earthengine.googleapis.com/v1alpha/projects/earthengine-legacy/maps/4aa0de8db2b24126aa4d86509ffdfec4-e54b2c9a1a526f62dfe3ccdbc25c0ff8/tiles/{z}/{x}/{y}",
            "visible": true
          }
        },
        "e4327b933b594b2cac1068e0c6395b3c": {
          "model_module": "@jupyter-widgets/controls",
          "model_name": "BoxModel",
          "model_module_version": "1.5.0",
          "state": {
            "_dom_classes": [],
            "_model_module": "@jupyter-widgets/controls",
            "_model_module_version": "1.5.0",
            "_model_name": "BoxModel",
            "_view_count": null,
            "_view_module": "@jupyter-widgets/controls",
            "_view_module_version": "1.5.0",
            "_view_name": "BoxView",
            "box_style": "",
            "children": [
              "IPY_MODEL_d8bde19768884135ab3527d85f25c7a5"
            ],
            "layout": "IPY_MODEL_9662b59f65f64a42a04a95624cb3488b"
          }
        },
        "d8bde19768884135ab3527d85f25c7a5": {
          "model_module": "@jupyter-widgets/controls",
          "model_name": "FloatSliderModel",
          "model_module_version": "1.5.0",
          "state": {
            "_dom_classes": [],
            "_model_module": "@jupyter-widgets/controls",
            "_model_module_version": "1.5.0",
            "_model_name": "FloatSliderModel",
            "_view_count": null,
            "_view_module": "@jupyter-widgets/controls",
            "_view_module_version": "1.5.0",
            "_view_name": "FloatSliderView",
            "continuous_update": true,
            "description": "opacity",
            "description_tooltip": null,
            "disabled": false,
            "layout": "IPY_MODEL_381dab805c3d48c18dfa019702701d86",
            "max": 1,
            "min": 0,
            "orientation": "horizontal",
            "readout": true,
            "readout_format": ".2f",
            "step": 0.1,
            "style": "IPY_MODEL_54a393580b1a4697865945f532530b0f",
            "value": 1
          }
        },
        "9662b59f65f64a42a04a95624cb3488b": {
          "model_module": "@jupyter-widgets/base",
          "model_name": "LayoutModel",
          "model_module_version": "1.2.0",
          "state": {
            "_model_module": "@jupyter-widgets/base",
            "_model_module_version": "1.2.0",
            "_model_name": "LayoutModel",
            "_view_count": null,
            "_view_module": "@jupyter-widgets/base",
            "_view_module_version": "1.2.0",
            "_view_name": "LayoutView",
            "align_content": null,
            "align_items": null,
            "align_self": null,
            "border": null,
            "bottom": null,
            "display": null,
            "flex": null,
            "flex_flow": null,
            "grid_area": null,
            "grid_auto_columns": null,
            "grid_auto_flow": null,
            "grid_auto_rows": null,
            "grid_column": null,
            "grid_gap": null,
            "grid_row": null,
            "grid_template_areas": null,
            "grid_template_columns": null,
            "grid_template_rows": null,
            "height": null,
            "justify_content": null,
            "justify_items": null,
            "left": null,
            "margin": null,
            "max_height": null,
            "max_width": null,
            "min_height": null,
            "min_width": null,
            "object_fit": null,
            "object_position": null,
            "order": null,
            "overflow": null,
            "overflow_x": null,
            "overflow_y": null,
            "padding": null,
            "right": null,
            "top": null,
            "visibility": null,
            "width": null
          }
        },
        "381dab805c3d48c18dfa019702701d86": {
          "model_module": "@jupyter-widgets/base",
          "model_name": "LayoutModel",
          "model_module_version": "1.2.0",
          "state": {
            "_model_module": "@jupyter-widgets/base",
            "_model_module_version": "1.2.0",
            "_model_name": "LayoutModel",
            "_view_count": null,
            "_view_module": "@jupyter-widgets/base",
            "_view_module_version": "1.2.0",
            "_view_name": "LayoutView",
            "align_content": null,
            "align_items": null,
            "align_self": null,
            "border": null,
            "bottom": null,
            "display": null,
            "flex": null,
            "flex_flow": null,
            "grid_area": null,
            "grid_auto_columns": null,
            "grid_auto_flow": null,
            "grid_auto_rows": null,
            "grid_column": null,
            "grid_gap": null,
            "grid_row": null,
            "grid_template_areas": null,
            "grid_template_columns": null,
            "grid_template_rows": null,
            "height": null,
            "justify_content": null,
            "justify_items": null,
            "left": null,
            "margin": null,
            "max_height": null,
            "max_width": null,
            "min_height": null,
            "min_width": null,
            "object_fit": null,
            "object_position": null,
            "order": null,
            "overflow": null,
            "overflow_x": null,
            "overflow_y": null,
            "padding": null,
            "right": null,
            "top": null,
            "visibility": null,
            "width": null
          }
        },
        "54a393580b1a4697865945f532530b0f": {
          "model_module": "@jupyter-widgets/controls",
          "model_name": "SliderStyleModel",
          "model_module_version": "1.5.0",
          "state": {
            "_model_module": "@jupyter-widgets/controls",
            "_model_module_version": "1.5.0",
            "_model_name": "SliderStyleModel",
            "_view_count": null,
            "_view_module": "@jupyter-widgets/base",
            "_view_module_version": "1.2.0",
            "_view_name": "StyleView",
            "description_width": "",
            "handle_color": null
          }
        }
      }
    }
  },
  "nbformat": 4,
  "nbformat_minor": 0
}